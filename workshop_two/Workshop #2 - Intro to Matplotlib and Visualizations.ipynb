{
 "cells": [
  {
   "cell_type": "markdown",
   "metadata": {},
   "source": [
    "This week we'll look on visualizing our data. Although numbers can tell us a satisfying story, a visual of our data will allow us to easily identify trends (and will look amazing on a presentation \\*hint\\* \\*hint\\*)."
   ]
  },
  {
   "cell_type": "code",
   "execution_count": 1,
   "metadata": {},
   "outputs": [],
   "source": [
    "%matplotlib inline\n",
    "#don't mind this. I'm just trying to double check you work :)\n",
    "def assertAns(condition, fail_str, suc_str):\n",
    "    assert condition, fail_str\n",
    "    print(suc_str)"
   ]
  },
  {
   "cell_type": "code",
   "execution_count": 213,
   "metadata": {},
   "outputs": [],
   "source": [
    "import numpy as np #Linear algebra\n",
    "import requests as req #Python's http library\n",
    "import re #Python's Regex library\n",
    "import pandas as pd #Python's data manipulation library\n",
    "import matplotlib.pyplot as plt #Python's graphing library\n",
    "import seaborn as sns #a graphing library for heatmaps"
   ]
  },
  {
   "cell_type": "markdown",
   "metadata": {},
   "source": [
    "Lets start by importing the dataframe from last week's workshop. (Remember the pickle command?)"
   ]
  },
  {
   "cell_type": "code",
   "execution_count": 3,
   "metadata": {},
   "outputs": [
    {
     "data": {
      "text/html": [
       "<div>\n",
       "<style>\n",
       "    .dataframe thead tr:only-child th {\n",
       "        text-align: right;\n",
       "    }\n",
       "\n",
       "    .dataframe thead th {\n",
       "        text-align: left;\n",
       "    }\n",
       "\n",
       "    .dataframe tbody tr th {\n",
       "        vertical-align: top;\n",
       "    }\n",
       "</style>\n",
       "<table border=\"1\" class=\"dataframe\">\n",
       "  <thead>\n",
       "    <tr style=\"text-align: right;\">\n",
       "      <th></th>\n",
       "      <th>id</th>\n",
       "      <th>name</th>\n",
       "      <th>date</th>\n",
       "      <th>rainfall</th>\n",
       "      <th>time</th>\n",
       "      <th>hour</th>\n",
       "    </tr>\n",
       "  </thead>\n",
       "  <tbody>\n",
       "    <tr>\n",
       "      <th>0</th>\n",
       "      <td>7677</td>\n",
       "      <td>RG_001</td>\n",
       "      <td>2017-06-01T00:00:00</td>\n",
       "      <td>0.0</td>\n",
       "      <td>00:00:00</td>\n",
       "      <td>00</td>\n",
       "    </tr>\n",
       "    <tr>\n",
       "      <th>1</th>\n",
       "      <td>7677</td>\n",
       "      <td>RG_001</td>\n",
       "      <td>2017-06-01T00:05:00</td>\n",
       "      <td>0.0</td>\n",
       "      <td>00:05:00</td>\n",
       "      <td>00</td>\n",
       "    </tr>\n",
       "    <tr>\n",
       "      <th>2</th>\n",
       "      <td>7677</td>\n",
       "      <td>RG_001</td>\n",
       "      <td>2017-06-01T00:10:00</td>\n",
       "      <td>0.0</td>\n",
       "      <td>00:10:00</td>\n",
       "      <td>00</td>\n",
       "    </tr>\n",
       "    <tr>\n",
       "      <th>3</th>\n",
       "      <td>7677</td>\n",
       "      <td>RG_001</td>\n",
       "      <td>2017-06-01T00:15:00</td>\n",
       "      <td>0.0</td>\n",
       "      <td>00:15:00</td>\n",
       "      <td>00</td>\n",
       "    </tr>\n",
       "    <tr>\n",
       "      <th>4</th>\n",
       "      <td>7677</td>\n",
       "      <td>RG_001</td>\n",
       "      <td>2017-06-01T00:20:00</td>\n",
       "      <td>0.0</td>\n",
       "      <td>00:20:00</td>\n",
       "      <td>00</td>\n",
       "    </tr>\n",
       "  </tbody>\n",
       "</table>\n",
       "</div>"
      ],
      "text/plain": [
       "     id    name                 date  rainfall      time hour\n",
       "0  7677  RG_001  2017-06-01T00:00:00       0.0  00:00:00   00\n",
       "1  7677  RG_001  2017-06-01T00:05:00       0.0  00:05:00   00\n",
       "2  7677  RG_001  2017-06-01T00:10:00       0.0  00:10:00   00\n",
       "3  7677  RG_001  2017-06-01T00:15:00       0.0  00:15:00   00\n",
       "4  7677  RG_001  2017-06-01T00:20:00       0.0  00:20:00   00"
      ]
     },
     "execution_count": 3,
     "metadata": {},
     "output_type": "execute_result"
    }
   ],
   "source": [
    "timeHourRainfallDF = pd.read_pickle(\"../saved_dataframes/workshop1RainfallDF\")\n",
    "timeHourRainfallDF.head()"
   ]
  },
  {
   "cell_type": "markdown",
   "metadata": {},
   "source": [
    "MatplotLib is a useful library to view your data as a graph. This is a pretty expansive library and includes basically all types of graphs known to man (and most definately everything you've learned in a stats course).\n",
    "\n",
    "Lets start by plotting the amount of rain by the time of day.\n",
    "\n",
    "We'll start off by making two arrays, one to represent the x-values and the other the y-values."
   ]
  },
  {
   "cell_type": "code",
   "execution_count": 4,
   "metadata": {},
   "outputs": [],
   "source": [
    "x = timeHourRainfallDF[\"time\"].values #the values() function will return all the values of the column as a list\n",
    "y = timeHourRainfallDF[\"rainfall\"].values"
   ]
  },
  {
   "cell_type": "markdown",
   "metadata": {},
   "source": [
    "Now lets print out x and y to see how they look like"
   ]
  },
  {
   "cell_type": "code",
   "execution_count": 5,
   "metadata": {},
   "outputs": [
    {
     "name": "stdout",
     "output_type": "stream",
     "text": [
      "['00:00:00' '00:05:00' '00:10:00' ..., '23:50:00' '23:55:00' '00:00:00']\n",
      "[ 0.  0.  0. ...,  0.  0.  0.]\n"
     ]
    }
   ],
   "source": [
    "print(x)\n",
    "print(y)"
   ]
  },
  {
   "cell_type": "markdown",
   "metadata": {},
   "source": [
    "Hmmm that's annoying. If you notice, the 'x' values are all strings but matplotlib doesn't really like non-primitive types. We'll have to represent these strings with a continuous variable for matplotlib to plot the points."
   ]
  },
  {
   "cell_type": "code",
   "execution_count": 6,
   "metadata": {},
   "outputs": [],
   "source": [
    "uniqueTimes = x\n",
    "uniqueTimes = list(uniqueTimes)"
   ]
  },
  {
   "cell_type": "code",
   "execution_count": 7,
   "metadata": {},
   "outputs": [],
   "source": [
    "for index,row in timeHourRainfallDF.iterrows():\n",
    "    timeHourRainfallDF.set_value(index,'timeIndex', uniqueTimes.index(row[\"time\"]))"
   ]
  },
  {
   "cell_type": "code",
   "execution_count": 8,
   "metadata": {},
   "outputs": [
    {
     "data": {
      "text/html": [
       "<div>\n",
       "<style>\n",
       "    .dataframe thead tr:only-child th {\n",
       "        text-align: right;\n",
       "    }\n",
       "\n",
       "    .dataframe thead th {\n",
       "        text-align: left;\n",
       "    }\n",
       "\n",
       "    .dataframe tbody tr th {\n",
       "        vertical-align: top;\n",
       "    }\n",
       "</style>\n",
       "<table border=\"1\" class=\"dataframe\">\n",
       "  <thead>\n",
       "    <tr style=\"text-align: right;\">\n",
       "      <th></th>\n",
       "      <th>id</th>\n",
       "      <th>name</th>\n",
       "      <th>date</th>\n",
       "      <th>rainfall</th>\n",
       "      <th>time</th>\n",
       "      <th>hour</th>\n",
       "      <th>timeIndex</th>\n",
       "    </tr>\n",
       "  </thead>\n",
       "  <tbody>\n",
       "    <tr>\n",
       "      <th>0</th>\n",
       "      <td>7677</td>\n",
       "      <td>RG_001</td>\n",
       "      <td>2017-06-01T00:00:00</td>\n",
       "      <td>0.0</td>\n",
       "      <td>00:00:00</td>\n",
       "      <td>00</td>\n",
       "      <td>0.0</td>\n",
       "    </tr>\n",
       "    <tr>\n",
       "      <th>1</th>\n",
       "      <td>7677</td>\n",
       "      <td>RG_001</td>\n",
       "      <td>2017-06-01T00:05:00</td>\n",
       "      <td>0.0</td>\n",
       "      <td>00:05:00</td>\n",
       "      <td>00</td>\n",
       "      <td>1.0</td>\n",
       "    </tr>\n",
       "    <tr>\n",
       "      <th>2</th>\n",
       "      <td>7677</td>\n",
       "      <td>RG_001</td>\n",
       "      <td>2017-06-01T00:10:00</td>\n",
       "      <td>0.0</td>\n",
       "      <td>00:10:00</td>\n",
       "      <td>00</td>\n",
       "      <td>2.0</td>\n",
       "    </tr>\n",
       "    <tr>\n",
       "      <th>3</th>\n",
       "      <td>7677</td>\n",
       "      <td>RG_001</td>\n",
       "      <td>2017-06-01T00:15:00</td>\n",
       "      <td>0.0</td>\n",
       "      <td>00:15:00</td>\n",
       "      <td>00</td>\n",
       "      <td>3.0</td>\n",
       "    </tr>\n",
       "    <tr>\n",
       "      <th>4</th>\n",
       "      <td>7677</td>\n",
       "      <td>RG_001</td>\n",
       "      <td>2017-06-01T00:20:00</td>\n",
       "      <td>0.0</td>\n",
       "      <td>00:20:00</td>\n",
       "      <td>00</td>\n",
       "      <td>4.0</td>\n",
       "    </tr>\n",
       "  </tbody>\n",
       "</table>\n",
       "</div>"
      ],
      "text/plain": [
       "     id    name                 date  rainfall      time hour  timeIndex\n",
       "0  7677  RG_001  2017-06-01T00:00:00       0.0  00:00:00   00        0.0\n",
       "1  7677  RG_001  2017-06-01T00:05:00       0.0  00:05:00   00        1.0\n",
       "2  7677  RG_001  2017-06-01T00:10:00       0.0  00:10:00   00        2.0\n",
       "3  7677  RG_001  2017-06-01T00:15:00       0.0  00:15:00   00        3.0\n",
       "4  7677  RG_001  2017-06-01T00:20:00       0.0  00:20:00   00        4.0"
      ]
     },
     "execution_count": 8,
     "metadata": {},
     "output_type": "execute_result"
    }
   ],
   "source": [
    "timeHourRainfallDF.head()"
   ]
  },
  {
   "cell_type": "markdown",
   "metadata": {},
   "source": [
    "now lets overwrite our 'x' variable"
   ]
  },
  {
   "cell_type": "code",
   "execution_count": 9,
   "metadata": {},
   "outputs": [],
   "source": [
    "x = timeHourRainfallDF[\"timeIndex\"].values"
   ]
  },
  {
   "cell_type": "markdown",
   "metadata": {},
   "source": [
    "Now lets construct our graph."
   ]
  },
  {
   "cell_type": "code",
   "execution_count": 10,
   "metadata": {},
   "outputs": [
    {
     "data": {
      "text/plain": [
       "<matplotlib.collections.PathCollection at 0x7f2a08b05ba8>"
      ]
     },
     "execution_count": 10,
     "metadata": {},
     "output_type": "execute_result"
    },
    {
     "data": {
      "image/png": "[encoded data removed]",
      "text/plain": [
       "<matplotlib.figure.Figure at 0x7f2a087ecc88>"
      ]
     },
     "metadata": {},
     "output_type": "display_data"
    }
   ],
   "source": [
    "plt.scatter(x,y)"
   ]
  },
  {
   "cell_type": "markdown",
   "metadata": {},
   "source": [
    "Hmm that's a bit small. lets increase it"
   ]
  },
  {
   "cell_type": "markdown",
   "metadata": {},
   "source": [
    "We can also set lables for the table"
   ]
  },
  {
   "cell_type": "code",
   "execution_count": 215,
   "metadata": {},
   "outputs": [
    {
     "data": {
      "text/plain": [
       "<matplotlib.collections.PathCollection at 0x7f2a075afbe0>"
      ]
     },
     "execution_count": 215,
     "metadata": {},
     "output_type": "execute_result"
    },
    {
     "data": {
      "image/png": "[encoded data removed]",
      "text/plain": [
       "<matplotlib.figure.Figure at 0x7f2a097c0588>"
      ]
     },
     "metadata": {},
     "output_type": "display_data"
    }
   ],
   "source": [
    "plt.title('24-Hour Rainfall')\n",
    "plt.xlabel('Time of Day')\n",
    "plt.ylabel('Amount of Rainfall (mm?)')\n",
    "plt.scatter(x,y)"
   ]
  },
  {
   "cell_type": "code",
   "execution_count": 231,
   "metadata": {},
   "outputs": [
    {
     "data": {
      "text/plain": [
       "<matplotlib.collections.PathCollection at 0x7f299e313f98>"
      ]
     },
     "execution_count": 231,
     "metadata": {},
     "output_type": "execute_result"
    },
    {
     "data": {
      "image/png": "[encoded data removed]",
      "text/plain": [
       "<matplotlib.figure.Figure at 0x7f299e3a0940>"
      ]
     },
     "metadata": {},
     "output_type": "display_data"
    }
   ],
   "source": [
    "plt.title('24-Hour Rainfall')\n",
    "plt.xlabel('Time of Day')\n",
    "plt.ylabel('Amount of Rainfall (mm?)')\n",
    "plt.rcParams[\"figure.figsize\"] = \"18, 13\"\n",
    "plt.scatter(x,y)"
   ]
  },
  {
   "cell_type": "markdown",
   "metadata": {},
   "source": [
    "You can save your graphs by right-clicking on the image and select \"save as\". You can also preview ethem as larger images by righ-clicking and opening it in a new tab"
   ]
  },
  {
   "cell_type": "markdown",
   "metadata": {},
   "source": [
    "To be honest I wasn't expecting spikes as clear as the ones shown above. And that's the beauty of graphing! It allows you to visually see patterns you might miss. Here you can clearly see when it rains the most and least in Toronto."
   ]
  },
  {
   "cell_type": "markdown",
   "metadata": {},
   "source": [
    "One of my favourite things to do is to plot two different variables against each other and look at their correlation. This will allow us to see which variables seem to have a correlation matrix."
   ]
  },
  {
   "cell_type": "code",
   "execution_count": 12,
   "metadata": {},
   "outputs": [],
   "source": [
    "def plot_correlation_map( df ):\n",
    "    corr = df.corr()\n",
    "    _ , ax = plt.subplots( figsize =( 12 , 10 ) )\n",
    "    cmap = sns.diverging_palette( 220 , 10 , as_cmap = True )\n",
    "    _ = sns.heatmap(\n",
    "        corr, \n",
    "        cmap = cmap,\n",
    "        square=True, \n",
    "        cbar_kws={ 'shrink' : .9 }, \n",
    "        ax=ax, \n",
    "        annot = True, \n",
    "        annot_kws = { 'fontsize' : 12 })"
   ]
  },
  {
   "cell_type": "code",
   "execution_count": 13,
   "metadata": {
    "scrolled": false
   },
   "outputs": [
    {
     "data": {
      "image/png": "[encoded data removed]",
      "text/plain": [
       "<matplotlib.figure.Figure at 0x7f2a0765e080>"
      ]
     },
     "metadata": {},
     "output_type": "display_data"
    }
   ],
   "source": [
    "plot_correlation_map(timeHourRainfallDF)"
   ]
  },
  {
   "cell_type": "markdown",
   "metadata": {},
   "source": [
    "As expected most variables in our dataset doesn't really correlate with one another. Afterall, it's hard to see how rainfall will influence the time index. You will notice how every variable is 100% correlated with itself (which makes sense). To generate this correlation graph we were calculating the covariance against each variable. Something you can learn more about here: http://www.wikihow.com/Calculate-Covariance"
   ]
  },
  {
   "cell_type": "markdown",
   "metadata": {},
   "source": [
    "Now that we have some prerequsite knowledge on how to plot and graph in Python, lets try to visualize something more challenging. I want us to see, plotted on a map of Toronto, the largest downpours of rain each month avaiable in the dataset.\n",
    "\n",
    "Lets start by importing the data we want to use. "
   ]
  },
  {
   "cell_type": "code",
   "execution_count": 14,
   "metadata": {},
   "outputs": [],
   "source": [
    "datalist = []\n",
    "datalist.append(pd.read_csv(\"../2017_rainfall_data/rainfall201701.csv\"))\n",
    "datalist.append(pd.read_csv(\"../2017_rainfall_data/rainfall201702.csv\"))\n",
    "datalist.append(pd.read_csv(\"../2017_rainfall_data/rainfall201703.csv\"))\n",
    "datalist.append(pd.read_csv(\"../2017_rainfall_data/rainfall201704.csv\"))\n",
    "datalist.append(pd.read_csv(\"../2017_rainfall_data/rainfall201705.csv\"))\n",
    "datalist.append(pd.read_csv(\"../2017_rainfall_data/rainfall201706.csv\"))\n",
    "datalist.append(pd.read_csv(\"../2017_rainfall_data/sites201701.csv\"))\n",
    "datalist.append(pd.read_csv(\"../2017_rainfall_data/sites201702.csv\"))\n",
    "datalist.append(pd.read_csv(\"../2017_rainfall_data/sites201703.csv\"))\n",
    "datalist.append(pd.read_csv(\"../2017_rainfall_data/sites201704.csv\"))\n",
    "datalist.append(pd.read_csv(\"../2017_rainfall_data/sites201705.csv\"))\n",
    "datalist.append(pd.read_csv(\"../2017_rainfall_data/sites201706.csv\"))"
   ]
  },
  {
   "cell_type": "markdown",
   "metadata": {},
   "source": [
    "lets see what kind of data we've imported into our datalist"
   ]
  },
  {
   "cell_type": "code",
   "execution_count": 15,
   "metadata": {},
   "outputs": [
    {
     "data": {
      "text/html": [
       "<div>\n",
       "<style>\n",
       "    .dataframe thead tr:only-child th {\n",
       "        text-align: right;\n",
       "    }\n",
       "\n",
       "    .dataframe thead th {\n",
       "        text-align: left;\n",
       "    }\n",
       "\n",
       "    .dataframe tbody tr th {\n",
       "        vertical-align: top;\n",
       "    }\n",
       "</style>\n",
       "<table border=\"1\" class=\"dataframe\">\n",
       "  <thead>\n",
       "    <tr style=\"text-align: right;\">\n",
       "      <th></th>\n",
       "      <th>id</th>\n",
       "      <th>name</th>\n",
       "      <th>date</th>\n",
       "      <th>rainfall</th>\n",
       "    </tr>\n",
       "  </thead>\n",
       "  <tbody>\n",
       "    <tr>\n",
       "      <th>0</th>\n",
       "      <td>7687</td>\n",
       "      <td>RG_016</td>\n",
       "      <td>2017-01-01T00:00:00</td>\n",
       "      <td>0.0</td>\n",
       "    </tr>\n",
       "    <tr>\n",
       "      <th>1</th>\n",
       "      <td>7687</td>\n",
       "      <td>RG_016</td>\n",
       "      <td>2017-01-01T00:05:00</td>\n",
       "      <td>0.0</td>\n",
       "    </tr>\n",
       "    <tr>\n",
       "      <th>2</th>\n",
       "      <td>7687</td>\n",
       "      <td>RG_016</td>\n",
       "      <td>2017-01-01T00:10:00</td>\n",
       "      <td>0.0</td>\n",
       "    </tr>\n",
       "    <tr>\n",
       "      <th>3</th>\n",
       "      <td>7687</td>\n",
       "      <td>RG_016</td>\n",
       "      <td>2017-01-01T00:15:00</td>\n",
       "      <td>0.0</td>\n",
       "    </tr>\n",
       "    <tr>\n",
       "      <th>4</th>\n",
       "      <td>7687</td>\n",
       "      <td>RG_016</td>\n",
       "      <td>2017-01-01T00:20:00</td>\n",
       "      <td>0.0</td>\n",
       "    </tr>\n",
       "  </tbody>\n",
       "</table>\n",
       "</div>"
      ],
      "text/plain": [
       "     id    name                 date  rainfall\n",
       "0  7687  RG_016  2017-01-01T00:00:00       0.0\n",
       "1  7687  RG_016  2017-01-01T00:05:00       0.0\n",
       "2  7687  RG_016  2017-01-01T00:10:00       0.0\n",
       "3  7687  RG_016  2017-01-01T00:15:00       0.0\n",
       "4  7687  RG_016  2017-01-01T00:20:00       0.0"
      ]
     },
     "execution_count": 15,
     "metadata": {},
     "output_type": "execute_result"
    }
   ],
   "source": [
    "datalist[0].head()"
   ]
  },
  {
   "cell_type": "code",
   "execution_count": 16,
   "metadata": {},
   "outputs": [
    {
     "data": {
      "text/html": [
       "<div>\n",
       "<style>\n",
       "    .dataframe thead tr:only-child th {\n",
       "        text-align: right;\n",
       "    }\n",
       "\n",
       "    .dataframe thead th {\n",
       "        text-align: left;\n",
       "    }\n",
       "\n",
       "    .dataframe tbody tr th {\n",
       "        vertical-align: top;\n",
       "    }\n",
       "</style>\n",
       "<table border=\"1\" class=\"dataframe\">\n",
       "  <thead>\n",
       "    <tr style=\"text-align: right;\">\n",
       "      <th></th>\n",
       "      <th>id</th>\n",
       "      <th>name</th>\n",
       "      <th>date</th>\n",
       "      <th>rainfall</th>\n",
       "    </tr>\n",
       "  </thead>\n",
       "  <tbody>\n",
       "    <tr>\n",
       "      <th>0</th>\n",
       "      <td>7677</td>\n",
       "      <td>RG_001</td>\n",
       "      <td>2017-06-01T00:00:00</td>\n",
       "      <td>0.0</td>\n",
       "    </tr>\n",
       "    <tr>\n",
       "      <th>1</th>\n",
       "      <td>7677</td>\n",
       "      <td>RG_001</td>\n",
       "      <td>2017-06-01T00:05:00</td>\n",
       "      <td>0.0</td>\n",
       "    </tr>\n",
       "    <tr>\n",
       "      <th>2</th>\n",
       "      <td>7677</td>\n",
       "      <td>RG_001</td>\n",
       "      <td>2017-06-01T00:10:00</td>\n",
       "      <td>0.0</td>\n",
       "    </tr>\n",
       "    <tr>\n",
       "      <th>3</th>\n",
       "      <td>7677</td>\n",
       "      <td>RG_001</td>\n",
       "      <td>2017-06-01T00:15:00</td>\n",
       "      <td>0.0</td>\n",
       "    </tr>\n",
       "    <tr>\n",
       "      <th>4</th>\n",
       "      <td>7677</td>\n",
       "      <td>RG_001</td>\n",
       "      <td>2017-06-01T00:20:00</td>\n",
       "      <td>0.0</td>\n",
       "    </tr>\n",
       "  </tbody>\n",
       "</table>\n",
       "</div>"
      ],
      "text/plain": [
       "     id    name                 date  rainfall\n",
       "0  7677  RG_001  2017-06-01T00:00:00       0.0\n",
       "1  7677  RG_001  2017-06-01T00:05:00       0.0\n",
       "2  7677  RG_001  2017-06-01T00:10:00       0.0\n",
       "3  7677  RG_001  2017-06-01T00:15:00       0.0\n",
       "4  7677  RG_001  2017-06-01T00:20:00       0.0"
      ]
     },
     "execution_count": 16,
     "metadata": {},
     "output_type": "execute_result"
    }
   ],
   "source": [
    "datalist[5].head()"
   ]
  },
  {
   "cell_type": "code",
   "execution_count": 17,
   "metadata": {},
   "outputs": [
    {
     "data": {
      "text/html": [
       "<div>\n",
       "<style>\n",
       "    .dataframe thead tr:only-child th {\n",
       "        text-align: right;\n",
       "    }\n",
       "\n",
       "    .dataframe thead th {\n",
       "        text-align: left;\n",
       "    }\n",
       "\n",
       "    .dataframe tbody tr th {\n",
       "        vertical-align: top;\n",
       "    }\n",
       "</style>\n",
       "<table border=\"1\" class=\"dataframe\">\n",
       "  <thead>\n",
       "    <tr style=\"text-align: right;\">\n",
       "      <th></th>\n",
       "      <th>id</th>\n",
       "      <th>name</th>\n",
       "      <th>longitude</th>\n",
       "      <th>latitude</th>\n",
       "    </tr>\n",
       "  </thead>\n",
       "  <tbody>\n",
       "    <tr>\n",
       "      <th>0</th>\n",
       "      <td>7677</td>\n",
       "      <td>RG_001</td>\n",
       "      <td>-79.478112</td>\n",
       "      <td>43.647680</td>\n",
       "    </tr>\n",
       "    <tr>\n",
       "      <th>1</th>\n",
       "      <td>7678</td>\n",
       "      <td>RG_002</td>\n",
       "      <td>-79.443616</td>\n",
       "      <td>43.651196</td>\n",
       "    </tr>\n",
       "    <tr>\n",
       "      <th>2</th>\n",
       "      <td>7679</td>\n",
       "      <td>RG_003</td>\n",
       "      <td>-79.405094</td>\n",
       "      <td>43.656616</td>\n",
       "    </tr>\n",
       "    <tr>\n",
       "      <th>3</th>\n",
       "      <td>7680</td>\n",
       "      <td>RG_004</td>\n",
       "      <td>-79.402833</td>\n",
       "      <td>43.678343</td>\n",
       "    </tr>\n",
       "    <tr>\n",
       "      <th>4</th>\n",
       "      <td>7681</td>\n",
       "      <td>RG_006</td>\n",
       "      <td>-79.375101</td>\n",
       "      <td>43.661265</td>\n",
       "    </tr>\n",
       "  </tbody>\n",
       "</table>\n",
       "</div>"
      ],
      "text/plain": [
       "     id    name  longitude   latitude\n",
       "0  7677  RG_001 -79.478112  43.647680\n",
       "1  7678  RG_002 -79.443616  43.651196\n",
       "2  7679  RG_003 -79.405094  43.656616\n",
       "3  7680  RG_004 -79.402833  43.678343\n",
       "4  7681  RG_006 -79.375101  43.661265"
      ]
     },
     "execution_count": 17,
     "metadata": {},
     "output_type": "execute_result"
    }
   ],
   "source": [
    "datalist[6].head()"
   ]
  },
  {
   "cell_type": "code",
   "execution_count": 18,
   "metadata": {},
   "outputs": [
    {
     "data": {
      "text/html": [
       "<div>\n",
       "<style>\n",
       "    .dataframe thead tr:only-child th {\n",
       "        text-align: right;\n",
       "    }\n",
       "\n",
       "    .dataframe thead th {\n",
       "        text-align: left;\n",
       "    }\n",
       "\n",
       "    .dataframe tbody tr th {\n",
       "        vertical-align: top;\n",
       "    }\n",
       "</style>\n",
       "<table border=\"1\" class=\"dataframe\">\n",
       "  <thead>\n",
       "    <tr style=\"text-align: right;\">\n",
       "      <th></th>\n",
       "      <th>id</th>\n",
       "      <th>name</th>\n",
       "      <th>longitude</th>\n",
       "      <th>latitude</th>\n",
       "    </tr>\n",
       "  </thead>\n",
       "  <tbody>\n",
       "    <tr>\n",
       "      <th>0</th>\n",
       "      <td>7677</td>\n",
       "      <td>RG_001</td>\n",
       "      <td>-79.478112</td>\n",
       "      <td>43.647680</td>\n",
       "    </tr>\n",
       "    <tr>\n",
       "      <th>1</th>\n",
       "      <td>7678</td>\n",
       "      <td>RG_002</td>\n",
       "      <td>-79.443616</td>\n",
       "      <td>43.651196</td>\n",
       "    </tr>\n",
       "    <tr>\n",
       "      <th>2</th>\n",
       "      <td>7679</td>\n",
       "      <td>RG_003</td>\n",
       "      <td>-79.405094</td>\n",
       "      <td>43.656616</td>\n",
       "    </tr>\n",
       "    <tr>\n",
       "      <th>3</th>\n",
       "      <td>7680</td>\n",
       "      <td>RG_004</td>\n",
       "      <td>-79.402833</td>\n",
       "      <td>43.678343</td>\n",
       "    </tr>\n",
       "    <tr>\n",
       "      <th>4</th>\n",
       "      <td>7681</td>\n",
       "      <td>RG_006</td>\n",
       "      <td>-79.375101</td>\n",
       "      <td>43.661265</td>\n",
       "    </tr>\n",
       "  </tbody>\n",
       "</table>\n",
       "</div>"
      ],
      "text/plain": [
       "     id    name  longitude   latitude\n",
       "0  7677  RG_001 -79.478112  43.647680\n",
       "1  7678  RG_002 -79.443616  43.651196\n",
       "2  7679  RG_003 -79.405094  43.656616\n",
       "3  7680  RG_004 -79.402833  43.678343\n",
       "4  7681  RG_006 -79.375101  43.661265"
      ]
     },
     "execution_count": 18,
     "metadata": {},
     "output_type": "execute_result"
    }
   ],
   "source": [
    "datalist[11].head()"
   ]
  },
  {
   "cell_type": "markdown",
   "metadata": {},
   "source": [
    "Since we imported the packages together, we know that 0-5 contain the rainfall data and 6-11 contain the geographical data.\n",
    "(We could also have inferred this from the code we used to import our data, but it's always good to check!)\n",
    "\n",
    "Lets combine the dataframes 0-5 into one giant rainfallDF and dataframes 6-11 into one giant geoDataDF"
   ]
  },
  {
   "cell_type": "code",
   "execution_count": 19,
   "metadata": {},
   "outputs": [],
   "source": [
    "rainfallDF = datalist[0].append(datalist[1]).append(datalist[2]).append(datalist[3]).append(datalist[4]).append(datalist[5])\n",
    "geoDataDF = datalist[6].append(datalist[7]).append(datalist[8]).append(datalist[9]).append(datalist[10]).append(datalist[11])"
   ]
  },
  {
   "cell_type": "markdown",
   "metadata": {},
   "source": [
    "Lets see how long each df is"
   ]
  },
  {
   "cell_type": "code",
   "execution_count": 20,
   "metadata": {},
   "outputs": [
    {
     "name": "stdout",
     "output_type": "stream",
     "text": [
      "length of rainfallDF: 1807014\n",
      "length of geoDataDF: 276\n"
     ]
    }
   ],
   "source": [
    "print(\"length of rainfallDF: \" + str(len(rainfallDF)))\n",
    "print(\"length of geoDataDF: \" + str(len(geoDataDF)))"
   ]
  },
  {
   "cell_type": "markdown",
   "metadata": {},
   "source": [
    "It looks like these two dataframes describes different datasets (because the number of rows don't match up).\n",
    "\n",
    "But lets print the number of unique ids that each dataset contains. If they have the same number of unique names then we'll know they'll describe the same number of elements."
   ]
  },
  {
   "cell_type": "code",
   "execution_count": 21,
   "metadata": {},
   "outputs": [
    {
     "name": "stdout",
     "output_type": "stream",
     "text": [
      "length of unique station names in rainfallDF: 45\n",
      "length of unique ids in geoDataDF: 46\n"
     ]
    }
   ],
   "source": [
    "print(\"length of unique station names in rainfallDF: \" + str(len(rainfallDF[\"name\"].unique())))\n",
    "print(\"length of unique ids in geoDataDF: \" + str(len(geoDataDF[\"name\"].unique())))"
   ]
  },
  {
   "cell_type": "markdown",
   "metadata": {},
   "source": [
    "It seems like there is one more station location described in the geoDataDF than in the rainfallDF. This probably means that a new station was built but no readings have been recorded yet. Nonetheless, we have enough station locations to correspond each rainfall reading with the location from which it was read from. You may have noticed that every name in the geoDataDF describes the location of one geo station. Each station has many readings and their readings are recorded in the rainfallDF.\n",
    "\n",
    "Now that we have a better understanding of the data within our two datasets, lets try to match up every rainfall reading with the lat lon of every station. This will give each rainfall reading a coordinate which we can use to plot on a map!\n",
    "\n",
    "We'll the pandas join command to join the dataframes in the \"name\" column"
   ]
  },
  {
   "cell_type": "code",
   "execution_count": 22,
   "metadata": {},
   "outputs": [
    {
     "data": {
      "text/html": [
       "<div>\n",
       "<style>\n",
       "    .dataframe thead tr:only-child th {\n",
       "        text-align: right;\n",
       "    }\n",
       "\n",
       "    .dataframe thead th {\n",
       "        text-align: left;\n",
       "    }\n",
       "\n",
       "    .dataframe tbody tr th {\n",
       "        vertical-align: top;\n",
       "    }\n",
       "</style>\n",
       "<table border=\"1\" class=\"dataframe\">\n",
       "  <thead>\n",
       "    <tr style=\"text-align: right;\">\n",
       "      <th></th>\n",
       "      <th>id_x</th>\n",
       "      <th>name</th>\n",
       "      <th>date</th>\n",
       "      <th>rainfall</th>\n",
       "      <th>id_y</th>\n",
       "      <th>longitude</th>\n",
       "      <th>latitude</th>\n",
       "    </tr>\n",
       "  </thead>\n",
       "  <tbody>\n",
       "    <tr>\n",
       "      <th>0</th>\n",
       "      <td>7687.0</td>\n",
       "      <td>RG_016</td>\n",
       "      <td>2017-01-01T00:00:00</td>\n",
       "      <td>0.0</td>\n",
       "      <td>7687</td>\n",
       "      <td>-79.520366</td>\n",
       "      <td>43.608125</td>\n",
       "    </tr>\n",
       "    <tr>\n",
       "      <th>1</th>\n",
       "      <td>7687.0</td>\n",
       "      <td>RG_016</td>\n",
       "      <td>2017-01-01T00:00:00</td>\n",
       "      <td>0.0</td>\n",
       "      <td>7687</td>\n",
       "      <td>-79.520366</td>\n",
       "      <td>43.608125</td>\n",
       "    </tr>\n",
       "    <tr>\n",
       "      <th>2</th>\n",
       "      <td>7687.0</td>\n",
       "      <td>RG_016</td>\n",
       "      <td>2017-01-01T00:00:00</td>\n",
       "      <td>0.0</td>\n",
       "      <td>7687</td>\n",
       "      <td>-79.520366</td>\n",
       "      <td>43.608125</td>\n",
       "    </tr>\n",
       "    <tr>\n",
       "      <th>3</th>\n",
       "      <td>7687.0</td>\n",
       "      <td>RG_016</td>\n",
       "      <td>2017-01-01T00:00:00</td>\n",
       "      <td>0.0</td>\n",
       "      <td>7687</td>\n",
       "      <td>-79.520366</td>\n",
       "      <td>43.608125</td>\n",
       "    </tr>\n",
       "    <tr>\n",
       "      <th>4</th>\n",
       "      <td>7687.0</td>\n",
       "      <td>RG_016</td>\n",
       "      <td>2017-01-01T00:00:00</td>\n",
       "      <td>0.0</td>\n",
       "      <td>7687</td>\n",
       "      <td>-79.520366</td>\n",
       "      <td>43.608125</td>\n",
       "    </tr>\n",
       "  </tbody>\n",
       "</table>\n",
       "</div>"
      ],
      "text/plain": [
       "     id_x    name                 date  rainfall  id_y  longitude   latitude\n",
       "0  7687.0  RG_016  2017-01-01T00:00:00       0.0  7687 -79.520366  43.608125\n",
       "1  7687.0  RG_016  2017-01-01T00:00:00       0.0  7687 -79.520366  43.608125\n",
       "2  7687.0  RG_016  2017-01-01T00:00:00       0.0  7687 -79.520366  43.608125\n",
       "3  7687.0  RG_016  2017-01-01T00:00:00       0.0  7687 -79.520366  43.608125\n",
       "4  7687.0  RG_016  2017-01-01T00:00:00       0.0  7687 -79.520366  43.608125"
      ]
     },
     "execution_count": 22,
     "metadata": {},
     "output_type": "execute_result"
    }
   ],
   "source": [
    "geoRainfallDFPoorColumns = rainfallDF.merge(geoDataDF, left_on='name', right_on='name', how='outer')\n",
    "geoRainfallDFPoorColumns.head()"
   ]
  },
  {
   "cell_type": "code",
   "execution_count": 23,
   "metadata": {
    "scrolled": true
   },
   "outputs": [
    {
     "data": {
      "text/html": [
       "<div>\n",
       "<style>\n",
       "    .dataframe thead tr:only-child th {\n",
       "        text-align: right;\n",
       "    }\n",
       "\n",
       "    .dataframe thead th {\n",
       "        text-align: left;\n",
       "    }\n",
       "\n",
       "    .dataframe tbody tr th {\n",
       "        vertical-align: top;\n",
       "    }\n",
       "</style>\n",
       "<table border=\"1\" class=\"dataframe\">\n",
       "  <thead>\n",
       "    <tr style=\"text-align: right;\">\n",
       "      <th></th>\n",
       "      <th>name</th>\n",
       "      <th>date</th>\n",
       "      <th>rainfall</th>\n",
       "      <th>id_y</th>\n",
       "      <th>longitude</th>\n",
       "      <th>latitude</th>\n",
       "    </tr>\n",
       "  </thead>\n",
       "  <tbody>\n",
       "    <tr>\n",
       "      <th>0</th>\n",
       "      <td>RG_016</td>\n",
       "      <td>2017-01-01T00:00:00</td>\n",
       "      <td>0.0</td>\n",
       "      <td>7687</td>\n",
       "      <td>-79.520366</td>\n",
       "      <td>43.608125</td>\n",
       "    </tr>\n",
       "    <tr>\n",
       "      <th>1</th>\n",
       "      <td>RG_016</td>\n",
       "      <td>2017-01-01T00:00:00</td>\n",
       "      <td>0.0</td>\n",
       "      <td>7687</td>\n",
       "      <td>-79.520366</td>\n",
       "      <td>43.608125</td>\n",
       "    </tr>\n",
       "    <tr>\n",
       "      <th>2</th>\n",
       "      <td>RG_016</td>\n",
       "      <td>2017-01-01T00:00:00</td>\n",
       "      <td>0.0</td>\n",
       "      <td>7687</td>\n",
       "      <td>-79.520366</td>\n",
       "      <td>43.608125</td>\n",
       "    </tr>\n",
       "    <tr>\n",
       "      <th>3</th>\n",
       "      <td>RG_016</td>\n",
       "      <td>2017-01-01T00:00:00</td>\n",
       "      <td>0.0</td>\n",
       "      <td>7687</td>\n",
       "      <td>-79.520366</td>\n",
       "      <td>43.608125</td>\n",
       "    </tr>\n",
       "    <tr>\n",
       "      <th>4</th>\n",
       "      <td>RG_016</td>\n",
       "      <td>2017-01-01T00:00:00</td>\n",
       "      <td>0.0</td>\n",
       "      <td>7687</td>\n",
       "      <td>-79.520366</td>\n",
       "      <td>43.608125</td>\n",
       "    </tr>\n",
       "  </tbody>\n",
       "</table>\n",
       "</div>"
      ],
      "text/plain": [
       "     name                 date  rainfall  id_y  longitude   latitude\n",
       "0  RG_016  2017-01-01T00:00:00       0.0  7687 -79.520366  43.608125\n",
       "1  RG_016  2017-01-01T00:00:00       0.0  7687 -79.520366  43.608125\n",
       "2  RG_016  2017-01-01T00:00:00       0.0  7687 -79.520366  43.608125\n",
       "3  RG_016  2017-01-01T00:00:00       0.0  7687 -79.520366  43.608125\n",
       "4  RG_016  2017-01-01T00:00:00       0.0  7687 -79.520366  43.608125"
      ]
     },
     "execution_count": 23,
     "metadata": {},
     "output_type": "execute_result"
    }
   ],
   "source": [
    "geoRainfallDFPoorColumns.drop(['id_x'], axis = 1, inplace = True, errors = 'ignore')\n",
    "# errors = 'ignore' means that if the id_x column doesn't exist this won't error\n",
    "geoRainfallDFPoorColumns.head()"
   ]
  },
  {
   "cell_type": "markdown",
   "metadata": {},
   "source": [
    "Since we're going to use this dataframe for one more workshop, lets fix up the columns, specifically id_y. Lets rename it to just id and move this column to the left most index of the dataframe. "
   ]
  },
  {
   "cell_type": "code",
   "execution_count": 24,
   "metadata": {},
   "outputs": [
    {
     "data": {
      "text/html": [
       "<div>\n",
       "<style>\n",
       "    .dataframe thead tr:only-child th {\n",
       "        text-align: right;\n",
       "    }\n",
       "\n",
       "    .dataframe thead th {\n",
       "        text-align: left;\n",
       "    }\n",
       "\n",
       "    .dataframe tbody tr th {\n",
       "        vertical-align: top;\n",
       "    }\n",
       "</style>\n",
       "<table border=\"1\" class=\"dataframe\">\n",
       "  <thead>\n",
       "    <tr style=\"text-align: right;\">\n",
       "      <th></th>\n",
       "      <th>id</th>\n",
       "      <th>name</th>\n",
       "      <th>date</th>\n",
       "      <th>rainfall</th>\n",
       "      <th>longitude</th>\n",
       "      <th>latitude</th>\n",
       "    </tr>\n",
       "  </thead>\n",
       "  <tbody>\n",
       "    <tr>\n",
       "      <th>0</th>\n",
       "      <td>7687</td>\n",
       "      <td>RG_016</td>\n",
       "      <td>2017-01-01T00:00:00</td>\n",
       "      <td>0.0</td>\n",
       "      <td>-79.520366</td>\n",
       "      <td>43.608125</td>\n",
       "    </tr>\n",
       "    <tr>\n",
       "      <th>1</th>\n",
       "      <td>7687</td>\n",
       "      <td>RG_016</td>\n",
       "      <td>2017-01-01T00:00:00</td>\n",
       "      <td>0.0</td>\n",
       "      <td>-79.520366</td>\n",
       "      <td>43.608125</td>\n",
       "    </tr>\n",
       "    <tr>\n",
       "      <th>2</th>\n",
       "      <td>7687</td>\n",
       "      <td>RG_016</td>\n",
       "      <td>2017-01-01T00:00:00</td>\n",
       "      <td>0.0</td>\n",
       "      <td>-79.520366</td>\n",
       "      <td>43.608125</td>\n",
       "    </tr>\n",
       "    <tr>\n",
       "      <th>3</th>\n",
       "      <td>7687</td>\n",
       "      <td>RG_016</td>\n",
       "      <td>2017-01-01T00:00:00</td>\n",
       "      <td>0.0</td>\n",
       "      <td>-79.520366</td>\n",
       "      <td>43.608125</td>\n",
       "    </tr>\n",
       "    <tr>\n",
       "      <th>4</th>\n",
       "      <td>7687</td>\n",
       "      <td>RG_016</td>\n",
       "      <td>2017-01-01T00:00:00</td>\n",
       "      <td>0.0</td>\n",
       "      <td>-79.520366</td>\n",
       "      <td>43.608125</td>\n",
       "    </tr>\n",
       "  </tbody>\n",
       "</table>\n",
       "</div>"
      ],
      "text/plain": [
       "     id    name                 date  rainfall  longitude   latitude\n",
       "0  7687  RG_016  2017-01-01T00:00:00       0.0 -79.520366  43.608125\n",
       "1  7687  RG_016  2017-01-01T00:00:00       0.0 -79.520366  43.608125\n",
       "2  7687  RG_016  2017-01-01T00:00:00       0.0 -79.520366  43.608125\n",
       "3  7687  RG_016  2017-01-01T00:00:00       0.0 -79.520366  43.608125\n",
       "4  7687  RG_016  2017-01-01T00:00:00       0.0 -79.520366  43.608125"
      ]
     },
     "execution_count": 24,
     "metadata": {},
     "output_type": "execute_result"
    }
   ],
   "source": [
    "#this makes it so that if your decide to re-run this cell then the columns will still be \"disorganized\"\n",
    "geoRainfallDF = geoRainfallDFPoorColumns\n",
    "\n",
    "#lets set the name of the columns\n",
    "geoRainfallDF.columns = ['name', 'date', 'rainfall', 'id', 'longitude', 'latitude']\n",
    "\n",
    "#lets re-roder the id column (looks familiar?)\n",
    "geoRainfallDF = geoRainfallDF[['id', 'name', 'date', 'rainfall', 'longitude', 'latitude']]\n",
    "geoRainfallDF.head()"
   ]
  },
  {
   "cell_type": "markdown",
   "metadata": {},
   "source": [
    "Since we're going to be using this dataframe in later notebooks, lets save it as a dataframe."
   ]
  },
  {
   "cell_type": "code",
   "execution_count": 25,
   "metadata": {},
   "outputs": [],
   "source": [
    "geoRainfallDF.to_pickle(\"../saved_dataframes/geoRainfallDF\")"
   ]
  },
  {
   "cell_type": "markdown",
   "metadata": {},
   "source": [
    "Now lets plot the actual points on a map to see which parts of Toronto experiences the most rain!\n",
    "\n",
    "First off, I never really wanted to use the Matplotlib mapping library to show you how to create maps because frankly it's pretty ugly and hard to work with. However after days of struggling with other sub-par mapping libraries I'm going to go back and show you how to map your data in Matplotlib. Simply because there are a lot more resources for Matplotlib maps. I rarely envy R but I have to admit that their graphing libraries are a lot better than Python's.\n",
    "\n",
    "So without further adeau, lets start!\n",
    "\n",
    "Although Python has many great mapping libraries from Plotly, gmaps, or even Basemap, we'll be using Folium because it merges the best of asthetics, startup speed, and complexity.\n",
    "\n",
    "Folium is a project that builds ontop of the fantastic mapping library leaflet. For comparison, I personally think it's prettier and easier to setup than google maps.\n",
    "\n",
    "Folium: https://github.com/python-visualization/folium\n",
    "\n",
    "Leaflet: https://github.com/Leaflet/Leaflet\n",
    "\n",
    "So lets download Folium!"
   ]
  },
  {
   "cell_type": "code",
   "execution_count": 26,
   "metadata": {},
   "outputs": [
    {
     "name": "stdout",
     "output_type": "stream",
     "text": [
      "Requirement already satisfied: folium in /home/splacorn/miniconda3/lib/python3.6/site-packages\n",
      "Requirement already satisfied: six in /home/splacorn/miniconda3/lib/python3.6/site-packages (from folium)\n",
      "Requirement already satisfied: jinja2 in /home/splacorn/miniconda3/lib/python3.6/site-packages (from folium)\n",
      "Requirement already satisfied: branca in /home/splacorn/miniconda3/lib/python3.6/site-packages (from folium)\n",
      "Requirement already satisfied: requests in /home/splacorn/miniconda3/lib/python3.6/site-packages (from folium)\n",
      "Requirement already satisfied: MarkupSafe>=0.23 in /home/splacorn/miniconda3/lib/python3.6/site-packages (from jinja2->folium)\n"
     ]
    }
   ],
   "source": [
    "!pip install folium\n",
    "import folium"
   ]
  },
  {
   "cell_type": "markdown",
   "metadata": {},
   "source": [
    "Lets see how it looks like"
   ]
  },
  {
   "cell_type": "code",
   "execution_count": 44,
   "metadata": {},
   "outputs": [
    {
     "data": {
      "text/html": [
       "<div style=\"width:100%;\"><div style=\"position:relative;width:100%;height:0;padding-bottom:60%;\"><iframe src=\"data:text/html;charset=utf-8;base64,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\" style=\"position:absolute;width:100%;height:100%;left:0;top:0;border:none !important;\" allowfullscreen webkitallowfullscreen mozallowfullscreen></iframe></div></div>"
      ],
      "text/plain": [
       "<folium.folium.Map at 0x7f2a034043c8>"
      ]
     },
     "execution_count": 44,
     "metadata": {},
     "output_type": "execute_result"
    }
   ],
   "source": [
    "m = folium.Map(location=[43.6532, -79.3832], zoom_start=12) # for those of you wondering those are Toronto's lat lons\n",
    "m"
   ]
  },
  {
   "cell_type": "markdown",
   "metadata": {},
   "source": [
    "That looks pretty nice! You can also place points on a map. Try clicking on them!"
   ]
  },
  {
   "cell_type": "code",
   "execution_count": 46,
   "metadata": {},
   "outputs": [
    {
     "data": {
      "text/html": [
       "<div style=\"width:100%;\"><div style=\"position:relative;width:100%;height:0;padding-bottom:60%;\"><iframe src=\"data:text/html;charset=utf-8;base64,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\" style=\"position:absolute;width:100%;height:100%;left:0;top:0;border:none !important;\" allowfullscreen webkitallowfullscreen mozallowfullscreen></iframe></div></div>"
      ],
      "text/plain": [
       "<folium.folium.Map at 0x7f2a034043c8>"
      ]
     },
     "execution_count": 46,
     "metadata": {},
     "output_type": "execute_result"
    }
   ],
   "source": [
    "folium.Marker([43.6426, -79.3871], popup='<i>CN Tower</i>').add_to(m)\n",
    "folium.Marker([43.6677, -79.3948], popup='<b>Royal Ontario Museum</b>').add_to(m)\n",
    "m"
   ]
  },
  {
   "cell_type": "markdown",
   "metadata": {},
   "source": [
    "Obviously we cannot place pins down for every single reading (because all we would see are pins). Lets instead make a heatmap of all the readings."
   ]
  },
  {
   "cell_type": "code",
   "execution_count": 31,
   "metadata": {},
   "outputs": [
    {
     "data": {
      "text/plain": [
       "10842090"
      ]
     },
     "execution_count": 31,
     "metadata": {},
     "output_type": "execute_result"
    }
   ],
   "source": [
    "len(geoRainfallDF)"
   ]
  },
  {
   "cell_type": "markdown",
   "metadata": {},
   "source": [
    "Whoa that's a lot of rows! My computer would most likely explode if I displayed 10 million points on a map. Lets try to sample 1000 rows of this data to make it easier on our computers."
   ]
  },
  {
   "cell_type": "code",
   "execution_count": 135,
   "metadata": {},
   "outputs": [],
   "source": [
    "smallerDF = geoRainfallDF.sample(1000)"
   ]
  },
  {
   "cell_type": "markdown",
   "metadata": {},
   "source": [
    "On the topic of size reduction, you can use this same trick when running predictions on your data. That is because machine learning algorithms will usually see diminishing returns when taking in more and more data. So it's best to find the best algorithm/parameters before running it on your full dataset. Anyway, lets plot this on a heatmap!"
   ]
  },
  {
   "cell_type": "code",
   "execution_count": 206,
   "metadata": {
    "scrolled": true
   },
   "outputs": [
    {
     "data": {
      "text/plain": [
       "<folium.plugins.heat_map.HeatMap at 0x7f2a09c59438>"
      ]
     },
     "execution_count": 206,
     "metadata": {},
     "output_type": "execute_result"
    }
   ],
   "source": [
    "from folium.plugins import HeatMap\n",
    "\n",
    "m2 = folium.Map(location=[43.6532, -79.3832], zoom_start=12)\n",
    "latlons = smallerDF[[\"latitude\",\"longitude\"]].values\n",
    "latlons = latlons.tolist() #this needs to be a python list\n",
    "HeatMap(latlons).add_to(m2)"
   ]
  },
  {
   "cell_type": "markdown",
   "metadata": {},
   "source": [
    "Note: it might take a while to display it on a map"
   ]
  },
  {
   "cell_type": "code",
   "execution_count": 137,
   "metadata": {},
   "outputs": [
    {
     "data": {
      "text/html": [
       "<div style=\"width:100%;\"><div style=\"position:relative;width:100%;height:0;padding-bottom:60%;\"><iframe src=\"data:text/html;charset=utf-8;base64,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\" style=\"position:absolute;width:100%;height:100%;left:0;top:0;border:none !important;\" allowfullscreen webkitallowfullscreen mozallowfullscreen></iframe></div></div>"
      ],
      "text/plain": [
       "<folium.folium.Map at 0x7f2a0aa7cfd0>"
      ]
     },
     "execution_count": 137,
     "metadata": {},
     "output_type": "execute_result"
    }
   ],
   "source": [
    "m2"
   ]
  },
  {
   "cell_type": "markdown",
   "metadata": {},
   "source": [
    "hmm notice how the points are clustering to specific spots on the map? Since we are displaying the readings for 100 or so locations, all the points of each loLetscation will lie directly on top of each other... Not very informative.\n",
    "\n",
    "Most heatmap libraries will display  the heat of every location based each location's \"hotness\" in relation to the rest of the image. In essence, the larger the percentage of heat, the \"hotter\" an area appears. With this in mind, try zooming into the map on a cluster of points. You can see how certain blobs turn lighter and maybe some will even turn red. This is because the heatmap will disregard the irrelevant plots (because you zoomed  in). Now each individual reading will weigh more and thus, some might turn brighter. If you zoom in and look at only one point, it'll most certainly turn bright red because all of the points visible on screen is on that point.\n",
    "\n",
    "In your own analyses, if your points are constantly red, then you might want to sample a smaller subset of your dataset to make the heatmap more sensitive to vairations (counts of points in an area)."
   ]
  },
  {
   "cell_type": "markdown",
   "metadata": {},
   "source": [
    "Now I'm going to show you how to display points on a map as a circle instead of \"pins\". Lets plot every lat lon of every station as a blue dot"
   ]
  },
  {
   "cell_type": "markdown",
   "metadata": {},
   "source": [
    "lets the lat longs of each station from the 201706 file\n"
   ]
  },
  {
   "cell_type": "code",
   "execution_count": 145,
   "metadata": {},
   "outputs": [
    {
     "data": {
      "text/html": [
       "<div>\n",
       "<style>\n",
       "    .dataframe thead tr:only-child th {\n",
       "        text-align: right;\n",
       "    }\n",
       "\n",
       "    .dataframe thead th {\n",
       "        text-align: left;\n",
       "    }\n",
       "\n",
       "    .dataframe tbody tr th {\n",
       "        vertical-align: top;\n",
       "    }\n",
       "</style>\n",
       "<table border=\"1\" class=\"dataframe\">\n",
       "  <thead>\n",
       "    <tr style=\"text-align: right;\">\n",
       "      <th></th>\n",
       "      <th>id</th>\n",
       "      <th>name</th>\n",
       "      <th>longitude</th>\n",
       "      <th>latitude</th>\n",
       "    </tr>\n",
       "  </thead>\n",
       "  <tbody>\n",
       "    <tr>\n",
       "      <th>0</th>\n",
       "      <td>7677</td>\n",
       "      <td>RG_001</td>\n",
       "      <td>-79.478112</td>\n",
       "      <td>43.647680</td>\n",
       "    </tr>\n",
       "    <tr>\n",
       "      <th>1</th>\n",
       "      <td>7678</td>\n",
       "      <td>RG_002</td>\n",
       "      <td>-79.443616</td>\n",
       "      <td>43.651196</td>\n",
       "    </tr>\n",
       "    <tr>\n",
       "      <th>2</th>\n",
       "      <td>7679</td>\n",
       "      <td>RG_003</td>\n",
       "      <td>-79.405094</td>\n",
       "      <td>43.656616</td>\n",
       "    </tr>\n",
       "    <tr>\n",
       "      <th>3</th>\n",
       "      <td>7680</td>\n",
       "      <td>RG_004</td>\n",
       "      <td>-79.402833</td>\n",
       "      <td>43.678343</td>\n",
       "    </tr>\n",
       "    <tr>\n",
       "      <th>4</th>\n",
       "      <td>7681</td>\n",
       "      <td>RG_006</td>\n",
       "      <td>-79.375101</td>\n",
       "      <td>43.661265</td>\n",
       "    </tr>\n",
       "  </tbody>\n",
       "</table>\n",
       "</div>"
      ],
      "text/plain": [
       "     id    name  longitude   latitude\n",
       "0  7677  RG_001 -79.478112  43.647680\n",
       "1  7678  RG_002 -79.443616  43.651196\n",
       "2  7679  RG_003 -79.405094  43.656616\n",
       "3  7680  RG_004 -79.402833  43.678343\n",
       "4  7681  RG_006 -79.375101  43.661265"
      ]
     },
     "execution_count": 145,
     "metadata": {},
     "output_type": "execute_result"
    }
   ],
   "source": [
    "stationLocations = pd.read_csv(\"../2017_rainfall_data/sites201706.csv\")\n",
    "stationLocations.head()"
   ]
  },
  {
   "cell_type": "code",
   "execution_count": 204,
   "metadata": {},
   "outputs": [],
   "source": [
    "m3 = folium.Map(location=[43.6532, -79.3832], zoom_start=12)\n",
    "for index,row in stationLocations.iterrows():\n",
    "    folium.CircleMarker((row[\"latitude\"],row[\"longitude\"]),radius=2,color='red',fill=True).add_to(m3)\n",
    "#note you can change params of the circle like so:\n",
    "\n",
    "#folium.CircleMarker(latlons,\n",
    "#                    radius=500,\n",
    "#                    popup='Station',\n",
    "#                    color='#3186cc',\n",
    "#                    fill_color='#3186cc',\n",
    "#                   ).add_to(m3)"
   ]
  },
  {
   "cell_type": "code",
   "execution_count": 205,
   "metadata": {},
   "outputs": [
    {
     "data": {
      "text/html": [
       "<div style=\"width:100%;\"><div style=\"position:relative;width:100%;height:0;padding-bottom:60%;\"><iframe src=\"data:text/html;charset=utf-8;base64,PCFET0NUWVBFIGh0bWw+CjxoZWFkPiAgICAKICAgIDxtZXRhIGh0dHAtZXF1aXY9ImNvbnRlbnQtdHlwZSIgY29udGVudD0idGV4dC9odG1sOyBjaGFyc2V0PVVURi04IiAvPgogICAgPHNjcmlwdD5MX1BSRUZFUl9DQU5WQVMgPSBmYWxzZTsgTF9OT19UT1VDSCA9IGZhbHNlOyBMX0RJU0FCTEVfM0QgPSBmYWxzZTs8L3NjcmlwdD4KICAgIDxzY3JpcHQgc3JjPSJodHRwczovL2Nkbi5qc2RlbGl2ci5uZXQvbnBtL2xlYWZsZXRAMS4yLjAvZGlzdC9sZWFmbGV0LmpzIj48L3NjcmlwdD4KICAgIDxzY3JpcHQgc3JjPSJodHRwczovL2FqYXguZ29vZ2xlYXBpcy5jb20vYWpheC9saWJzL2pxdWVyeS8xLjExLjEvanF1ZXJ5Lm1pbi5qcyI+PC9zY3JpcHQ+CiAgICA8c2NyaXB0IHNyYz0iaHR0cHM6Ly9tYXhjZG4uYm9vdHN0cmFwY2RuLmNvbS9ib290c3RyYXAvMy4yLjAvanMvYm9vdHN0cmFwLm1pbi5qcyI+PC9zY3JpcHQ+CiAgICA8c2NyaXB0IHNyYz0iaHR0cHM6Ly9jZG5qcy5jbG91ZGZsYXJlLmNvbS9hamF4L2xpYnMvTGVhZmxldC5hd2Vzb21lLW1hcmtlcnMvMi4wLjIvbGVhZmxldC5hd2Vzb21lLW1hcmtlcnMuanMiPjwvc2NyaXB0PgogICAgPGxpbmsgcmVsPSJzdHlsZXNoZWV0IiBocmVmPSJodHRwczovL2Nkbi5qc2RlbGl2ci5uZXQvbnBtL2xlYWZsZXRAMS4yLjAvZGlzdC9sZWFmbGV0LmNzcyIgLz4KICAgIDxsaW5rIHJlbD0ic3R5bGVzaGVldCIgaHJlZj0iaHR0cHM6Ly9tYXhjZG4uYm9vdHN0cmFwY2RuLmNvbS9ib290c3RyYXAvMy4yLjAvY3NzL2Jvb3RzdHJhcC5taW4uY3NzIiAvPgogICAgPGxpbmsgcmVsPSJzdHlsZXNoZWV0IiBocmVmPSJodHRwczovL21heGNkbi5ib290c3RyYXBjZG4uY29tL2Jvb3RzdHJhcC8zLjIuMC9jc3MvYm9vdHN0cmFwLXRoZW1lLm1pbi5jc3MiIC8+CiAgICA8bGluayByZWw9InN0eWxlc2hlZXQiIGhyZWY9Imh0dHBzOi8vbWF4Y2RuLmJvb3RzdHJhcGNkbi5jb20vZm9udC1hd2Vzb21lLzQuNi4zL2Nzcy9mb250LWF3ZXNvbWUubWluLmNzcyIgLz4KICAgIDxsaW5rIHJlbD0ic3R5bGVzaGVldCIgaHJlZj0iaHR0cHM6Ly9jZG5qcy5jbG91ZGZsYXJlLmNvbS9hamF4L2xpYnMvTGVhZmxldC5hd2Vzb21lLW1hcmtlcnMvMi4wLjIvbGVhZmxldC5hd2Vzb21lLW1hcmtlcnMuY3NzIiAvPgogICAgPGxpbmsgcmVsPSJzdHlsZXNoZWV0IiBocmVmPSJodHRwczovL3Jhd2dpdC5jb20vcHl0aG9uLXZpc3VhbGl6YXRpb24vZm9saXVtL21hc3Rlci9mb2xpdW0vdGVtcGxhdGVzL2xlYWZsZXQuYXdlc29tZS5yb3RhdGUuY3NzIiAvPgogICAgPHN0eWxlPmh0bWwsIGJvZHkge3dpZHRoOiAxMDAlO2hlaWdodDogMTAwJTttYXJnaW46IDA7cGFkZGluZzogMDt9PC9zdHlsZT4KICAgIDxzdHlsZT4jbWFwIHtwb3NpdGlvbjphYnNvbHV0ZTt0b3A6MDtib3R0b206MDtyaWdodDowO2xlZnQ6MDt9PC9zdHlsZT4KICAgIAogICAgICAgICAgICA8c3R5bGU+ICNtYXBfYmVkYjg0MmZhOWRkNGRmNDkxNTdlNzE4ZGY0YzY2YzAgewogICAgICAgICAgICAgICAgcG9zaXRpb24gOiByZWxhdGl2ZTsKICAgICAgICAgICAgICAgIHdpZHRoIDogMTAwLjAlOwogICAgICAgICAgICAgICAgaGVpZ2h0OiAxMDAuMCU7CiAgICAgICAgICAgICAgICBsZWZ0OiAwLjAlOwogICAgICAgICAgICAgICAgdG9wOiAwLjAlOwogICAgICAgICAgICAgICAgfQogICAgICAgICAgICA8L3N0eWxlPgogICAgICAgIAo8L2hlYWQ+Cjxib2R5PiAgICAKICAgIAogICAgICAgICAgICA8ZGl2IGNsYXNzPSJmb2xpdW0tbWFwIiBpZD0ibWFwX2JlZGI4NDJmYTlkZDRkZjQ5MTU3ZTcxOGRmNGM2NmMwIiA+PC9kaXY+CiAgICAgICAgCjwvYm9keT4KPHNjcmlwdD4gICAgCiAgICAKCiAgICAgICAgICAgIAogICAgICAgICAgICAgICAgdmFyIGJvdW5kcyA9IG51bGw7CiAgICAgICAgICAgIAoKICAgICAgICAgICAgdmFyIG1hcF9iZWRiODQyZmE5ZGQ0ZGY0OTE1N2U3MThkZjRjNjZjMCA9IEwubWFwKAogICAgICAgICAgICAgICAgICAgICAgICAgICAgICAgICAgJ21hcF9iZWRiODQyZmE5ZGQ0ZGY0OTE1N2U3MThkZjRjNjZjMCcsCiAgICAgICAgICAgICAgICAgICAgICAgICAgICAgICAgICB7Y2VudGVyOiBbNDMuNjUzMiwtNzkuMzgzMl0sCiAgICAgICAgICAgICAgICAgICAgICAgICAgICAgICAgICB6b29tOiAxMiwKICAgICAgICAgICAgICAgICAgICAgICAgICAgICAgICAgIG1heEJvdW5kczogYm91bmRzLAogICAgICAgICAgICAgICAgICAgICAgICAgICAgICAgICAgbGF5ZXJzOiBbXSwKICAgICAgICAgICAgICAgICAgICAgICAgICAgICAgICAgIHdvcmxkQ29weUp1bXA6IGZhbHNlLAogICAgICAgICAgICAgICAgICAgICAgICAgICAgICAgICAgY3JzOiBMLkNSUy5FUFNHMzg1NwogICAgICAgICAgICAgICAgICAgICAgICAgICAgICAgICB9KTsKICAgICAgICAgICAgCiAgICAgICAgCiAgICAKICAgICAgICAgICAgdmFyIHRpbGVfbGF5ZXJfY2Y1ZTgyNGJkOWNjNDY0MGIyZmZlODM2ODg4NDUwNjYgPSBMLnRpbGVMYXllcigKICAgICAgICAgICAgICAgICdodHRwczovL3tzfS50aWxlLm9wZW5zdHJlZXRtYXAub3JnL3t6fS97eH0ve3l9LnBuZycsCiAgICAgICAgICAgICAgICB7CiAgImF0dHJpYnV0aW9uIjogbnVsbCwKICAiZGV0ZWN0UmV0aW5hIjogZmFsc2UsCiAgIm1heFpvb20iOiAxOCwKICAibWluWm9vbSI6IDEsCiAgIm5vV3JhcCI6IGZhbHNlLAogICJzdWJkb21haW5zIjogImFiYyIKfQogICAgICAgICAgICAgICAgKS5hZGRUbyhtYXBfYmVkYjg0MmZhOWRkNGRmNDkxNTdlNzE4ZGY0YzY2YzApOwogICAgICAgIAogICAgCiAgICAgICAgICAgIHZhciBjaXJjbGVfbWFya2VyXzBjOGM1MzdlYjFmZDRmN2E4ODEyY2I5ODVhMWExNDQ0ID0gTC5jaXJjbGVNYXJrZXIoCiAgICAgICAgICAgICAgICBbNDMuNjQ3NjgwMywtNzkuNDc4MTEyMDk5OTk5OTldLAogICAgICAgICAgICAgICAgewogICJidWJibGluZ01vdXNlRXZlbnRzIjogdHJ1ZSwKICAiY29sb3IiOiAicmVkIiwKICAiZGFzaEFycmF5IjogbnVsbCwKICAiZGFzaE9mZnNldCI6IG51bGwsCiAgImZpbGwiOiB0cnVlLAogICJmaWxsQ29sb3IiOiAicmVkIiwKICAiZmlsbE9wYWNpdHkiOiAwLjIsCiAgImZpbGxSdWxlIjogImV2ZW5vZGQiLAogICJsaW5lQ2FwIjogInJvdW5kIiwKICAibGluZUpvaW4iOiAicm91bmQiLAogICJvcGFjaXR5IjogMS4wLAogICJyYWRpdXMiOiAyLAogICJzdHJva2UiOiB0cnVlLAogICJ3ZWlnaHQiOiAzCn0KICAgICAgICAgICAgICAgICkuYWRkVG8obWFwX2JlZGI4NDJmYTlkZDRkZjQ5MTU3ZTcxOGRmNGM2NmMwKTsKICAgICAgICAgICAgCiAgICAKICAgICAgICAgICAgdmFyIGNpcmNsZV9tYXJrZXJfOGNhMzVkZDlmYjVmNGViZTgyMDNlZGIyMjAyNDEwMDEgPSBMLmNpcmNsZU1hcmtlcigKICAgICAgICAgICAgICAgIFs0My42NTExOTYxLC03OS40NDM2MTU5MDAwMDAwMV0sCiAgICAgICAgICAgICAgICB7CiAgImJ1YmJsaW5nTW91c2VFdmVudHMiOiB0cnVlLAogICJjb2xvciI6ICJyZWQiLAogICJkYXNoQXJyYXkiOiBudWxsLAogICJkYXNoT2Zmc2V0IjogbnVsbCwKICAiZmlsbCI6IHRydWUsCiAgImZpbGxDb2xvciI6ICJyZWQiLAogICJmaWxsT3BhY2l0eSI6IDAuMiwKICAiZmlsbFJ1bGUiOiAiZXZlbm9kZCIsCiAgImxpbmVDYXAiOiAicm91bmQiLAogICJsaW5lSm9pbiI6ICJyb3VuZCIsCiAgIm9wYWNpdHkiOiAxLjAsCiAgInJhZGl1cyI6IDIsCiAgInN0cm9rZSI6IHRydWUsCiAgIndlaWdodCI6IDMKfQogICAgICAgICAgICAgICAgKS5hZGRUbyhtYXBfYmVkYjg0MmZhOWRkNGRmNDkxNTdlNzE4ZGY0YzY2YzApOwogICAgICAgICAgICAKICAgIAogICAgICAgICAgICB2YXIgY2lyY2xlX21hcmtlcl8zYWZiZmJhN2Y3MzA0OWFhOTU1NmI3ZWQyYzY2ZmEyYyA9IEwuY2lyY2xlTWFya2VyKAogICAgICAgICAgICAgICAgWzQzLjY1NjYxNTUsLTc5LjQwNTA5NDFdLAogICAgICAgICAgICAgICAgewogICJidWJibGluZ01vdXNlRXZlbnRzIjogdHJ1ZSwKICAiY29sb3IiOiAicmVkIiwKICAiZGFzaEFycmF5IjogbnVsbCwKICAiZGFzaE9mZnNldCI6IG51bGwsCiAgImZpbGwiOiB0cnVlLAogICJmaWxsQ29sb3IiOiAicmVkIiwKICAiZmlsbE9wYWNpdHkiOiAwLjIsCiAgImZpbGxSdWxlIjogImV2ZW5vZGQiLAogICJsaW5lQ2FwIjogInJvdW5kIiwKICAibGluZUpvaW4iOiAicm91bmQiLAogICJvcGFjaXR5IjogMS4wLAogICJyYWRpdXMiOiAyLAogICJzdHJva2UiOiB0cnVlLAogICJ3ZWlnaHQiOiAzCn0KICAgICAgICAgICAgICAgICkuYWRkVG8obWFwX2JlZGI4NDJmYTlkZDRkZjQ5MTU3ZTcxOGRmNGM2NmMwKTsKICAgICAgICAgICAgCiAgICAKICAgICAgICAgICAgdmFyIGNpcmNsZV9tYXJrZXJfYTU0NjY3NzBhMjlmNDBhNTkxNTUyMTcxY2ViNDQ5OWMgPSBMLmNpcmNsZU1hcmtlcigKICAgICAgICAgICAgICAgIFs0My42NzgzNDMsLTc5LjQwMjgzMzJdLAogICAgICAgICAgICAgICAgewogICJidWJibGluZ01vdXNlRXZlbnRzIjogdHJ1ZSwKICAiY29sb3IiOiAicmVkIiwKICAiZGFzaEFycmF5IjogbnVsbCwKICAiZGFzaE9mZnNldCI6IG51bGwsCiAgImZpbGwiOiB0cnVlLAogICJmaWxsQ29sb3IiOiAicmVkIiwKICAiZmlsbE9wYWNpdHkiOiAwLjIsCiAgImZpbGxSdWxlIjogImV2ZW5vZGQiLAogICJsaW5lQ2FwIjogInJvdW5kIiwKICAibGluZUpvaW4iOiAicm91bmQiLAogICJvcGFjaXR5IjogMS4wLAogICJyYWRpdXMiOiAyLAogICJzdHJva2UiOiB0cnVlLAogICJ3ZWlnaHQiOiAzCn0KICAgICAgICAgICAgICAgICkuYWRkVG8obWFwX2JlZGI4NDJmYTlkZDRkZjQ5MTU3ZTcxOGRmNGM2NmMwKTsKICAgICAgICAgICAgCiAgICAKICAgICAgICAgICAgdmFyIGNpcmNsZV9tYXJrZXJfZGNjNGQ1YTE1M2M0NGNmZWI3ZThlYzdmNThmYWNjNzUgPSBMLmNpcmNsZU1hcmtlcigKICAgICAgICAgICAgICAgIFs0My42NjEyNjUzLC03OS4zNzUxMDFdLAogICAgICAgICAgICAgICAgewogICJidWJibGluZ01vdXNlRXZlbnRzIjogdHJ1ZSwKICAiY29sb3IiOiAicmVkIiwKICAiZGFzaEFycmF5IjogbnVsbCwKICAiZGFzaE9mZnNldCI6IG51bGwsCiAgImZpbGwiOiB0cnVlLAogICJmaWxsQ29sb3IiOiAicmVkIiwKICAiZmlsbE9wYWNpdHkiOiAwLjIsCiAgImZpbGxSdWxlIjogImV2ZW5vZGQiLAogICJsaW5lQ2FwIjogInJvdW5kIiwKICAibGluZUpvaW4iOiAicm91bmQiLAogICJvcGFjaXR5IjogMS4wLAogICJyYWRpdXMiOiAyLAogICJzdHJva2UiOiB0cnVlLAogICJ3ZWlnaHQiOiAzCn0KICAgICAgICAgICAgICAgICkuYWRkVG8obWFwX2JlZGI4NDJmYTlkZDRkZjQ5MTU3ZTcxOGRmNGM2NmMwKTsKICAgICAgICAgICAgCiAgICAKICAgICAgICAgICAgdmFyIGNpcmNsZV9tYXJrZXJfOWNmN2UzOTYwZGNlNGIzOWJjMzFkMzU3MzA3YzNjY2YgPSBMLmNpcmNsZU1hcmtlcigKICAgICAgICAgICAgICAgIFs0My42NzY3MjAxMywtNzkuMzMxMTQ0NzldLAogICAgICAgICAgICAgICAgewogICJidWJibGluZ01vdXNlRXZlbnRzIjogdHJ1ZSwKICAiY29sb3IiOiAicmVkIiwKICAiZGFzaEFycmF5IjogbnVsbCwKICAiZGFzaE9mZnNldCI6IG51bGwsCiAgImZpbGwiOiB0cnVlLAogICJmaWxsQ29sb3IiOiAicmVkIiwKICAiZmlsbE9wYWNpdHkiOiAwLjIsCiAgImZpbGxSdWxlIjogImV2ZW5vZGQiLAogICJsaW5lQ2FwIjogInJvdW5kIiwKICAibGluZUpvaW4iOiAicm91bmQiLAogICJvcGFjaXR5IjogMS4wLAogICJyYWRpdXMiOiAyLAogICJzdHJva2UiOiB0cnVlLAogICJ3ZWlnaHQiOiAzCn0KICAgICAgICAgICAgICAgICkuYWRkVG8obWFwX2JlZGI4NDJmYTlkZDRkZjQ5MTU3ZTcxOGRmNGM2NmMwKTsKICAgICAgICAgICAgCiAgICAKICAgICAgICAgICAgdmFyIGNpcmNsZV9tYXJrZXJfNWFkMjE2ZmE1NmQ1NDY3OGJhOTkzMTVjODU5ZjYxOGYgPSBMLmNpcmNsZU1hcmtlcigKICAgICAgICAgICAgICAgIFs0My43MzkyMTY2MDAwMDAwMDYsLTc5LjU4MTYzNjgyXSwKICAgICAgICAgICAgICAgIHsKICAiYnViYmxpbmdNb3VzZUV2ZW50cyI6IHRydWUsCiAgImNvbG9yIjogInJlZCIsCiAgImRhc2hBcnJheSI6IG51bGwsCiAgImRhc2hPZmZzZXQiOiBudWxsLAogICJmaWxsIjogdHJ1ZSwKICAiZmlsbENvbG9yIjogInJlZCIsCiAgImZpbGxPcGFjaXR5IjogMC4yLAogICJmaWxsUnVsZSI6ICJldmVub2RkIiwKICAibGluZUNhcCI6ICJyb3VuZCIsCiAgImxpbmVKb2luIjogInJvdW5kIiwKICAib3BhY2l0eSI6IDEuMCwKICAicmFkaXVzIjogMiwKICAic3Ryb2tlIjogdHJ1ZSwKICAid2VpZ2h0IjogMwp9CiAgICAgICAgICAgICAgICApLmFkZFRvKG1hcF9iZWRiODQyZmE5ZGQ0ZGY0OTE1N2U3MThkZjRjNjZjMCk7CiAgICAgICAgICAgIAogICAgCiAgICAgICAgICAgIHZhciBjaXJjbGVfbWFya2VyXzRiM2Y0MDljM2NlMDQwNDlhODhmMjM1YjRlZGI4YTRhID0gTC5jaXJjbGVNYXJrZXIoCiAgICAgICAgICAgICAgICBbNDMuNjk0OTE3MDcsLTc5LjU3MTkzNzY5OTk5OTk5XSwKICAgICAgICAgICAgICAgIHsKICAiYnViYmxpbmdNb3VzZUV2ZW50cyI6IHRydWUsCiAgImNvbG9yIjogInJlZCIsCiAgImRhc2hBcnJheSI6IG51bGwsCiAgImRhc2hPZmZzZXQiOiBudWxsLAogICJmaWxsIjogdHJ1ZSwKICAiZmlsbENvbG9yIjogInJlZCIsCiAgImZpbGxPcGFjaXR5IjogMC4yLAogICJmaWxsUnVsZSI6ICJldmVub2RkIiwKICAibGluZUNhcCI6ICJyb3VuZCIsCiAgImxpbmVKb2luIjogInJvdW5kIiwKICAib3BhY2l0eSI6IDEuMCwKICAicmFkaXVzIjogMiwKICAic3Ryb2tlIjogdHJ1ZSwKICAid2VpZ2h0IjogMwp9CiAgICAgICAgICAgICAgICApLmFkZFRvKG1hcF9iZWRiODQyZmE5ZGQ0ZGY0OTE1N2U3MThkZjRjNjZjMCk7CiAgICAgICAgICAgIAogICAgCiAgICAgICAgICAgIHZhciBjaXJjbGVfbWFya2VyX2Y3M2ZmYThkOGI2ZjQ3Mzk5ODdkMjYwMDkzYjJhM2VlID0gTC5jaXJjbGVNYXJrZXIoCiAgICAgICAgICAgICAgICBbNDMuNjgzNDMwNDYsLTc5LjU0MTQ3NDM1XSwKICAgICAgICAgICAgICAgIHsKICAiYnViYmxpbmdNb3VzZUV2ZW50cyI6IHRydWUsCiAgImNvbG9yIjogInJlZCIsCiAgImRhc2hBcnJheSI6IG51bGwsCiAgImRhc2hPZmZzZXQiOiBudWxsLAogICJmaWxsIjogdHJ1ZSwKICAiZmlsbENvbG9yIjogInJlZCIsCiAgImZpbGxPcGFjaXR5IjogMC4yLAogICJmaWxsUnVsZSI6ICJldmVub2RkIiwKICAibGluZUNhcCI6ICJyb3VuZCIsCiAgImxpbmVKb2luIjogInJvdW5kIiwKICAib3BhY2l0eSI6IDEuMCwKICAicmFkaXVzIjogMiwKICAic3Ryb2tlIjogdHJ1ZSwKICAid2VpZ2h0IjogMwp9CiAgICAgICAgICAgICAgICApLmFkZFRvKG1hcF9iZWRiODQyZmE5ZGQ0ZGY0OTE1N2U3MThkZjRjNjZjMCk7CiAgICAgICAgICAgIAogICAgCiAgICAgICAgICAgIHZhciBjaXJjbGVfbWFya2VyX2Y0NDhjNzAxZGZhNTRjZDVhMzE1NjNhMTgxZGVlY2M4ID0gTC5jaXJjbGVNYXJrZXIoCiAgICAgICAgICAgICAgICBbNDMuNjM4MDY0OTIsLTc5LjUyODI3NTAxXSwKICAgICAgICAgICAgICAgIHsKICAiYnViYmxpbmdNb3VzZUV2ZW50cyI6IHRydWUsCiAgImNvbG9yIjogInJlZCIsCiAgImRhc2hBcnJheSI6IG51bGwsCiAgImRhc2hPZmZzZXQiOiBudWxsLAogICJmaWxsIjogdHJ1ZSwKICAiZmlsbENvbG9yIjogInJlZCIsCiAgImZpbGxPcGFjaXR5IjogMC4yLAogICJmaWxsUnVsZSI6ICJldmVub2RkIiwKICAibGluZUNhcCI6ICJyb3VuZCIsCiAgImxpbmVKb2luIjogInJvdW5kIiwKICAib3BhY2l0eSI6IDEuMCwKICAicmFkaXVzIjogMiwKICAic3Ryb2tlIjogdHJ1ZSwKICAid2VpZ2h0IjogMwp9CiAgICAgICAgICAgICAgICApLmFkZFRvKG1hcF9iZWRiODQyZmE5ZGQ0ZGY0OTE1N2U3MThkZjRjNjZjMCk7CiAgICAgICAgICAgIAogICAgCiAgICAgICAgICAgIHZhciBjaXJjbGVfbWFya2VyX2ZhZTExYzIwMzNmZTQ4YmU4M2EyZjFiOGY0ZDk5ODQzID0gTC5jaXJjbGVNYXJrZXIoCiAgICAgICAgICAgICAgICBbNDMuNjA4MTI1MywtNzkuNTIwMzY2MjJdLAogICAgICAgICAgICAgICAgewogICJidWJibGluZ01vdXNlRXZlbnRzIjogdHJ1ZSwKICAiY29sb3IiOiAicmVkIiwKICAiZGFzaEFycmF5IjogbnVsbCwKICAiZGFzaE9mZnNldCI6IG51bGwsCiAgImZpbGwiOiB0cnVlLAogICJmaWxsQ29sb3IiOiAicmVkIiwKICAiZmlsbE9wYWNpdHkiOiAwLjIsCiAgImZpbGxSdWxlIjogImV2ZW5vZGQiLAogICJsaW5lQ2FwIjogInJvdW5kIiwKICAibGluZUpvaW4iOiAicm91bmQiLAogICJvcGFjaXR5IjogMS4wLAogICJyYWRpdXMiOiAyLAogICJzdHJva2UiOiB0cnVlLAogICJ3ZWlnaHQiOiAzCn0KICAgICAgICAgICAgICAgICkuYWRkVG8obWFwX2JlZGI4NDJmYTlkZDRkZjQ5MTU3ZTcxOGRmNGM2NmMwKTsKICAgICAgICAgICAgCiAgICAKICAgICAgICAgICAgdmFyIGNpcmNsZV9tYXJrZXJfYTExNDU1ODUzNTYwNGY4MjliMzMwMTA2OTVjYzdiODggPSBMLmNpcmNsZU1hcmtlcigKICAgICAgICAgICAgICAgIFs0My42OTczNTAzNDk4OTEyLC03OS40NjYwMjgwMjA2Njc3MV0sCiAgICAgICAgICAgICAgICB7CiAgImJ1YmJsaW5nTW91c2VFdmVudHMiOiB0cnVlLAogICJjb2xvciI6ICJyZWQiLAogICJkYXNoQXJyYXkiOiBudWxsLAogICJkYXNoT2Zmc2V0IjogbnVsbCwKICAiZmlsbCI6IHRydWUsCiAgImZpbGxDb2xvciI6ICJyZWQiLAogICJmaWxsT3BhY2l0eSI6IDAuMiwKICAiZmlsbFJ1bGUiOiAiZXZlbm9kZCIsCiAgImxpbmVDYXAiOiAicm91bmQiLAogICJsaW5lSm9pbiI6ICJyb3VuZCIsCiAgIm9wYWNpdHkiOiAxLjAsCiAgInJhZGl1cyI6IDIsCiAgInN0cm9rZSI6IHRydWUsCiAgIndlaWdodCI6IDMKfQogICAgICAgICAgICAgICAgKS5hZGRUbyhtYXBfYmVkYjg0MmZhOWRkNGRmNDkxNTdlNzE4ZGY0YzY2YzApOwogICAgICAgICAgICAKICAgIAogICAgICAgICAgICB2YXIgY2lyY2xlX21hcmtlcl84MmJiNjVlYWIyNDI0Y2M4YWVmYTE4MDMwYzhjNGNhOSA9IEwuY2lyY2xlTWFya2VyKAogICAgICAgICAgICAgICAgWzQzLjcwMzEzMzQ3NTIwMDAwNSwtNzkuMzQzMjgzOTA1OV0sCiAgICAgICAgICAgICAgICB7CiAgImJ1YmJsaW5nTW91c2VFdmVudHMiOiB0cnVlLAogICJjb2xvciI6ICJyZWQiLAogICJkYXNoQXJyYXkiOiBudWxsLAogICJkYXNoT2Zmc2V0IjogbnVsbCwKICAiZmlsbCI6IHRydWUsCiAgImZpbGxDb2xvciI6ICJyZWQiLAogICJmaWxsT3BhY2l0eSI6IDAuMiwKICAiZmlsbFJ1bGUiOiAiZXZlbm9kZCIsCiAgImxpbmVDYXAiOiAicm91bmQiLAogICJsaW5lSm9pbiI6ICJyb3VuZCIsCiAgIm9wYWNpdHkiOiAxLjAsCiAgInJhZGl1cyI6IDIsCiAgInN0cm9rZSI6IHRydWUsCiAgIndlaWdodCI6IDMKfQogICAgICAgICAgICAgICAgKS5hZGRUbyhtYXBfYmVkYjg0MmZhOWRkNGRmNDkxNTdlNzE4ZGY0YzY2YzApOwogICAgICAgICAgICAKICAgIAogICAgICAgICAgICB2YXIgY2lyY2xlX21hcmtlcl8xMDFlNzlmYjcyZmE0Y2JmYjAxODhkNzA0YzQwMTgxYSA9IEwuY2lyY2xlTWFya2VyKAogICAgICAgICAgICAgICAgWzQzLjc2NTIyNjg5MzkwMDAxLC03OS41MTg4Mzc1NzQ2XSwKICAgICAgICAgICAgICAgIHsKICAiYnViYmxpbmdNb3VzZUV2ZW50cyI6IHRydWUsCiAgImNvbG9yIjogInJlZCIsCiAgImRhc2hBcnJheSI6IG51bGwsCiAgImRhc2hPZmZzZXQiOiBudWxsLAogICJmaWxsIjogdHJ1ZSwKICAiZmlsbENvbG9yIjogInJlZCIsCiAgImZpbGxPcGFjaXR5IjogMC4yLAogICJmaWxsUnVsZSI6ICJldmVub2RkIiwKICAibGluZUNhcCI6ICJyb3VuZCIsCiAgImxpbmVKb2luIjogInJvdW5kIiwKICAib3BhY2l0eSI6IDEuMCwKICAicmFkaXVzIjogMiwKICAic3Ryb2tlIjogdHJ1ZSwKICAid2VpZ2h0IjogMwp9CiAgICAgICAgICAgICAgICApLmFkZFRvKG1hcF9iZWRiODQyZmE5ZGQ0ZGY0OTE1N2U3MThkZjRjNjZjMCk7CiAgICAgICAgICAgIAogICAgCiAgICAgICAgICAgIHZhciBjaXJjbGVfbWFya2VyX2Y1NWRkYTZkOTdiZjQwOTFhYzI1MzM1ZGU3NzBkZTk3ID0gTC5jaXJjbGVNYXJrZXIoCiAgICAgICAgICAgICAgICBbNDMuNzY5ODQ4MDksLTc5LjQ3MTYwNTcyXSwKICAgICAgICAgICAgICAgIHsKICAiYnViYmxpbmdNb3VzZUV2ZW50cyI6IHRydWUsCiAgImNvbG9yIjogInJlZCIsCiAgImRhc2hBcnJheSI6IG51bGwsCiAgImRhc2hPZmZzZXQiOiBudWxsLAogICJmaWxsIjogdHJ1ZSwKICAiZmlsbENvbG9yIjogInJlZCIsCiAgImZpbGxPcGFjaXR5IjogMC4yLAogICJmaWxsUnVsZSI6ICJldmVub2RkIiwKICAibGluZUNhcCI6ICJyb3VuZCIsCiAgImxpbmVKb2luIjogInJvdW5kIiwKICAib3BhY2l0eSI6IDEuMCwKICAicmFkaXVzIjogMiwKICAic3Ryb2tlIjogdHJ1ZSwKICAid2VpZ2h0IjogMwp9CiAgICAgICAgICAgICAgICApLmFkZFRvKG1hcF9iZWRiODQyZmE5ZGQ0ZGY0OTE1N2U3MThkZjRjNjZjMCk7CiAgICAgICAgICAgIAogICAgCiAgICAgICAgICAgIHZhciBjaXJjbGVfbWFya2VyXzhhOTFiZmM5ODE0NzRhYTBhZmNjYzZjNWJjNDcxZWYzID0gTC5jaXJjbGVNYXJrZXIoCiAgICAgICAgICAgICAgICBbNDMuNzU0NjU2MDMsLTc5LjU0ODg2MDE1XSwKICAgICAgICAgICAgICAgIHsKICAiYnViYmxpbmdNb3VzZUV2ZW50cyI6IHRydWUsCiAgImNvbG9yIjogInJlZCIsCiAgImRhc2hBcnJheSI6IG51bGwsCiAgImRhc2hPZmZzZXQiOiBudWxsLAogICJmaWxsIjogdHJ1ZSwKICAiZmlsbENvbG9yIjogInJlZCIsCiAgImZpbGxPcGFjaXR5IjogMC4yLAogICJmaWxsUnVsZSI6ICJldmVub2RkIiwKICAibGluZUNhcCI6ICJyb3VuZCIsCiAgImxpbmVKb2luIjogInJvdW5kIiwKICAib3BhY2l0eSI6IDEuMCwKICAicmFkaXVzIjogMiwKICAic3Ryb2tlIjogdHJ1ZSwKICAid2VpZ2h0IjogMwp9CiAgICAgICAgICAgICAgICApLmFkZFRvKG1hcF9iZWRiODQyZmE5ZGQ0ZGY0OTE1N2U3MThkZjRjNjZjMCk7CiAgICAgICAgICAgIAogICAgCiAgICAgICAgICAgIHZhciBjaXJjbGVfbWFya2VyXzZiZjBhNmU1MzJiYTQ2ODU4ZjkxZThjYTcwNzhjMjBmID0gTC5jaXJjbGVNYXJrZXIoCiAgICAgICAgICAgICAgICBbNDMuNzY5MDY1NTksLTc5LjM2NTE3NTY5XSwKICAgICAgICAgICAgICAgIHsKICAiYnViYmxpbmdNb3VzZUV2ZW50cyI6IHRydWUsCiAgImNvbG9yIjogInJlZCIsCiAgImRhc2hBcnJheSI6IG51bGwsCiAgImRhc2hPZmZzZXQiOiBudWxsLAogICJmaWxsIjogdHJ1ZSwKICAiZmlsbENvbG9yIjogInJlZCIsCiAgImZpbGxPcGFjaXR5IjogMC4yLAogICJmaWxsUnVsZSI6ICJldmVub2RkIiwKICAibGluZUNhcCI6ICJyb3VuZCIsCiAgImxpbmVKb2luIjogInJvdW5kIiwKICAib3BhY2l0eSI6IDEuMCwKICAicmFkaXVzIjogMiwKICAic3Ryb2tlIjogdHJ1ZSwKICAid2VpZ2h0IjogMwp9CiAgICAgICAgICAgICAgICApLmFkZFRvKG1hcF9iZWRiODQyZmE5ZGQ0ZGY0OTE1N2U3MThkZjRjNjZjMCk7CiAgICAgICAgICAgIAogICAgCiAgICAgICAgICAgIHZhciBjaXJjbGVfbWFya2VyX2I5ZGQxN2Y3ODc0NjQ1ODRiOGNiZTA3Mjk0Zjg3YWNkID0gTC5jaXJjbGVNYXJrZXIoCiAgICAgICAgICAgICAgICBbNDMuNzIzOTMyMjk5OTk5OTk0LC03OS4zMTM4NDc5MV0sCiAgICAgICAgICAgICAgICB7CiAgImJ1YmJsaW5nTW91c2VFdmVudHMiOiB0cnVlLAogICJjb2xvciI6ICJyZWQiLAogICJkYXNoQXJyYXkiOiBudWxsLAogICJkYXNoT2Zmc2V0IjogbnVsbCwKICAiZmlsbCI6IHRydWUsCiAgImZpbGxDb2xvciI6ICJyZWQiLAogICJmaWxsT3BhY2l0eSI6IDAuMiwKICAiZmlsbFJ1bGUiOiAiZXZlbm9kZCIsCiAgImxpbmVDYXAiOiAicm91bmQiLAogICJsaW5lSm9pbiI6ICJyb3VuZCIsCiAgIm9wYWNpdHkiOiAxLjAsCiAgInJhZGl1cyI6IDIsCiAgInN0cm9rZSI6IHRydWUsCiAgIndlaWdodCI6IDMKfQogICAgICAgICAgICAgICAgKS5hZGRUbyhtYXBfYmVkYjg0MmZhOWRkNGRmNDkxNTdlNzE4ZGY0YzY2YzApOwogICAgICAgICAgICAKICAgIAogICAgICAgICAgICB2YXIgY2lyY2xlX21hcmtlcl83ZDU3NDFhZjQ2ZTU0OTFhODE4ZWFhMTUzMTAyMTU3YiA9IEwuY2lyY2xlTWFya2VyKAogICAgICAgICAgICAgICAgWzQzLjcyMDM5NDIyLC03OS41MTM4MDg2MV0sCiAgICAgICAgICAgICAgICB7CiAgImJ1YmJsaW5nTW91c2VFdmVudHMiOiB0cnVlLAogICJjb2xvciI6ICJyZWQiLAogICJkYXNoQXJyYXkiOiBudWxsLAogICJkYXNoT2Zmc2V0IjogbnVsbCwKICAiZmlsbCI6IHRydWUsCiAgImZpbGxDb2xvciI6ICJyZWQiLAogICJmaWxsT3BhY2l0eSI6IDAuMiwKICAiZmlsbFJ1bGUiOiAiZXZlbm9kZCIsCiAgImxpbmVDYXAiOiAicm91bmQiLAogICJsaW5lSm9pbiI6ICJyb3VuZCIsCiAgIm9wYWNpdHkiOiAxLjAsCiAgInJhZGl1cyI6IDIsCiAgInN0cm9rZSI6IHRydWUsCiAgIndlaWdodCI6IDMKfQogICAgICAgICAgICAgICAgKS5hZGRUbyhtYXBfYmVkYjg0MmZhOWRkNGRmNDkxNTdlNzE4ZGY0YzY2YzApOwogICAgICAgICAgICAKICAgIAogICAgICAgICAgICB2YXIgY2lyY2xlX21hcmtlcl9lMjAxNzc3Y2VhZTc0N2QzODBlNDM0MmQ2ODRlNWIwMiA9IEwuY2lyY2xlTWFya2VyKAogICAgICAgICAgICAgICAgWzQzLjczMjUwNjQxLC03OS40NjU3MTU5M10sCiAgICAgICAgICAgICAgICB7CiAgImJ1YmJsaW5nTW91c2VFdmVudHMiOiB0cnVlLAogICJjb2xvciI6ICJyZWQiLAogICJkYXNoQXJyYXkiOiBudWxsLAogICJkYXNoT2Zmc2V0IjogbnVsbCwKICAiZmlsbCI6IHRydWUsCiAgImZpbGxDb2xvciI6ICJyZWQiLAogICJmaWxsT3BhY2l0eSI6IDAuMiwKICAiZmlsbFJ1bGUiOiAiZXZlbm9kZCIsCiAgImxpbmVDYXAiOiAicm91bmQiLAogICJsaW5lSm9pbiI6ICJyb3VuZCIsCiAgIm9wYWNpdHkiOiAxLjAsCiAgInJhZGl1cyI6IDIsCiAgInN0cm9rZSI6IHRydWUsCiAgIndlaWdodCI6IDMKfQogICAgICAgICAgICAgICAgKS5hZGRUbyhtYXBfYmVkYjg0MmZhOWRkNGRmNDkxNTdlNzE4ZGY0YzY2YzApOwogICAgICAgICAgICAKICAgIAogICAgICAgICAgICB2YXIgY2lyY2xlX21hcmtlcl8xMGNhNmZkZjI0MDk0ZWY0YmE0ZWUwOWM3NjMzZGE5ZCA9IEwuY2lyY2xlTWFya2VyKAogICAgICAgICAgICAgICAgWzQzLjc3NDQzOTkxLC03OS40MDg0MDkxOF0sCiAgICAgICAgICAgICAgICB7CiAgImJ1YmJsaW5nTW91c2VFdmVudHMiOiB0cnVlLAogICJjb2xvciI6ICJyZWQiLAogICJkYXNoQXJyYXkiOiBudWxsLAogICJkYXNoT2Zmc2V0IjogbnVsbCwKICAiZmlsbCI6IHRydWUsCiAgImZpbGxDb2xvciI6ICJyZWQiLAogICJmaWxsT3BhY2l0eSI6IDAuMiwKICAiZmlsbFJ1bGUiOiAiZXZlbm9kZCIsCiAgImxpbmVDYXAiOiAicm91bmQiLAogICJsaW5lSm9pbiI6ICJyb3VuZCIsCiAgIm9wYWNpdHkiOiAxLjAsCiAgInJhZGl1cyI6IDIsCiAgInN0cm9rZSI6IHRydWUsCiAgIndlaWdodCI6IDMKfQogICAgICAgICAgICAgICAgKS5hZGRUbyhtYXBfYmVkYjg0MmZhOWRkNGRmNDkxNTdlNzE4ZGY0YzY2YzApOwogICAgICAgICAgICAKICAgIAogICAgICAgICAgICB2YXIgY2lyY2xlX21hcmtlcl8zMTAwODFjMzdjYjg0ZGM5OTEzYjQ5YmU4ZmU2ZmNjMCA9IEwuY2lyY2xlTWFya2VyKAogICAgICAgICAgICAgICAgWzQzLjgwMDA5MzU4LC03OS4zNzEzNTcwN10sCiAgICAgICAgICAgICAgICB7CiAgImJ1YmJsaW5nTW91c2VFdmVudHMiOiB0cnVlLAogICJjb2xvciI6ICJyZWQiLAogICJkYXNoQXJyYXkiOiBudWxsLAogICJkYXNoT2Zmc2V0IjogbnVsbCwKICAiZmlsbCI6IHRydWUsCiAgImZpbGxDb2xvciI6ICJyZWQiLAogICJmaWxsT3BhY2l0eSI6IDAuMiwKICAiZmlsbFJ1bGUiOiAiZXZlbm9kZCIsCiAgImxpbmVDYXAiOiAicm91bmQiLAogICJsaW5lSm9pbiI6ICJyb3VuZCIsCiAgIm9wYWNpdHkiOiAxLjAsCiAgInJhZGl1cyI6IDIsCiAgInN0cm9rZSI6IHRydWUsCiAgIndlaWdodCI6IDMKfQogICAgICAgICAgICAgICAgKS5hZGRUbyhtYXBfYmVkYjg0MmZhOWRkNGRmNDkxNTdlNzE4ZGY0YzY2YzApOwogICAgICAgICAgICAKICAgIAogICAgICAgICAgICB2YXIgY2lyY2xlX21hcmtlcl8wM2VhZWMwYWU1MTM0Zjk0ODliNDJiY2QxMzI3MzAxNSA9IEwuY2lyY2xlTWFya2VyKAogICAgICAgICAgICAgICAgWzQzLjc1OTU2NjIsLTc5LjMyNjEyODJdLAogICAgICAgICAgICAgICAgewogICJidWJibGluZ01vdXNlRXZlbnRzIjogdHJ1ZSwKICAiY29sb3IiOiAicmVkIiwKICAiZGFzaEFycmF5IjogbnVsbCwKICAiZGFzaE9mZnNldCI6IG51bGwsCiAgImZpbGwiOiB0cnVlLAogICJmaWxsQ29sb3IiOiAicmVkIiwKICAiZmlsbE9wYWNpdHkiOiAwLjIsCiAgImZpbGxSdWxlIjogImV2ZW5vZGQiLAogICJsaW5lQ2FwIjogInJvdW5kIiwKICAibGluZUpvaW4iOiAicm91bmQiLAogICJvcGFjaXR5IjogMS4wLAogICJyYWRpdXMiOiAyLAogICJzdHJva2UiOiB0cnVlLAogICJ3ZWlnaHQiOiAzCn0KICAgICAgICAgICAgICAgICkuYWRkVG8obWFwX2JlZGI4NDJmYTlkZDRkZjQ5MTU3ZTcxOGRmNGM2NmMwKTsKICAgICAgICAgICAgCiAgICAKICAgICAgICAgICAgdmFyIGNpcmNsZV9tYXJrZXJfNGUxODE1NTBlNmQ5NDQ4ZmJlZTQ4ZmE0Y2E0MTExNTMgPSBMLmNpcmNsZU1hcmtlcigKICAgICAgICAgICAgICAgIFs0My44MTIzMzI5MSwtNzkuMzA1NTQ0MjddLAogICAgICAgICAgICAgICAgewogICJidWJibGluZ01vdXNlRXZlbnRzIjogdHJ1ZSwKICAiY29sb3IiOiAicmVkIiwKICAiZGFzaEFycmF5IjogbnVsbCwKICAiZGFzaE9mZnNldCI6IG51bGwsCiAgImZpbGwiOiB0cnVlLAogICJmaWxsQ29sb3IiOiAicmVkIiwKICAiZmlsbE9wYWNpdHkiOiAwLjIsCiAgImZpbGxSdWxlIjogImV2ZW5vZGQiLAogICJsaW5lQ2FwIjogInJvdW5kIiwKICAibGluZUpvaW4iOiAicm91bmQiLAogICJvcGFjaXR5IjogMS4wLAogICJyYWRpdXMiOiAyLAogICJzdHJva2UiOiB0cnVlLAogICJ3ZWlnaHQiOiAzCn0KICAgICAgICAgICAgICAgICkuYWRkVG8obWFwX2JlZGI4NDJmYTlkZDRkZjQ5MTU3ZTcxOGRmNGM2NmMwKTsKICAgICAgICAgICAgCiAgICAKICAgICAgICAgICAgdmFyIGNpcmNsZV9tYXJrZXJfOWVkMTkzNWMzM2ViNDdhNGE0ZGVlOGE0ZmZjOThjYWIgPSBMLmNpcmNsZU1hcmtlcigKICAgICAgICAgICAgICAgIFs0My44MTg0NDYzMywtNzkuMjU3MjUxNTFdLAogICAgICAgICAgICAgICAgewogICJidWJibGluZ01vdXNlRXZlbnRzIjogdHJ1ZSwKICAiY29sb3IiOiAicmVkIiwKICAiZGFzaEFycmF5IjogbnVsbCwKICAiZGFzaE9mZnNldCI6IG51bGwsCiAgImZpbGwiOiB0cnVlLAogICJmaWxsQ29sb3IiOiAicmVkIiwKICAiZmlsbE9wYWNpdHkiOiAwLjIsCiAgImZpbGxSdWxlIjogImV2ZW5vZGQiLAogICJsaW5lQ2FwIjogInJvdW5kIiwKICAibGluZUpvaW4iOiAicm91bmQiLAogICJvcGFjaXR5IjogMS4wLAogICJyYWRpdXMiOiAyLAogICJzdHJva2UiOiB0cnVlLAogICJ3ZWlnaHQiOiAzCn0KICAgICAgICAgICAgICAgICkuYWRkVG8obWFwX2JlZGI4NDJmYTlkZDRkZjQ5MTU3ZTcxOGRmNGM2NmMwKTsKICAgICAgICAgICAgCiAgICAKICAgICAgICAgICAgdmFyIGNpcmNsZV9tYXJrZXJfYjNiNjkwYmE2NGUzNDM1Y2JiNGVmYzE5MWJhZTQ0YjggPSBMLmNpcmNsZU1hcmtlcigKICAgICAgICAgICAgICAgIFs0My43Njk3MzgxMSwtNzkuMjcyNDQ1NTZdLAogICAgICAgICAgICAgICAgewogICJidWJibGluZ01vdXNlRXZlbnRzIjogdHJ1ZSwKICAiY29sb3IiOiAicmVkIiwKICAiZGFzaEFycmF5IjogbnVsbCwKICAiZGFzaE9mZnNldCI6IG51bGwsCiAgImZpbGwiOiB0cnVlLAogICJmaWxsQ29sb3IiOiAicmVkIiwKICAiZmlsbE9wYWNpdHkiOiAwLjIsCiAgImZpbGxSdWxlIjogImV2ZW5vZGQiLAogICJsaW5lQ2FwIjogInJvdW5kIiwKICAibGluZUpvaW4iOiAicm91bmQiLAogICJvcGFjaXR5IjogMS4wLAogICJyYWRpdXMiOiAyLAogICJzdHJva2UiOiB0cnVlLAogICJ3ZWlnaHQiOiAzCn0KICAgICAgICAgICAgICAgICkuYWRkVG8obWFwX2JlZGI4NDJmYTlkZDRkZjQ5MTU3ZTcxOGRmNGM2NmMwKTsKICAgICAgICAgICAgCiAgICAKICAgICAgICAgICAgdmFyIGNpcmNsZV9tYXJrZXJfZDQ2ZDk2MDE4ZDk0NGI0ZTkyMjIwNjdiMmQzZThkZWEgPSBMLmNpcmNsZU1hcmtlcigKICAgICAgICAgICAgICAgIFs0My43OTM3ODA4MSwtNzkuMTk0MzI1ODRdLAogICAgICAgICAgICAgICAgewogICJidWJibGluZ01vdXNlRXZlbnRzIjogdHJ1ZSwKICAiY29sb3IiOiAicmVkIiwKICAiZGFzaEFycmF5IjogbnVsbCwKICAiZGFzaE9mZnNldCI6IG51bGwsCiAgImZpbGwiOiB0cnVlLAogICJmaWxsQ29sb3IiOiAicmVkIiwKICAiZmlsbE9wYWNpdHkiOiAwLjIsCiAgImZpbGxSdWxlIjogImV2ZW5vZGQiLAogICJsaW5lQ2FwIjogInJvdW5kIiwKICAibGluZUpvaW4iOiAicm91bmQiLAogICJvcGFjaXR5IjogMS4wLAogICJyYWRpdXMiOiAyLAogICJzdHJva2UiOiB0cnVlLAogICJ3ZWlnaHQiOiAzCn0KICAgICAgICAgICAgICAgICkuYWRkVG8obWFwX2JlZGI4NDJmYTlkZDRkZjQ5MTU3ZTcxOGRmNGM2NmMwKTsKICAgICAgICAgICAgCiAgICAKICAgICAgICAgICAgdmFyIGNpcmNsZV9tYXJrZXJfZmIwZWMwNTM3MGM5NDQzZmI5YWZmMTQ5MWQzYTk0YmYgPSBMLmNpcmNsZU1hcmtlcigKICAgICAgICAgICAgICAgIFs0My42NTg2NjcyMywtNzkuMzIwMTMyM10sCiAgICAgICAgICAgICAgICB7CiAgImJ1YmJsaW5nTW91c2VFdmVudHMiOiB0cnVlLAogICJjb2xvciI6ICJyZWQiLAogICJkYXNoQXJyYXkiOiBudWxsLAogICJkYXNoT2Zmc2V0IjogbnVsbCwKICAiZmlsbCI6IHRydWUsCiAgImZpbGxDb2xvciI6ICJyZWQiLAogICJmaWxsT3BhY2l0eSI6IDAuMiwKICAiZmlsbFJ1bGUiOiAiZXZlbm9kZCIsCiAgImxpbmVDYXAiOiAicm91bmQiLAogICJsaW5lSm9pbiI6ICJyb3VuZCIsCiAgIm9wYWNpdHkiOiAxLjAsCiAgInJhZGl1cyI6IDIsCiAgInN0cm9rZSI6IHRydWUsCiAgIndlaWdodCI6IDMKfQogICAgICAgICAgICAgICAgKS5hZGRUbyhtYXBfYmVkYjg0MmZhOWRkNGRmNDkxNTdlNzE4ZGY0YzY2YzApOwogICAgICAgICAgICAKICAgIAogICAgICAgICAgICB2YXIgY2lyY2xlX21hcmtlcl84NTIzZDI4NTgwNGE0YTY5OWQyM2IzMzRhMDhkZDBhMSA9IEwuY2lyY2xlTWFya2VyKAogICAgICAgICAgICAgICAgWzQzLjczNDA3ODYwMDAwMDAwNCwtNzkuMzU4MzY0MzhdLAogICAgICAgICAgICAgICAgewogICJidWJibGluZ01vdXNlRXZlbnRzIjogdHJ1ZSwKICAiY29sb3IiOiAicmVkIiwKICAiZGFzaEFycmF5IjogbnVsbCwKICAiZGFzaE9mZnNldCI6IG51bGwsCiAgImZpbGwiOiB0cnVlLAogICJmaWxsQ29sb3IiOiAicmVkIiwKICAiZmlsbE9wYWNpdHkiOiAwLjIsCiAgImZpbGxSdWxlIjogImV2ZW5vZGQiLAogICJsaW5lQ2FwIjogInJvdW5kIiwKICAibGluZUpvaW4iOiAicm91bmQiLAogICJvcGFjaXR5IjogMS4wLAogICJyYWRpdXMiOiAyLAogICJzdHJva2UiOiB0cnVlLAogICJ3ZWlnaHQiOiAzCn0KICAgICAgICAgICAgICAgICkuYWRkVG8obWFwX2JlZGI4NDJmYTlkZDRkZjQ5MTU3ZTcxOGRmNGM2NmMwKTsKICAgICAgICAgICAgCiAgICAKICAgICAgICAgICAgdmFyIGNpcmNsZV9tYXJrZXJfNTIxNWU0YzFhNDc0NDM2NGJiMjIwNjNmZDAzNjQzMDIgPSBMLmNpcmNsZU1hcmtlcigKICAgICAgICAgICAgICAgIFs0My43Nzc1MTQyNCwtNzkuMTQ4NDA1MTRdLAogICAgICAgICAgICAgICAgewogICJidWJibGluZ01vdXNlRXZlbnRzIjogdHJ1ZSwKICAiY29sb3IiOiAicmVkIiwKICAiZGFzaEFycmF5IjogbnVsbCwKICAiZGFzaE9mZnNldCI6IG51bGwsCiAgImZpbGwiOiB0cnVlLAogICJmaWxsQ29sb3IiOiAicmVkIiwKICAiZmlsbE9wYWNpdHkiOiAwLjIsCiAgImZpbGxSdWxlIjogImV2ZW5vZGQiLAogICJsaW5lQ2FwIjogInJvdW5kIiwKICAibGluZUpvaW4iOiAicm91bmQiLAogICJvcGFjaXR5IjogMS4wLAogICJyYWRpdXMiOiAyLAogICJzdHJva2UiOiB0cnVlLAogICJ3ZWlnaHQiOiAzCn0KICAgICAgICAgICAgICAgICkuYWRkVG8obWFwX2JlZGI4NDJmYTlkZDRkZjQ5MTU3ZTcxOGRmNGM2NmMwKTsKICAgICAgICAgICAgCiAgICAKICAgICAgICAgICAgdmFyIGNpcmNsZV9tYXJrZXJfZDUyZjBhZjNmNmU0NDVjNThkNjA2YTBlYTk1YjIyZTQgPSBMLmNpcmNsZU1hcmtlcigKICAgICAgICAgICAgICAgIFs0My43MDYxMjQ0LC03OS40MDQ3MzQ5MDAwMDAwMV0sCiAgICAgICAgICAgICAgICB7CiAgImJ1YmJsaW5nTW91c2VFdmVudHMiOiB0cnVlLAogICJjb2xvciI6ICJyZWQiLAogICJkYXNoQXJyYXkiOiBudWxsLAogICJkYXNoT2Zmc2V0IjogbnVsbCwKICAiZmlsbCI6IHRydWUsCiAgImZpbGxDb2xvciI6ICJyZWQiLAogICJmaWxsT3BhY2l0eSI6IDAuMiwKICAiZmlsbFJ1bGUiOiAiZXZlbm9kZCIsCiAgImxpbmVDYXAiOiAicm91bmQiLAogICJsaW5lSm9pbiI6ICJyb3VuZCIsCiAgIm9wYWNpdHkiOiAxLjAsCiAgInJhZGl1cyI6IDIsCiAgInN0cm9rZSI6IHRydWUsCiAgIndlaWdodCI6IDMKfQogICAgICAgICAgICAgICAgKS5hZGRUbyhtYXBfYmVkYjg0MmZhOWRkNGRmNDkxNTdlNzE4ZGY0YzY2YzApOwogICAgICAgICAgICAKICAgIAogICAgICAgICAgICB2YXIgY2lyY2xlX21hcmtlcl85ZmEwMzUwZDA0YWM0MmY0OTFjYjYwNzczOGViYWQxOCA9IEwuY2lyY2xlTWFya2VyKAogICAgICAgICAgICAgICAgWzQzLjY5NDg5NjU3LC03OS4yODQ0NTUxNF0sCiAgICAgICAgICAgICAgICB7CiAgImJ1YmJsaW5nTW91c2VFdmVudHMiOiB0cnVlLAogICJjb2xvciI6ICJyZWQiLAogICJkYXNoQXJyYXkiOiBudWxsLAogICJkYXNoT2Zmc2V0IjogbnVsbCwKICAiZmlsbCI6IHRydWUsCiAgImZpbGxDb2xvciI6ICJyZWQiLAogICJmaWxsT3BhY2l0eSI6IDAuMiwKICAiZmlsbFJ1bGUiOiAiZXZlbm9kZCIsCiAgImxpbmVDYXAiOiAicm91bmQiLAogICJsaW5lSm9pbiI6ICJyb3VuZCIsCiAgIm9wYWNpdHkiOiAxLjAsCiAgInJhZGl1cyI6IDIsCiAgInN0cm9rZSI6IHRydWUsCiAgIndlaWdodCI6IDMKfQogICAgICAgICAgICAgICAgKS5hZGRUbyhtYXBfYmVkYjg0MmZhOWRkNGRmNDkxNTdlNzE4ZGY0YzY2YzApOwogICAgICAgICAgICAKICAgIAogICAgICAgICAgICB2YXIgY2lyY2xlX21hcmtlcl80Nzg4M2QxYTYwMGI0MTJlOTA2NmQ2NWRkZGZkZmU4OSA9IEwuY2lyY2xlTWFya2VyKAogICAgICAgICAgICAgICAgWzQzLjc2OTAwNzEsLTc5LjE3NzIyODddLAogICAgICAgICAgICAgICAgewogICJidWJibGluZ01vdXNlRXZlbnRzIjogdHJ1ZSwKICAiY29sb3IiOiAicmVkIiwKICAiZGFzaEFycmF5IjogbnVsbCwKICAiZGFzaE9mZnNldCI6IG51bGwsCiAgImZpbGwiOiB0cnVlLAogICJmaWxsQ29sb3IiOiAicmVkIiwKICAiZmlsbE9wYWNpdHkiOiAwLjIsCiAgImZpbGxSdWxlIjogImV2ZW5vZGQiLAogICJsaW5lQ2FwIjogInJvdW5kIiwKICAibGluZUpvaW4iOiAicm91bmQiLAogICJvcGFjaXR5IjogMS4wLAogICJyYWRpdXMiOiAyLAogICJzdHJva2UiOiB0cnVlLAogICJ3ZWlnaHQiOiAzCn0KICAgICAgICAgICAgICAgICkuYWRkVG8obWFwX2JlZGI4NDJmYTlkZDRkZjQ5MTU3ZTcxOGRmNGM2NmMwKTsKICAgICAgICAgICAgCiAgICAKICAgICAgICAgICAgdmFyIGNpcmNsZV9tYXJrZXJfMWE0ZjNkODM5YTlkNGZmMDk1MWY3Y2QxZTRmMThiYTYgPSBMLmNpcmNsZU1hcmtlcigKICAgICAgICAgICAgICAgIFs0My43MzI5NzAyMDAwMDAwMDQsLTc5LjI2MTQ1ODddLAogICAgICAgICAgICAgICAgewogICJidWJibGluZ01vdXNlRXZlbnRzIjogdHJ1ZSwKICAiY29sb3IiOiAicmVkIiwKICAiZGFzaEFycmF5IjogbnVsbCwKICAiZGFzaE9mZnNldCI6IG51bGwsCiAgImZpbGwiOiB0cnVlLAogICJmaWxsQ29sb3IiOiAicmVkIiwKICAiZmlsbE9wYWNpdHkiOiAwLjIsCiAgImZpbGxSdWxlIjogImV2ZW5vZGQiLAogICJsaW5lQ2FwIjogInJvdW5kIiwKICAibGluZUpvaW4iOiAicm91bmQiLAogICJvcGFjaXR5IjogMS4wLAogICJyYWRpdXMiOiAyLAogICJzdHJva2UiOiB0cnVlLAogICJ3ZWlnaHQiOiAzCn0KICAgICAgICAgICAgICAgICkuYWRkVG8obWFwX2JlZGI4NDJmYTlkZDRkZjQ5MTU3ZTcxOGRmNGM2NmMwKTsKICAgICAgICAgICAgCiAgICAKICAgICAgICAgICAgdmFyIGNpcmNsZV9tYXJrZXJfNDZkN2ZmNTE0ZDQ1NDM2Yjk1ZWI5OWMxNDdiZTkxZWMgPSBMLmNpcmNsZU1hcmtlcigKICAgICAgICAgICAgICAgIFs0My43NDg0MDYxMSwtNzkuNDA2OTIzMDZdLAogICAgICAgICAgICAgICAgewogICJidWJibGluZ01vdXNlRXZlbnRzIjogdHJ1ZSwKICAiY29sb3IiOiAicmVkIiwKICAiZGFzaEFycmF5IjogbnVsbCwKICAiZGFzaE9mZnNldCI6IG51bGwsCiAgImZpbGwiOiB0cnVlLAogICJmaWxsQ29sb3IiOiAicmVkIiwKICAiZmlsbE9wYWNpdHkiOiAwLjIsCiAgImZpbGxSdWxlIjogImV2ZW5vZGQiLAogICJsaW5lQ2FwIjogInJvdW5kIiwKICAibGluZUpvaW4iOiAicm91bmQiLAogICJvcGFjaXR5IjogMS4wLAogICJyYWRpdXMiOiAyLAogICJzdHJva2UiOiB0cnVlLAogICJ3ZWlnaHQiOiAzCn0KICAgICAgICAgICAgICAgICkuYWRkVG8obWFwX2JlZGI4NDJmYTlkZDRkZjQ5MTU3ZTcxOGRmNGM2NmMwKTsKICAgICAgICAgICAgCiAgICAKICAgICAgICAgICAgdmFyIGNpcmNsZV9tYXJrZXJfZDk5Mjc5M2NlZmI5NGVlMmE5NWYxZTczZDExMzQ1ZmQgPSBMLmNpcmNsZU1hcmtlcigKICAgICAgICAgICAgICAgIFs0My42OTE0NDk0LC03OS40NDgyMDJdLAogICAgICAgICAgICAgICAgewogICJidWJibGluZ01vdXNlRXZlbnRzIjogdHJ1ZSwKICAiY29sb3IiOiAicmVkIiwKICAiZGFzaEFycmF5IjogbnVsbCwKICAiZGFzaE9mZnNldCI6IG51bGwsCiAgImZpbGwiOiB0cnVlLAogICJmaWxsQ29sb3IiOiAicmVkIiwKICAiZmlsbE9wYWNpdHkiOiAwLjIsCiAgImZpbGxSdWxlIjogImV2ZW5vZGQiLAogICJsaW5lQ2FwIjogInJvdW5kIiwKICAibGluZUpvaW4iOiAicm91bmQiLAogICJvcGFjaXR5IjogMS4wLAogICJyYWRpdXMiOiAyLAogICJzdHJva2UiOiB0cnVlLAogICJ3ZWlnaHQiOiAzCn0KICAgICAgICAgICAgICAgICkuYWRkVG8obWFwX2JlZGI4NDJmYTlkZDRkZjQ5MTU3ZTcxOGRmNGM2NmMwKTsKICAgICAgICAgICAgCiAgICAKICAgICAgICAgICAgdmFyIGNpcmNsZV9tYXJrZXJfMGJjN2Q5NmM0NWJlNDNjN2JhZmM3OWNjYzg5ZDM1MTQgPSBMLmNpcmNsZU1hcmtlcigKICAgICAgICAgICAgICAgIFs0My43MTc3NzEzOSwtNzkuNTcwNTc3NThdLAogICAgICAgICAgICAgICAgewogICJidWJibGluZ01vdXNlRXZlbnRzIjogdHJ1ZSwKICAiY29sb3IiOiAicmVkIiwKICAiZGFzaEFycmF5IjogbnVsbCwKICAiZGFzaE9mZnNldCI6IG51bGwsCiAgImZpbGwiOiB0cnVlLAogICJmaWxsQ29sb3IiOiAicmVkIiwKICAiZmlsbE9wYWNpdHkiOiAwLjIsCiAgImZpbGxSdWxlIjogImV2ZW5vZGQiLAogICJsaW5lQ2FwIjogInJvdW5kIiwKICAibGluZUpvaW4iOiAicm91bmQiLAogICJvcGFjaXR5IjogMS4wLAogICJyYWRpdXMiOiAyLAogICJzdHJva2UiOiB0cnVlLAogICJ3ZWlnaHQiOiAzCn0KICAgICAgICAgICAgICAgICkuYWRkVG8obWFwX2JlZGI4NDJmYTlkZDRkZjQ5MTU3ZTcxOGRmNGM2NmMwKTsKICAgICAgICAgICAgCiAgICAKICAgICAgICAgICAgdmFyIGNpcmNsZV9tYXJrZXJfZjZmN2FkNTI4NDdhNDM4OGIxYjY4MzVhM2MyODlmOTcgPSBMLmNpcmNsZU1hcmtlcigKICAgICAgICAgICAgICAgIFs0My43MDg3MDkzLC03OS40NTYzMTAyXSwKICAgICAgICAgICAgICAgIHsKICAiYnViYmxpbmdNb3VzZUV2ZW50cyI6IHRydWUsCiAgImNvbG9yIjogInJlZCIsCiAgImRhc2hBcnJheSI6IG51bGwsCiAgImRhc2hPZmZzZXQiOiBudWxsLAogICJmaWxsIjogdHJ1ZSwKICAiZmlsbENvbG9yIjogInJlZCIsCiAgImZpbGxPcGFjaXR5IjogMC4yLAogICJmaWxsUnVsZSI6ICJldmVub2RkIiwKICAibGluZUNhcCI6ICJyb3VuZCIsCiAgImxpbmVKb2luIjogInJvdW5kIiwKICAib3BhY2l0eSI6IDEuMCwKICAicmFkaXVzIjogMiwKICAic3Ryb2tlIjogdHJ1ZSwKICAid2VpZ2h0IjogMwp9CiAgICAgICAgICAgICAgICApLmFkZFRvKG1hcF9iZWRiODQyZmE5ZGQ0ZGY0OTE1N2U3MThkZjRjNjZjMCk7CiAgICAgICAgICAgIAogICAgCiAgICAgICAgICAgIHZhciBjaXJjbGVfbWFya2VyXzhjZDgwODY3ZmY5ODQxMzZiMjQ2MDczODU0ZmEyMjFkID0gTC5jaXJjbGVNYXJrZXIoCiAgICAgICAgICAgICAgICBbNDMuNjQyODUwMywtNzkuNTY0NzAwOV0sCiAgICAgICAgICAgICAgICB7CiAgImJ1YmJsaW5nTW91c2VFdmVudHMiOiB0cnVlLAogICJjb2xvciI6ICJyZWQiLAogICJkYXNoQXJyYXkiOiBudWxsLAogICJkYXNoT2Zmc2V0IjogbnVsbCwKICAiZmlsbCI6IHRydWUsCiAgImZpbGxDb2xvciI6ICJyZWQiLAogICJmaWxsT3BhY2l0eSI6IDAuMiwKICAiZmlsbFJ1bGUiOiAiZXZlbm9kZCIsCiAgImxpbmVDYXAiOiAicm91bmQiLAogICJsaW5lSm9pbiI6ICJyb3VuZCIsCiAgIm9wYWNpdHkiOiAxLjAsCiAgInJhZGl1cyI6IDIsCiAgInN0cm9rZSI6IHRydWUsCiAgIndlaWdodCI6IDMKfQogICAgICAgICAgICAgICAgKS5hZGRUbyhtYXBfYmVkYjg0MmZhOWRkNGRmNDkxNTdlNzE4ZGY0YzY2YzApOwogICAgICAgICAgICAKICAgIAogICAgICAgICAgICB2YXIgY2lyY2xlX21hcmtlcl8xYzljNDFkZGRhN2I0M2M1OWExZmUzMTVkMTE3MDhhMyA9IEwuY2lyY2xlTWFya2VyKAogICAgICAgICAgICAgICAgWzQzLjY2NDE0NTExLC03OS40OTExMjMzMV0sCiAgICAgICAgICAgICAgICB7CiAgImJ1YmJsaW5nTW91c2VFdmVudHMiOiB0cnVlLAogICJjb2xvciI6ICJyZWQiLAogICJkYXNoQXJyYXkiOiBudWxsLAogICJkYXNoT2Zmc2V0IjogbnVsbCwKICAiZmlsbCI6IHRydWUsCiAgImZpbGxDb2xvciI6ICJyZWQiLAogICJmaWxsT3BhY2l0eSI6IDAuMiwKICAiZmlsbFJ1bGUiOiAiZXZlbm9kZCIsCiAgImxpbmVDYXAiOiAicm91bmQiLAogICJsaW5lSm9pbiI6ICJyb3VuZCIsCiAgIm9wYWNpdHkiOiAxLjAsCiAgInJhZGl1cyI6IDIsCiAgInN0cm9rZSI6IHRydWUsCiAgIndlaWdodCI6IDMKfQogICAgICAgICAgICAgICAgKS5hZGRUbyhtYXBfYmVkYjg0MmZhOWRkNGRmNDkxNTdlNzE4ZGY0YzY2YzApOwogICAgICAgICAgICAKICAgIAogICAgICAgICAgICB2YXIgY2lyY2xlX21hcmtlcl9lY2QzZWUxZWMwMzI0MDIyYjA0Mzg5MDlhYzllMGEzMCA9IEwuY2lyY2xlTWFya2VyKAogICAgICAgICAgICAgICAgWzQzLjc5MDU4NjQsLTc5LjQyMjI4NTJdLAogICAgICAgICAgICAgICAgewogICJidWJibGluZ01vdXNlRXZlbnRzIjogdHJ1ZSwKICAiY29sb3IiOiAicmVkIiwKICAiZGFzaEFycmF5IjogbnVsbCwKICAiZGFzaE9mZnNldCI6IG51bGwsCiAgImZpbGwiOiB0cnVlLAogICJmaWxsQ29sb3IiOiAicmVkIiwKICAiZmlsbE9wYWNpdHkiOiAwLjIsCiAgImZpbGxSdWxlIjogImV2ZW5vZGQiLAogICJsaW5lQ2FwIjogInJvdW5kIiwKICAibGluZUpvaW4iOiAicm91bmQiLAogICJvcGFjaXR5IjogMS4wLAogICJyYWRpdXMiOiAyLAogICJzdHJva2UiOiB0cnVlLAogICJ3ZWlnaHQiOiAzCn0KICAgICAgICAgICAgICAgICkuYWRkVG8obWFwX2JlZGI4NDJmYTlkZDRkZjQ5MTU3ZTcxOGRmNGM2NmMwKTsKICAgICAgICAgICAgCiAgICAKICAgICAgICAgICAgdmFyIGNpcmNsZV9tYXJrZXJfZGI1OWYxZGQ4YzY0NDVmZGFkYjA3ZWJiY2QzNGZlZTcgPSBMLmNpcmNsZU1hcmtlcigKICAgICAgICAgICAgICAgIFs0My42NTAzODk4LC03OS41ODUwMzM3M10sCiAgICAgICAgICAgICAgICB7CiAgImJ1YmJsaW5nTW91c2VFdmVudHMiOiB0cnVlLAogICJjb2xvciI6ICJyZWQiLAogICJkYXNoQXJyYXkiOiBudWxsLAogICJkYXNoT2Zmc2V0IjogbnVsbCwKICAiZmlsbCI6IHRydWUsCiAgImZpbGxDb2xvciI6ICJyZWQiLAogICJmaWxsT3BhY2l0eSI6IDAuMiwKICAiZmlsbFJ1bGUiOiAiZXZlbm9kZCIsCiAgImxpbmVDYXAiOiAicm91bmQiLAogICJsaW5lSm9pbiI6ICJyb3VuZCIsCiAgIm9wYWNpdHkiOiAxLjAsCiAgInJhZGl1cyI6IDIsCiAgInN0cm9rZSI6IHRydWUsCiAgIndlaWdodCI6IDMKfQogICAgICAgICAgICAgICAgKS5hZGRUbyhtYXBfYmVkYjg0MmZhOWRkNGRmNDkxNTdlNzE4ZGY0YzY2YzApOwogICAgICAgICAgICAKICAgIAogICAgICAgICAgICB2YXIgY2lyY2xlX21hcmtlcl9lMzAxMDJjYjQ1NjA0ZmYyYjliNWFmMDRkODA1M2FhMiA9IEwuY2lyY2xlTWFya2VyKAogICAgICAgICAgICAgICAgWzQzLjY5MDEyNzAyLC03OS40Nzg2MDY0Ml0sCiAgICAgICAgICAgICAgICB7CiAgImJ1YmJsaW5nTW91c2VFdmVudHMiOiB0cnVlLAogICJjb2xvciI6ICJyZWQiLAogICJkYXNoQXJyYXkiOiBudWxsLAogICJkYXNoT2Zmc2V0IjogbnVsbCwKICAiZmlsbCI6IHRydWUsCiAgImZpbGxDb2xvciI6ICJyZWQiLAogICJmaWxsT3BhY2l0eSI6IDAuMiwKICAiZmlsbFJ1bGUiOiAiZXZlbm9kZCIsCiAgImxpbmVDYXAiOiAicm91bmQiLAogICJsaW5lSm9pbiI6ICJyb3VuZCIsCiAgIm9wYWNpdHkiOiAxLjAsCiAgInJhZGl1cyI6IDIsCiAgInN0cm9rZSI6IHRydWUsCiAgIndlaWdodCI6IDMKfQogICAgICAgICAgICAgICAgKS5hZGRUbyhtYXBfYmVkYjg0MmZhOWRkNGRmNDkxNTdlNzE4ZGY0YzY2YzApOwogICAgICAgICAgICAKICAgIAogICAgICAgICAgICB2YXIgY2lyY2xlX21hcmtlcl8zYzM0NmI3NzY3OTQ0ZDExYWQ0OTBiMGNlYWJkZmFkMCA9IEwuY2lyY2xlTWFya2VyKAogICAgICAgICAgICAgICAgWzQzLjcwMDU4ODE0LC03OS41MTI2MDkwNV0sCiAgICAgICAgICAgICAgICB7CiAgImJ1YmJsaW5nTW91c2VFdmVudHMiOiB0cnVlLAogICJjb2xvciI6ICJyZWQiLAogICJkYXNoQXJyYXkiOiBudWxsLAogICJkYXNoT2Zmc2V0IjogbnVsbCwKICAiZmlsbCI6IHRydWUsCiAgImZpbGxDb2xvciI6ICJyZWQiLAogICJmaWxsT3BhY2l0eSI6IDAuMiwKICAiZmlsbFJ1bGUiOiAiZXZlbm9kZCIsCiAgImxpbmVDYXAiOiAicm91bmQiLAogICJsaW5lSm9pbiI6ICJyb3VuZCIsCiAgIm9wYWNpdHkiOiAxLjAsCiAgInJhZGl1cyI6IDIsCiAgInN0cm9rZSI6IHRydWUsCiAgIndlaWdodCI6IDMKfQogICAgICAgICAgICAgICAgKS5hZGRUbyhtYXBfYmVkYjg0MmZhOWRkNGRmNDkxNTdlNzE4ZGY0YzY2YzApOwogICAgICAgICAgICAKICAgIAogICAgICAgICAgICB2YXIgY2lyY2xlX21hcmtlcl83MDQyYmIxNDc1YWY0N2RiOTE2ZDQxZGI4OGE1YWY4MiA9IEwuY2lyY2xlTWFya2VyKAogICAgICAgICAgICAgICAgWzQzLjcyODg2OSwtNzkuNDQzMzRdLAogICAgICAgICAgICAgICAgewogICJidWJibGluZ01vdXNlRXZlbnRzIjogdHJ1ZSwKICAiY29sb3IiOiAicmVkIiwKICAiZGFzaEFycmF5IjogbnVsbCwKICAiZGFzaE9mZnNldCI6IG51bGwsCiAgImZpbGwiOiB0cnVlLAogICJmaWxsQ29sb3IiOiAicmVkIiwKICAiZmlsbE9wYWNpdHkiOiAwLjIsCiAgImZpbGxSdWxlIjogImV2ZW5vZGQiLAogICJsaW5lQ2FwIjogInJvdW5kIiwKICAibGluZUpvaW4iOiAicm91bmQiLAogICJvcGFjaXR5IjogMS4wLAogICJyYWRpdXMiOiAyLAogICJzdHJva2UiOiB0cnVlLAogICJ3ZWlnaHQiOiAzCn0KICAgICAgICAgICAgICAgICkuYWRkVG8obWFwX2JlZGI4NDJmYTlkZDRkZjQ5MTU3ZTcxOGRmNGM2NmMwKTsKICAgICAgICAgICAgCiAgICAKICAgICAgICAgICAgdmFyIGNpcmNsZV9tYXJrZXJfM2FkMTczMmE2Zjg0NGQ3M2EzMmUxN2I0MzE4ZmE2YjMgPSBMLmNpcmNsZU1hcmtlcigKICAgICAgICAgICAgICAgIFs0My43NDU5NzE5NCwtNzkuNTE0NTgwNDddLAogICAgICAgICAgICAgICAgewogICJidWJibGluZ01vdXNlRXZlbnRzIjogdHJ1ZSwKICAiY29sb3IiOiAicmVkIiwKICAiZGFzaEFycmF5IjogbnVsbCwKICAiZGFzaE9mZnNldCI6IG51bGwsCiAgImZpbGwiOiB0cnVlLAogICJmaWxsQ29sb3IiOiAicmVkIiwKICAiZmlsbE9wYWNpdHkiOiAwLjIsCiAgImZpbGxSdWxlIjogImV2ZW5vZGQiLAogICJsaW5lQ2FwIjogInJvdW5kIiwKICAibGluZUpvaW4iOiAicm91bmQiLAogICJvcGFjaXR5IjogMS4wLAogICJyYWRpdXMiOiAyLAogICJzdHJva2UiOiB0cnVlLAogICJ3ZWlnaHQiOiAzCn0KICAgICAgICAgICAgICAgICkuYWRkVG8obWFwX2JlZGI4NDJmYTlkZDRkZjQ5MTU3ZTcxOGRmNGM2NmMwKTsKICAgICAgICAgICAgCjwvc2NyaXB0Pg==\" style=\"position:absolute;width:100%;height:100%;left:0;top:0;border:none !important;\" allowfullscreen webkitallowfullscreen mozallowfullscreen></iframe></div></div>"
      ],
      "text/plain": [
       "<folium.folium.Map at 0x7f2a09d2c2e8>"
      ]
     },
     "execution_count": 205,
     "metadata": {},
     "output_type": "execute_result"
    }
   ],
   "source": [
    "m3"
   ]
  },
  {
   "cell_type": "markdown",
   "metadata": {},
   "source": [
    "lets put the heatmap on the markers to make sure we're not missing any stations"
   ]
  },
  {
   "cell_type": "code",
   "execution_count": 207,
   "metadata": {
    "scrolled": false
   },
   "outputs": [
    {
     "data": {
      "text/html": [
       "<div style=\"width:100%;\"><div style=\"position:relative;width:100%;height:0;padding-bottom:60%;\"><iframe src=\"data:text/html;charset=utf-8;base64,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\" style=\"position:absolute;width:100%;height:100%;left:0;top:0;border:none !important;\" allowfullscreen webkitallowfullscreen mozallowfullscreen></iframe></div></div>"
      ],
      "text/plain": [
       "<folium.folium.Map at 0x7f2a09d2c2e8>"
      ]
     },
     "execution_count": 207,
     "metadata": {},
     "output_type": "execute_result"
    }
   ],
   "source": [
    "HeatMap(latlons).add_to(m3)\n",
    "m3"
   ]
  },
  {
   "cell_type": "markdown",
   "metadata": {},
   "source": [
    "Well that's it! Don't forget to save your map by clicking and selecting \"save as\". I hope you learned to how to visualize your data. If you came from the R version of this workshop and wish to use ggplot's tools as well, there is an excellent Python implimentation of ggplot which uses the same functions: http://ggplot.yhathq.com/how-it-works.html. Anyhow I hope you'll encover findings with graphs and we'll see you next week!"
   ]
  }
 ],
 "metadata": {
  "kernelspec": {
   "display_name": "Python 3",
   "language": "python",
   "name": "python3"
  },
  "language_info": {
   "codemirror_mode": {
    "name": "ipython",
    "version": 3
   },
   "file_extension": ".py",
   "mimetype": "text/x-python",
   "name": "python",
   "nbconvert_exporter": "python",
   "pygments_lexer": "ipython3",
   "version": "3.6.1"
  }
 },
 "nbformat": 4,
 "nbformat_minor": 1
}
