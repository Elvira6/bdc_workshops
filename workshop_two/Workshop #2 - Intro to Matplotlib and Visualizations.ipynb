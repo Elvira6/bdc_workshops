{
 "cells": [
  {
   "cell_type": "markdown",
   "metadata": {},
   "source": [
    "# Workshop #2 - Simple Data Transformations\n",
    "\n",
    "This week we'll look on visualizing our data. Although numbers can tell us a satisfying story, a visual of our data will allow us to easily identify trends (and will look amazing on a presentation \\*hint\\* \\*hint\\*).\n",
    "\n",
    "If you came from the R version of this workshop and wish to use ggplot's tools, there is an excellent Python implimentation of ggplot which uses the same functions: http://ggplot.yhathq.com/how-it-works.html.\n",
    "\n",
    "## A few ground rules\n",
    "\n",
    " - Remember to run every cell.\n",
    "     - Parts of this workshop won't work if this condition isn't met.\n",
    " - Please don't change my asserts.\n",
    "     - If you're receiving an incorrect answer please don't change the assert answer just to get it right. You            won't learn anything and will probably fail the rest of the tutorial. Feel free to message slack on the #workshops channel if you get stuck."
   ]
  },
  {
   "cell_type": "code",
   "execution_count": 120,
   "metadata": {},
   "outputs": [],
   "source": [
    "%matplotlib inline\n",
    "#Don't mind this. I'm just trying to double check you work :)\n",
    "def assertAns(condition, fail_str, suc_str):\n",
    "    assert condition, fail_str\n",
    "    print(suc_str)"
   ]
  },
  {
   "cell_type": "code",
   "execution_count": 121,
   "metadata": {},
   "outputs": [],
   "source": [
    "import numpy as np #Linear algebra\n",
    "import requests as req #Python's http library\n",
    "import re #Python's Regex library\n",
    "import pandas as pd #Python's data manipulation library\n",
    "import matplotlib.pyplot as plt #Python's graphing library\n",
    "import seaborn as sns #A graphing library for heatmaps"
   ]
  },
  {
   "cell_type": "markdown",
   "metadata": {},
   "source": [
    "Lets start by importing the dataframe from last week's workshop (recall the pickle file)! The dataframe should saved in this path: `\"../saved_dataframes/workshop1RainfallDF\"`"
   ]
  },
  {
   "cell_type": "code",
   "execution_count": 122,
   "metadata": {},
   "outputs": [
    {
     "data": {
      "text/html": [
       "<div>\n",
       "<style>\n",
       "    .dataframe thead tr:only-child th {\n",
       "        text-align: right;\n",
       "    }\n",
       "\n",
       "    .dataframe thead th {\n",
       "        text-align: left;\n",
       "    }\n",
       "\n",
       "    .dataframe tbody tr th {\n",
       "        vertical-align: top;\n",
       "    }\n",
       "</style>\n",
       "<table border=\"1\" class=\"dataframe\">\n",
       "  <thead>\n",
       "    <tr style=\"text-align: right;\">\n",
       "      <th></th>\n",
       "      <th>id</th>\n",
       "      <th>name</th>\n",
       "      <th>date</th>\n",
       "      <th>rainfall</th>\n",
       "      <th>time</th>\n",
       "      <th>hour</th>\n",
       "    </tr>\n",
       "  </thead>\n",
       "  <tbody>\n",
       "    <tr>\n",
       "      <th>0</th>\n",
       "      <td>7677</td>\n",
       "      <td>RG_001</td>\n",
       "      <td>2017-06-01T00:00:00</td>\n",
       "      <td>0.0</td>\n",
       "      <td>00:00:00</td>\n",
       "      <td>00</td>\n",
       "    </tr>\n",
       "    <tr>\n",
       "      <th>1</th>\n",
       "      <td>7677</td>\n",
       "      <td>RG_001</td>\n",
       "      <td>2017-06-01T00:05:00</td>\n",
       "      <td>0.0</td>\n",
       "      <td>00:05:00</td>\n",
       "      <td>00</td>\n",
       "    </tr>\n",
       "    <tr>\n",
       "      <th>2</th>\n",
       "      <td>7677</td>\n",
       "      <td>RG_001</td>\n",
       "      <td>2017-06-01T00:10:00</td>\n",
       "      <td>0.0</td>\n",
       "      <td>00:10:00</td>\n",
       "      <td>00</td>\n",
       "    </tr>\n",
       "    <tr>\n",
       "      <th>3</th>\n",
       "      <td>7677</td>\n",
       "      <td>RG_001</td>\n",
       "      <td>2017-06-01T00:15:00</td>\n",
       "      <td>0.0</td>\n",
       "      <td>00:15:00</td>\n",
       "      <td>00</td>\n",
       "    </tr>\n",
       "    <tr>\n",
       "      <th>4</th>\n",
       "      <td>7677</td>\n",
       "      <td>RG_001</td>\n",
       "      <td>2017-06-01T00:20:00</td>\n",
       "      <td>0.0</td>\n",
       "      <td>00:20:00</td>\n",
       "      <td>00</td>\n",
       "    </tr>\n",
       "  </tbody>\n",
       "</table>\n",
       "</div>"
      ],
      "text/plain": [
       "     id    name                 date  rainfall      time hour\n",
       "0  7677  RG_001  2017-06-01T00:00:00       0.0  00:00:00   00\n",
       "1  7677  RG_001  2017-06-01T00:05:00       0.0  00:05:00   00\n",
       "2  7677  RG_001  2017-06-01T00:10:00       0.0  00:10:00   00\n",
       "3  7677  RG_001  2017-06-01T00:15:00       0.0  00:15:00   00\n",
       "4  7677  RG_001  2017-06-01T00:20:00       0.0  00:20:00   00"
      ]
     },
     "execution_count": 122,
     "metadata": {},
     "output_type": "execute_result"
    }
   ],
   "source": [
    "timeHourRainfallDF = pd.read_pickle(<FILL IN>)\n",
    "timeHourRainfallDF.head()"
   ]
  },
  {
   "cell_type": "markdown",
   "metadata": {},
   "source": [
    "### MatplotLib Basics\n",
    "\n",
    "MatplotLib is a useful library to view your data as a graph. This is a pretty expansive library and includes basically all types of graphs known to man (and most definitely everything you've learned in a stats course).\n",
    "\n",
    "Lets start by plotting __the amount of rain by the time of day.__\n",
    "\n",
    "We'll start off by making two arrays, one to represent the x-values and the other the y-values."
   ]
  },
  {
   "cell_type": "code",
   "execution_count": 123,
   "metadata": {},
   "outputs": [],
   "source": [
    "x = timeHourRainfallDF[\"time\"].unique()\n",
    "y = timeHourRainfallDF[\"rainfall\"].values #The values() function will return all the values of the column as a list."
   ]
  },
  {
   "cell_type": "markdown",
   "metadata": {},
   "source": [
    "Now lets print out `x` and `y` to see how they look like."
   ]
  },
  {
   "cell_type": "code",
   "execution_count": 124,
   "metadata": {
    "scrolled": true
   },
   "outputs": [
    {
     "name": "stdout",
     "output_type": "stream",
     "text": [
      "['00:00:00' '00:05:00' '00:10:00' '00:15:00' '00:20:00' '00:25:00'\n",
      " '00:30:00' '00:35:00' '00:40:00' '00:45:00' '00:50:00' '00:55:00'\n",
      " '01:00:00' '01:05:00' '01:10:00' '01:15:00' '01:20:00' '01:25:00'\n",
      " '01:30:00' '01:35:00' '01:40:00' '01:45:00' '01:50:00' '01:55:00'\n",
      " '02:00:00' '02:05:00' '02:10:00' '02:15:00' '02:20:00' '02:25:00'\n",
      " '02:30:00' '02:35:00' '02:40:00' '02:45:00' '02:50:00' '02:55:00'\n",
      " '03:00:00' '03:05:00' '03:10:00' '03:15:00' '03:20:00' '03:25:00'\n",
      " '03:30:00' '03:35:00' '03:40:00' '03:45:00' '03:50:00' '03:55:00'\n",
      " '04:00:00' '04:05:00' '04:10:00' '04:15:00' '04:20:00' '04:25:00'\n",
      " '04:30:00' '04:35:00' '04:40:00' '04:45:00' '04:50:00' '04:55:00'\n",
      " '05:00:00' '05:05:00' '05:10:00' '05:15:00' '05:20:00' '05:25:00'\n",
      " '05:30:00' '05:35:00' '05:40:00' '05:45:00' '05:50:00' '05:55:00'\n",
      " '06:00:00' '06:05:00' '06:10:00' '06:15:00' '06:20:00' '06:25:00'\n",
      " '06:30:00' '06:35:00' '06:40:00' '06:45:00' '06:50:00' '06:55:00'\n",
      " '07:00:00' '07:05:00' '07:10:00' '07:15:00' '07:20:00' '07:25:00'\n",
      " '07:30:00' '07:35:00' '07:40:00' '07:45:00' '07:50:00' '07:55:00'\n",
      " '08:00:00' '08:05:00' '08:10:00' '08:15:00' '08:20:00' '08:25:00'\n",
      " '08:30:00' '08:35:00' '08:40:00' '08:45:00' '08:50:00' '08:55:00'\n",
      " '09:00:00' '09:05:00' '09:10:00' '09:15:00' '09:20:00' '09:25:00'\n",
      " '09:30:00' '09:35:00' '09:40:00' '09:45:00' '09:50:00' '09:55:00'\n",
      " '10:00:00' '10:05:00' '10:10:00' '10:15:00' '10:20:00' '10:25:00'\n",
      " '10:30:00' '10:35:00' '10:40:00' '10:45:00' '10:50:00' '10:55:00'\n",
      " '11:00:00' '11:05:00' '11:10:00' '11:15:00' '11:20:00' '11:25:00'\n",
      " '11:30:00' '11:35:00' '11:40:00' '11:45:00' '11:50:00' '11:55:00'\n",
      " '12:00:00' '12:05:00' '12:10:00' '12:15:00' '12:20:00' '12:25:00'\n",
      " '12:30:00' '12:35:00' '12:40:00' '12:45:00' '12:50:00' '12:55:00'\n",
      " '13:00:00' '13:05:00' '13:10:00' '13:15:00' '13:20:00' '13:25:00'\n",
      " '13:30:00' '13:35:00' '13:40:00' '13:45:00' '13:50:00' '13:55:00'\n",
      " '14:00:00' '14:05:00' '14:10:00' '14:15:00' '14:20:00' '14:25:00'\n",
      " '14:30:00' '14:35:00' '14:40:00' '14:45:00' '14:50:00' '14:55:00'\n",
      " '15:00:00' '15:05:00' '15:10:00' '15:15:00' '15:20:00' '15:25:00'\n",
      " '15:30:00' '15:35:00' '15:40:00' '15:45:00' '15:50:00' '15:55:00'\n",
      " '16:00:00' '16:05:00' '16:10:00' '16:15:00' '16:20:00' '16:25:00'\n",
      " '16:30:00' '16:35:00' '16:40:00' '16:45:00' '16:50:00' '16:55:00'\n",
      " '17:00:00' '17:05:00' '17:10:00' '17:15:00' '17:20:00' '17:25:00'\n",
      " '17:30:00' '17:35:00' '17:40:00' '17:45:00' '17:50:00' '17:55:00'\n",
      " '18:00:00' '18:05:00' '18:10:00' '18:15:00' '18:20:00' '18:25:00'\n",
      " '18:30:00' '18:35:00' '18:40:00' '18:45:00' '18:50:00' '18:55:00'\n",
      " '19:00:00' '19:05:00' '19:10:00' '19:15:00' '19:20:00' '19:25:00'\n",
      " '19:30:00' '19:35:00' '19:40:00' '19:45:00' '19:50:00' '19:55:00'\n",
      " '20:00:00' '20:05:00' '20:10:00' '20:15:00' '20:20:00' '20:25:00'\n",
      " '20:30:00' '20:35:00' '20:40:00' '20:45:00' '20:50:00' '20:55:00'\n",
      " '21:00:00' '21:05:00' '21:10:00' '21:15:00' '21:20:00' '21:25:00'\n",
      " '21:30:00' '21:35:00' '21:40:00' '21:45:00' '21:50:00' '21:55:00'\n",
      " '22:00:00' '22:05:00' '22:10:00' '22:15:00' '22:20:00' '22:25:00'\n",
      " '22:30:00' '22:35:00' '22:40:00' '22:45:00' '22:50:00' '22:55:00'\n",
      " '23:00:00' '23:05:00' '23:10:00' '23:15:00' '23:20:00' '23:25:00'\n",
      " '23:30:00' '23:35:00' '23:40:00' '23:45:00' '23:50:00' '23:55:00']\n",
      "[ 0.  0.  0. ...,  0.  0.  0.]\n"
     ]
    }
   ],
   "source": [
    "print(<FILL IN>)\n",
    "<FILL IN>"
   ]
  },
  {
   "cell_type": "markdown",
   "metadata": {},
   "source": [
    "Hmmm that's annoying. Notice how the values of `x` are all strings. Unfortunately Matplotlib doesn't really like to use non-primitive types as a graph axis. We'll have to represent these strings with a continuous variable for Matplotlib to plot the points."
   ]
  },
  {
   "cell_type": "code",
   "execution_count": 175,
   "metadata": {},
   "outputs": [
    {
     "name": "stdout",
     "output_type": "stream",
     "text": [
      "type of the variable x: <class 'numpy.ndarray'>\n",
      "type of the variable uniqueTimes: <class 'list'>\n"
     ]
    }
   ],
   "source": [
    "#Lets get the values of x in the form of a list.\n",
    "uniqueTimes = x\n",
    "uniqueTimes = list(uniqueTimes)\n",
    "print(\"type of the variable x: \"+ str(type(x)))\n",
    "print(\"type of the variable uniqueTimes: \"+ str(type(uniqueTimes)))"
   ]
  },
  {
   "cell_type": "code",
   "execution_count": 185,
   "metadata": {},
   "outputs": [
    {
     "ename": "ValueError",
     "evalue": "'00:00:00' is not in list",
     "output_type": "error",
     "traceback": [
      "\u001b[0;31m---------------------------------------------------------------------------\u001b[0m",
      "\u001b[0;31mValueError\u001b[0m                                Traceback (most recent call last)",
      "\u001b[0;32m<ipython-input-185-ef257f679d85>\u001b[0m in \u001b[0;36m<module>\u001b[0;34m()\u001b[0m\n\u001b[1;32m      1\u001b[0m \u001b[0;31m#here I am looping through each unique time and using its index as a continuous variable\u001b[0m\u001b[0;34m\u001b[0m\u001b[0;34m\u001b[0m\u001b[0m\n\u001b[1;32m      2\u001b[0m \u001b[0;32mfor\u001b[0m \u001b[0mindex\u001b[0m\u001b[0;34m,\u001b[0m\u001b[0mrow\u001b[0m \u001b[0;32min\u001b[0m \u001b[0mtimeHourRainfallDF\u001b[0m\u001b[0;34m.\u001b[0m\u001b[0miterrows\u001b[0m\u001b[0;34m(\u001b[0m\u001b[0;34m)\u001b[0m\u001b[0;34m:\u001b[0m\u001b[0;34m\u001b[0m\u001b[0m\n\u001b[0;32m----> 3\u001b[0;31m     \u001b[0mtimeHourRainfallDF\u001b[0m\u001b[0;34m.\u001b[0m\u001b[0mset_value\u001b[0m\u001b[0;34m(\u001b[0m\u001b[0mindex\u001b[0m\u001b[0;34m,\u001b[0m\u001b[0;34m'timeIndex'\u001b[0m\u001b[0;34m,\u001b[0m \u001b[0muniqueTimes\u001b[0m\u001b[0;34m.\u001b[0m\u001b[0mindex\u001b[0m\u001b[0;34m(\u001b[0m\u001b[0mrow\u001b[0m\u001b[0;34m[\u001b[0m\u001b[0;34m\"time\"\u001b[0m\u001b[0;34m]\u001b[0m\u001b[0;34m)\u001b[0m\u001b[0;34m)\u001b[0m\u001b[0;34m\u001b[0m\u001b[0m\n\u001b[0m",
      "\u001b[0;31mValueError\u001b[0m: '00:00:00' is not in list"
     ]
    }
   ],
   "source": [
    "#Here I am looping through each unique time and using its index as a unique continuous variable.\n",
    "for index,row in timeHourRainfallDF.iterrows():\n",
    "    timeHourRainfallDF.set_value(index,'timeIndex', uniqueTimes.index(row[\"time\"]))"
   ]
  },
  {
   "cell_type": "code",
   "execution_count": 127,
   "metadata": {},
   "outputs": [
    {
     "data": {
      "text/html": [
       "<div>\n",
       "<style>\n",
       "    .dataframe thead tr:only-child th {\n",
       "        text-align: right;\n",
       "    }\n",
       "\n",
       "    .dataframe thead th {\n",
       "        text-align: left;\n",
       "    }\n",
       "\n",
       "    .dataframe tbody tr th {\n",
       "        vertical-align: top;\n",
       "    }\n",
       "</style>\n",
       "<table border=\"1\" class=\"dataframe\">\n",
       "  <thead>\n",
       "    <tr style=\"text-align: right;\">\n",
       "      <th></th>\n",
       "      <th>id</th>\n",
       "      <th>name</th>\n",
       "      <th>date</th>\n",
       "      <th>rainfall</th>\n",
       "      <th>time</th>\n",
       "      <th>hour</th>\n",
       "      <th>timeIndex</th>\n",
       "    </tr>\n",
       "  </thead>\n",
       "  <tbody>\n",
       "    <tr>\n",
       "      <th>0</th>\n",
       "      <td>7677</td>\n",
       "      <td>RG_001</td>\n",
       "      <td>2017-06-01T00:00:00</td>\n",
       "      <td>0.0</td>\n",
       "      <td>00:00:00</td>\n",
       "      <td>00</td>\n",
       "      <td>0.0</td>\n",
       "    </tr>\n",
       "    <tr>\n",
       "      <th>1</th>\n",
       "      <td>7677</td>\n",
       "      <td>RG_001</td>\n",
       "      <td>2017-06-01T00:05:00</td>\n",
       "      <td>0.0</td>\n",
       "      <td>00:05:00</td>\n",
       "      <td>00</td>\n",
       "      <td>1.0</td>\n",
       "    </tr>\n",
       "    <tr>\n",
       "      <th>2</th>\n",
       "      <td>7677</td>\n",
       "      <td>RG_001</td>\n",
       "      <td>2017-06-01T00:10:00</td>\n",
       "      <td>0.0</td>\n",
       "      <td>00:10:00</td>\n",
       "      <td>00</td>\n",
       "      <td>2.0</td>\n",
       "    </tr>\n",
       "    <tr>\n",
       "      <th>3</th>\n",
       "      <td>7677</td>\n",
       "      <td>RG_001</td>\n",
       "      <td>2017-06-01T00:15:00</td>\n",
       "      <td>0.0</td>\n",
       "      <td>00:15:00</td>\n",
       "      <td>00</td>\n",
       "      <td>3.0</td>\n",
       "    </tr>\n",
       "    <tr>\n",
       "      <th>4</th>\n",
       "      <td>7677</td>\n",
       "      <td>RG_001</td>\n",
       "      <td>2017-06-01T00:20:00</td>\n",
       "      <td>0.0</td>\n",
       "      <td>00:20:00</td>\n",
       "      <td>00</td>\n",
       "      <td>4.0</td>\n",
       "    </tr>\n",
       "  </tbody>\n",
       "</table>\n",
       "</div>"
      ],
      "text/plain": [
       "     id    name                 date  rainfall      time hour  timeIndex\n",
       "0  7677  RG_001  2017-06-01T00:00:00       0.0  00:00:00   00        0.0\n",
       "1  7677  RG_001  2017-06-01T00:05:00       0.0  00:05:00   00        1.0\n",
       "2  7677  RG_001  2017-06-01T00:10:00       0.0  00:10:00   00        2.0\n",
       "3  7677  RG_001  2017-06-01T00:15:00       0.0  00:15:00   00        3.0\n",
       "4  7677  RG_001  2017-06-01T00:20:00       0.0  00:20:00   00        4.0"
      ]
     },
     "execution_count": 127,
     "metadata": {},
     "output_type": "execute_result"
    }
   ],
   "source": [
    "timeHourRainfallDF.head()"
   ]
  },
  {
   "cell_type": "markdown",
   "metadata": {},
   "source": [
    "Now lets overwrite our `x` variable with the _values_ of the _timeIndex_ column from the `timeHourRainfallDF`."
   ]
  },
  {
   "cell_type": "code",
   "execution_count": 128,
   "metadata": {},
   "outputs": [],
   "source": [
    "x = <FILL IN>"
   ]
  },
  {
   "cell_type": "markdown",
   "metadata": {},
   "source": [
    "Now lets construct our graph."
   ]
  },
  {
   "cell_type": "code",
   "execution_count": 129,
   "metadata": {},
   "outputs": [
    {
     "data": {
      "text/plain": [
       "<matplotlib.collections.PathCollection at 0x7f45ee0d9e48>"
      ]
     },
     "execution_count": 129,
     "metadata": {},
     "output_type": "execute_result"
    },
    {
     "data": {
      "image/png": "[encoded data removed]",
      "text/plain": [
       "<matplotlib.figure.Figure at 0x7f461677a550>"
      ]
     },
     "metadata": {},
     "output_type": "display_data"
    }
   ],
   "source": [
    "plt.scatter(x,y)"
   ]
  },
  {
   "cell_type": "markdown",
   "metadata": {},
   "source": [
    "Hmm that's a bit small. lets increase it by inserting `plt.rcParams[\"figure.figsize\"] = \"18, 13\"` before we tweak the font."
   ]
  },
  {
   "cell_type": "code",
   "execution_count": 168,
   "metadata": {},
   "outputs": [
    {
     "data": {
      "text/plain": [
       "<matplotlib.collections.PathCollection at 0x7f45f0104198>"
      ]
     },
     "execution_count": 168,
     "metadata": {},
     "output_type": "execute_result"
    },
    {
     "data": {
      "image/png": "[encoded data removed]",
      "text/plain": [
       "<matplotlib.figure.Figure at 0x7f45ec623470>"
      ]
     },
     "metadata": {},
     "output_type": "display_data"
    }
   ],
   "source": [
    "<FILL IN>\n",
    "font = {'size': 16} #You can tweak around with the font params to make them prettier.\n",
    "plt.rc('font', **font) #Note: You only need to modify font global variables once and your changes will persist.\n",
    "plt.scatter(x,y)"
   ]
  },
  {
   "cell_type": "markdown",
   "metadata": {},
   "source": [
    "We can also set lables for the table. Set the _title_ for the grapph as `\"24-Hour Rainfall\"`, the _xlabel_ as `\"Time of Day\"`, and the _ylabel_ as `\"Amount of Rainfall (mm)\"`."
   ]
  },
  {
   "cell_type": "code",
   "execution_count": 184,
   "metadata": {},
   "outputs": [
    {
     "ename": "SyntaxError",
     "evalue": "invalid syntax (<ipython-input-184-354336c62fca>, line 1)",
     "output_type": "error",
     "traceback": [
      "\u001b[0;36m  File \u001b[0;32m\"<ipython-input-184-354336c62fca>\"\u001b[0;36m, line \u001b[0;32m1\u001b[0m\n\u001b[0;31m    plt.title(FILL IN)\u001b[0m\n\u001b[0m                    ^\u001b[0m\n\u001b[0;31mSyntaxError\u001b[0m\u001b[0;31m:\u001b[0m invalid syntax\n"
     ]
    }
   ],
   "source": [
    "plt.title(<FILL IN>)\n",
    "plt.xlabel(<FILL IN>)\n",
    "plt.ylabel(<FILL IN>)\n",
    "plt.rcParams[\"figure.figsize\"] = \"18, 13\"\n",
    "plt.scatter(x,y)"
   ]
  },
  {
   "cell_type": "markdown",
   "metadata": {},
   "source": [
    "You can save your graphs by right-clicking on the image and select _save as_. You can also preview them as larger images by right-clicking and opening your graph in a new tab."
   ]
  },
  {
   "cell_type": "markdown",
   "metadata": {},
   "source": [
    "To be honest I wasn't expecting spikes as clear as the ones shown above. And that's the beauty of graphing! It allows you to visually see patterns you might miss. Here you can clearly see when it rains the most and least in Toronto."
   ]
  },
  {
   "cell_type": "markdown",
   "metadata": {},
   "source": [
    "One of my favourite things to do is to plot two different variables against each other and look at their correlation (http://www.statisticshowto.com/what-is-correlation/). This will allow us to see which pairs of variables seem to have the most correlation with each other."
   ]
  },
  {
   "cell_type": "code",
   "execution_count": 172,
   "metadata": {},
   "outputs": [],
   "source": [
    "#Lets define a function to make correlation matrices!\n",
    "def plot_correlation_map( df ):\n",
    "    corr = df.corr()\n",
    "    _ , ax = plt.subplots( figsize =( 12 , 10 ) )\n",
    "    cmap = sns.diverging_palette( 220 , 10 , as_cmap = True )\n",
    "    _ = sns.heatmap(\n",
    "        corr, \n",
    "        cmap = cmap,\n",
    "        square=True, \n",
    "        cbar_kws={ 'shrink' : .9 }, \n",
    "        ax=ax, \n",
    "        annot = True, \n",
    "        annot_kws = { 'fontsize' : 12 })"
   ]
  },
  {
   "cell_type": "markdown",
   "metadata": {},
   "source": [
    "Can you pass the `timeHourRainfallDF` into the `plot_correlation_map()` function?"
   ]
  },
  {
   "cell_type": "code",
   "execution_count": 173,
   "metadata": {
    "scrolled": false
   },
   "outputs": [
    {
     "data": {
      "image/png": "[encoded data removed]",
      "text/plain": [
       "<matplotlib.figure.Figure at 0x7f45effceb70>"
      ]
     },
     "metadata": {},
     "output_type": "display_data"
    }
   ],
   "source": [
    "plot_correlation_map(<FILL IN>)"
   ]
  },
  {
   "cell_type": "markdown",
   "metadata": {},
   "source": [
    "As expected, most variables in our dataset doesn't really correlate with one another. Afterall, it's hard to see how rainfall will influence the time index. You will notice how every variable is 100% correlated with itself (which makes sense). To generate this correlation graph we were calculating the covariance against each variable. Something you can learn more about here: http://www.wikihow.com/Calculate-Covariance."
   ]
  },
  {
   "cell_type": "markdown",
   "metadata": {},
   "source": [
    "Now that we have some prerequsite knowledge on how to plot and graph in Python, lets try to visualize something more challenging. I want us to __plot downpours of rain on top of a map of Toronto.__\n",
    "\n",
    "Lets start by importing the data we want to use. "
   ]
  },
  {
   "cell_type": "code",
   "execution_count": 134,
   "metadata": {},
   "outputs": [],
   "source": [
    "datalist = []\n",
    "datalist.append(pd.read_csv(\"../2017_rainfall_data/rainfall201701.csv\"))\n",
    "datalist.append(pd.read_csv(\"../2017_rainfall_data/rainfall201702.csv\"))\n",
    "datalist.append(pd.read_csv(\"../2017_rainfall_data/rainfall201703.csv\"))\n",
    "datalist.append(pd.read_csv(\"../2017_rainfall_data/rainfall201704.csv\"))\n",
    "datalist.append(pd.read_csv(\"../2017_rainfall_data/rainfall201705.csv\"))\n",
    "datalist.append(pd.read_csv(\"../2017_rainfall_data/rainfall201706.csv\"))\n",
    "datalist.append(pd.read_csv(\"../2017_rainfall_data/sites201701.csv\"))\n",
    "datalist.append(pd.read_csv(\"../2017_rainfall_data/sites201702.csv\"))\n",
    "datalist.append(pd.read_csv(\"../2017_rainfall_data/sites201703.csv\"))\n",
    "datalist.append(pd.read_csv(\"../2017_rainfall_data/sites201704.csv\"))\n",
    "datalist.append(pd.read_csv(\"../2017_rainfall_data/sites201705.csv\"))\n",
    "datalist.append(pd.read_csv(\"../2017_rainfall_data/sites201706.csv\"))"
   ]
  },
  {
   "cell_type": "markdown",
   "metadata": {},
   "source": [
    "lets see what kind of data we've imported into our datalist. Run the `head()` function onto the _0th_ index of `datalist`."
   ]
  },
  {
   "cell_type": "code",
   "execution_count": 135,
   "metadata": {},
   "outputs": [
    {
     "data": {
      "text/html": [
       "<div>\n",
       "<style>\n",
       "    .dataframe thead tr:only-child th {\n",
       "        text-align: right;\n",
       "    }\n",
       "\n",
       "    .dataframe thead th {\n",
       "        text-align: left;\n",
       "    }\n",
       "\n",
       "    .dataframe tbody tr th {\n",
       "        vertical-align: top;\n",
       "    }\n",
       "</style>\n",
       "<table border=\"1\" class=\"dataframe\">\n",
       "  <thead>\n",
       "    <tr style=\"text-align: right;\">\n",
       "      <th></th>\n",
       "      <th>id</th>\n",
       "      <th>name</th>\n",
       "      <th>date</th>\n",
       "      <th>rainfall</th>\n",
       "    </tr>\n",
       "  </thead>\n",
       "  <tbody>\n",
       "    <tr>\n",
       "      <th>0</th>\n",
       "      <td>7687</td>\n",
       "      <td>RG_016</td>\n",
       "      <td>2017-01-01T00:00:00</td>\n",
       "      <td>0.0</td>\n",
       "    </tr>\n",
       "    <tr>\n",
       "      <th>1</th>\n",
       "      <td>7687</td>\n",
       "      <td>RG_016</td>\n",
       "      <td>2017-01-01T00:05:00</td>\n",
       "      <td>0.0</td>\n",
       "    </tr>\n",
       "    <tr>\n",
       "      <th>2</th>\n",
       "      <td>7687</td>\n",
       "      <td>RG_016</td>\n",
       "      <td>2017-01-01T00:10:00</td>\n",
       "      <td>0.0</td>\n",
       "    </tr>\n",
       "    <tr>\n",
       "      <th>3</th>\n",
       "      <td>7687</td>\n",
       "      <td>RG_016</td>\n",
       "      <td>2017-01-01T00:15:00</td>\n",
       "      <td>0.0</td>\n",
       "    </tr>\n",
       "    <tr>\n",
       "      <th>4</th>\n",
       "      <td>7687</td>\n",
       "      <td>RG_016</td>\n",
       "      <td>2017-01-01T00:20:00</td>\n",
       "      <td>0.0</td>\n",
       "    </tr>\n",
       "  </tbody>\n",
       "</table>\n",
       "</div>"
      ],
      "text/plain": [
       "     id    name                 date  rainfall\n",
       "0  7687  RG_016  2017-01-01T00:00:00       0.0\n",
       "1  7687  RG_016  2017-01-01T00:05:00       0.0\n",
       "2  7687  RG_016  2017-01-01T00:10:00       0.0\n",
       "3  7687  RG_016  2017-01-01T00:15:00       0.0\n",
       "4  7687  RG_016  2017-01-01T00:20:00       0.0"
      ]
     },
     "execution_count": 135,
     "metadata": {},
     "output_type": "execute_result"
    }
   ],
   "source": [
    "<FILL IN>"
   ]
  },
  {
   "cell_type": "code",
   "execution_count": 136,
   "metadata": {},
   "outputs": [
    {
     "data": {
      "text/html": [
       "<div>\n",
       "<style>\n",
       "    .dataframe thead tr:only-child th {\n",
       "        text-align: right;\n",
       "    }\n",
       "\n",
       "    .dataframe thead th {\n",
       "        text-align: left;\n",
       "    }\n",
       "\n",
       "    .dataframe tbody tr th {\n",
       "        vertical-align: top;\n",
       "    }\n",
       "</style>\n",
       "<table border=\"1\" class=\"dataframe\">\n",
       "  <thead>\n",
       "    <tr style=\"text-align: right;\">\n",
       "      <th></th>\n",
       "      <th>id</th>\n",
       "      <th>name</th>\n",
       "      <th>date</th>\n",
       "      <th>rainfall</th>\n",
       "    </tr>\n",
       "  </thead>\n",
       "  <tbody>\n",
       "    <tr>\n",
       "      <th>0</th>\n",
       "      <td>7677</td>\n",
       "      <td>RG_001</td>\n",
       "      <td>2017-06-01T00:00:00</td>\n",
       "      <td>0.0</td>\n",
       "    </tr>\n",
       "    <tr>\n",
       "      <th>1</th>\n",
       "      <td>7677</td>\n",
       "      <td>RG_001</td>\n",
       "      <td>2017-06-01T00:05:00</td>\n",
       "      <td>0.0</td>\n",
       "    </tr>\n",
       "    <tr>\n",
       "      <th>2</th>\n",
       "      <td>7677</td>\n",
       "      <td>RG_001</td>\n",
       "      <td>2017-06-01T00:10:00</td>\n",
       "      <td>0.0</td>\n",
       "    </tr>\n",
       "    <tr>\n",
       "      <th>3</th>\n",
       "      <td>7677</td>\n",
       "      <td>RG_001</td>\n",
       "      <td>2017-06-01T00:15:00</td>\n",
       "      <td>0.0</td>\n",
       "    </tr>\n",
       "    <tr>\n",
       "      <th>4</th>\n",
       "      <td>7677</td>\n",
       "      <td>RG_001</td>\n",
       "      <td>2017-06-01T00:20:00</td>\n",
       "      <td>0.0</td>\n",
       "    </tr>\n",
       "  </tbody>\n",
       "</table>\n",
       "</div>"
      ],
      "text/plain": [
       "     id    name                 date  rainfall\n",
       "0  7677  RG_001  2017-06-01T00:00:00       0.0\n",
       "1  7677  RG_001  2017-06-01T00:05:00       0.0\n",
       "2  7677  RG_001  2017-06-01T00:10:00       0.0\n",
       "3  7677  RG_001  2017-06-01T00:15:00       0.0\n",
       "4  7677  RG_001  2017-06-01T00:20:00       0.0"
      ]
     },
     "execution_count": 136,
     "metadata": {},
     "output_type": "execute_result"
    }
   ],
   "source": [
    "datalist[5].head()"
   ]
  },
  {
   "cell_type": "code",
   "execution_count": 137,
   "metadata": {},
   "outputs": [
    {
     "data": {
      "text/html": [
       "<div>\n",
       "<style>\n",
       "    .dataframe thead tr:only-child th {\n",
       "        text-align: right;\n",
       "    }\n",
       "\n",
       "    .dataframe thead th {\n",
       "        text-align: left;\n",
       "    }\n",
       "\n",
       "    .dataframe tbody tr th {\n",
       "        vertical-align: top;\n",
       "    }\n",
       "</style>\n",
       "<table border=\"1\" class=\"dataframe\">\n",
       "  <thead>\n",
       "    <tr style=\"text-align: right;\">\n",
       "      <th></th>\n",
       "      <th>id</th>\n",
       "      <th>name</th>\n",
       "      <th>longitude</th>\n",
       "      <th>latitude</th>\n",
       "    </tr>\n",
       "  </thead>\n",
       "  <tbody>\n",
       "    <tr>\n",
       "      <th>0</th>\n",
       "      <td>7677</td>\n",
       "      <td>RG_001</td>\n",
       "      <td>-79.478112</td>\n",
       "      <td>43.647680</td>\n",
       "    </tr>\n",
       "    <tr>\n",
       "      <th>1</th>\n",
       "      <td>7678</td>\n",
       "      <td>RG_002</td>\n",
       "      <td>-79.443616</td>\n",
       "      <td>43.651196</td>\n",
       "    </tr>\n",
       "    <tr>\n",
       "      <th>2</th>\n",
       "      <td>7679</td>\n",
       "      <td>RG_003</td>\n",
       "      <td>-79.405094</td>\n",
       "      <td>43.656616</td>\n",
       "    </tr>\n",
       "    <tr>\n",
       "      <th>3</th>\n",
       "      <td>7680</td>\n",
       "      <td>RG_004</td>\n",
       "      <td>-79.402833</td>\n",
       "      <td>43.678343</td>\n",
       "    </tr>\n",
       "    <tr>\n",
       "      <th>4</th>\n",
       "      <td>7681</td>\n",
       "      <td>RG_006</td>\n",
       "      <td>-79.375101</td>\n",
       "      <td>43.661265</td>\n",
       "    </tr>\n",
       "  </tbody>\n",
       "</table>\n",
       "</div>"
      ],
      "text/plain": [
       "     id    name  longitude   latitude\n",
       "0  7677  RG_001 -79.478112  43.647680\n",
       "1  7678  RG_002 -79.443616  43.651196\n",
       "2  7679  RG_003 -79.405094  43.656616\n",
       "3  7680  RG_004 -79.402833  43.678343\n",
       "4  7681  RG_006 -79.375101  43.661265"
      ]
     },
     "execution_count": 137,
     "metadata": {},
     "output_type": "execute_result"
    }
   ],
   "source": [
    "datalist[6].head()"
   ]
  },
  {
   "cell_type": "code",
   "execution_count": 138,
   "metadata": {},
   "outputs": [
    {
     "data": {
      "text/html": [
       "<div>\n",
       "<style>\n",
       "    .dataframe thead tr:only-child th {\n",
       "        text-align: right;\n",
       "    }\n",
       "\n",
       "    .dataframe thead th {\n",
       "        text-align: left;\n",
       "    }\n",
       "\n",
       "    .dataframe tbody tr th {\n",
       "        vertical-align: top;\n",
       "    }\n",
       "</style>\n",
       "<table border=\"1\" class=\"dataframe\">\n",
       "  <thead>\n",
       "    <tr style=\"text-align: right;\">\n",
       "      <th></th>\n",
       "      <th>id</th>\n",
       "      <th>name</th>\n",
       "      <th>longitude</th>\n",
       "      <th>latitude</th>\n",
       "    </tr>\n",
       "  </thead>\n",
       "  <tbody>\n",
       "    <tr>\n",
       "      <th>0</th>\n",
       "      <td>7677</td>\n",
       "      <td>RG_001</td>\n",
       "      <td>-79.478112</td>\n",
       "      <td>43.647680</td>\n",
       "    </tr>\n",
       "    <tr>\n",
       "      <th>1</th>\n",
       "      <td>7678</td>\n",
       "      <td>RG_002</td>\n",
       "      <td>-79.443616</td>\n",
       "      <td>43.651196</td>\n",
       "    </tr>\n",
       "    <tr>\n",
       "      <th>2</th>\n",
       "      <td>7679</td>\n",
       "      <td>RG_003</td>\n",
       "      <td>-79.405094</td>\n",
       "      <td>43.656616</td>\n",
       "    </tr>\n",
       "    <tr>\n",
       "      <th>3</th>\n",
       "      <td>7680</td>\n",
       "      <td>RG_004</td>\n",
       "      <td>-79.402833</td>\n",
       "      <td>43.678343</td>\n",
       "    </tr>\n",
       "    <tr>\n",
       "      <th>4</th>\n",
       "      <td>7681</td>\n",
       "      <td>RG_006</td>\n",
       "      <td>-79.375101</td>\n",
       "      <td>43.661265</td>\n",
       "    </tr>\n",
       "  </tbody>\n",
       "</table>\n",
       "</div>"
      ],
      "text/plain": [
       "     id    name  longitude   latitude\n",
       "0  7677  RG_001 -79.478112  43.647680\n",
       "1  7678  RG_002 -79.443616  43.651196\n",
       "2  7679  RG_003 -79.405094  43.656616\n",
       "3  7680  RG_004 -79.402833  43.678343\n",
       "4  7681  RG_006 -79.375101  43.661265"
      ]
     },
     "execution_count": 138,
     "metadata": {},
     "output_type": "execute_result"
    }
   ],
   "source": [
    "datalist[11].head()"
   ]
  },
  {
   "cell_type": "markdown",
   "metadata": {},
   "source": [
    "Since we imported the packages together, we know that the data from indexes 0-5 contains the rainfall data and that indexes 6-11 contains the geographical data.<br>_Note: We could also have inferred this from the code we used to import our data, but it's always good to check!_\n",
    "\n",
    "Lets combine the dataframes 0-5 into one giant _rainfallDF_ and dataframes 6-11 into one giant _geoDataDF_"
   ]
  },
  {
   "cell_type": "code",
   "execution_count": 139,
   "metadata": {},
   "outputs": [],
   "source": [
    "rainfallDF = datalist[0].append(datalist[1]).append(datalist[2]).append(datalist[3]).append(datalist[4]).append(datalist[5])\n",
    "geoDataDF = datalist[6].append(datalist[7]).append(datalist[8]).append(datalist[9]).append(datalist[10]).append(datalist[11])"
   ]
  },
  {
   "cell_type": "markdown",
   "metadata": {},
   "source": [
    "Lets see how large each DF is"
   ]
  },
  {
   "cell_type": "code",
   "execution_count": 140,
   "metadata": {},
   "outputs": [
    {
     "name": "stdout",
     "output_type": "stream",
     "text": [
      "length of rainfallDF: 1807014\n",
      "length of geoDataDF: 276\n"
     ]
    }
   ],
   "source": [
    "print(\"length of rainfallDF: \" + str(len(rainfallDF)))\n",
    "print(\"length of geoDataDF: \" + str(len(geoDataDF)))"
   ]
  },
  {
   "cell_type": "markdown",
   "metadata": {},
   "source": [
    "It looks like these two dataframes describes different datasets (because the number of rows don't match up).\n",
    "\n",
    "Yet if we looked at the _README_ for the dataset (https://goo.gl/gBYrb4), we'll realize that the values within `rainfallDF` describes the rain guage readings while the `geoDataDF` describes the locations of those rain guage stations.\n",
    "\n",
    "So lets print the number of stations that have a unique _name_ from `rainfallDF` and `geoDataDF` just to make sure that they both describe the same set of stations."
   ]
  },
  {
   "cell_type": "code",
   "execution_count": 141,
   "metadata": {},
   "outputs": [
    {
     "name": "stdout",
     "output_type": "stream",
     "text": [
      "length of unique station names in rainfallDF: 45\n",
      "length of unique ids in geoDataDF: 46\n"
     ]
    }
   ],
   "source": [
    "print(\"length of unique station names in rainfallDF: \" + str(len(rainfallDF[\"name\"].unique())))\n",
    "print(\"length of unique ids in geoDataDF: \" + str(len(geoDataDF[\"name\"].unique())))"
   ]
  },
  {
   "cell_type": "markdown",
   "metadata": {},
   "source": [
    "It seems like there is one more station location described in the geoDataDF than in the rainfallDF. This probably means that a new station was built but no readings have been recorded yet. Nonetheless, we have enough station locations to correspond each rainfall reading with the location from which it was read from. You may have noticed that every name in the geoDataDF describes the location of one geo station. Each station has many readings and their readings are recorded in the rainfallDF.\n",
    "\n",
    "Now that we have a better understanding of the data within our two datasets, lets try to match up every rainfall reading with the lat lon of every station. This will give each rainfall reading a coordinate which we can use to plot on a map!\n",
    "\n",
    "To match each rain guage reading with its corresponding station we'll have the `merge()` the two datasets on the _name_ column. This means every row in `rainfallDF` will have 2 extra attributes that describes its corresponding _lat lon_ location. If you're using multiple dataframes in your analysis remember that this function exists!\n",
    "\n",
    "We'll use the Pandas `merge()` function to join the dataframes by the _name_ column."
   ]
  },
  {
   "cell_type": "code",
   "execution_count": 142,
   "metadata": {},
   "outputs": [
    {
     "data": {
      "text/html": [
       "<div>\n",
       "<style>\n",
       "    .dataframe thead tr:only-child th {\n",
       "        text-align: right;\n",
       "    }\n",
       "\n",
       "    .dataframe thead th {\n",
       "        text-align: left;\n",
       "    }\n",
       "\n",
       "    .dataframe tbody tr th {\n",
       "        vertical-align: top;\n",
       "    }\n",
       "</style>\n",
       "<table border=\"1\" class=\"dataframe\">\n",
       "  <thead>\n",
       "    <tr style=\"text-align: right;\">\n",
       "      <th></th>\n",
       "      <th>id_x</th>\n",
       "      <th>name</th>\n",
       "      <th>date</th>\n",
       "      <th>rainfall</th>\n",
       "      <th>id_y</th>\n",
       "      <th>longitude</th>\n",
       "      <th>latitude</th>\n",
       "    </tr>\n",
       "  </thead>\n",
       "  <tbody>\n",
       "    <tr>\n",
       "      <th>0</th>\n",
       "      <td>7687.0</td>\n",
       "      <td>RG_016</td>\n",
       "      <td>2017-01-01T00:00:00</td>\n",
       "      <td>0.0</td>\n",
       "      <td>7687</td>\n",
       "      <td>-79.520366</td>\n",
       "      <td>43.608125</td>\n",
       "    </tr>\n",
       "    <tr>\n",
       "      <th>1</th>\n",
       "      <td>7687.0</td>\n",
       "      <td>RG_016</td>\n",
       "      <td>2017-01-01T00:00:00</td>\n",
       "      <td>0.0</td>\n",
       "      <td>7687</td>\n",
       "      <td>-79.520366</td>\n",
       "      <td>43.608125</td>\n",
       "    </tr>\n",
       "    <tr>\n",
       "      <th>2</th>\n",
       "      <td>7687.0</td>\n",
       "      <td>RG_016</td>\n",
       "      <td>2017-01-01T00:00:00</td>\n",
       "      <td>0.0</td>\n",
       "      <td>7687</td>\n",
       "      <td>-79.520366</td>\n",
       "      <td>43.608125</td>\n",
       "    </tr>\n",
       "    <tr>\n",
       "      <th>3</th>\n",
       "      <td>7687.0</td>\n",
       "      <td>RG_016</td>\n",
       "      <td>2017-01-01T00:00:00</td>\n",
       "      <td>0.0</td>\n",
       "      <td>7687</td>\n",
       "      <td>-79.520366</td>\n",
       "      <td>43.608125</td>\n",
       "    </tr>\n",
       "    <tr>\n",
       "      <th>4</th>\n",
       "      <td>7687.0</td>\n",
       "      <td>RG_016</td>\n",
       "      <td>2017-01-01T00:00:00</td>\n",
       "      <td>0.0</td>\n",
       "      <td>7687</td>\n",
       "      <td>-79.520366</td>\n",
       "      <td>43.608125</td>\n",
       "    </tr>\n",
       "  </tbody>\n",
       "</table>\n",
       "</div>"
      ],
      "text/plain": [
       "     id_x    name                 date  rainfall  id_y  longitude   latitude\n",
       "0  7687.0  RG_016  2017-01-01T00:00:00       0.0  7687 -79.520366  43.608125\n",
       "1  7687.0  RG_016  2017-01-01T00:00:00       0.0  7687 -79.520366  43.608125\n",
       "2  7687.0  RG_016  2017-01-01T00:00:00       0.0  7687 -79.520366  43.608125\n",
       "3  7687.0  RG_016  2017-01-01T00:00:00       0.0  7687 -79.520366  43.608125\n",
       "4  7687.0  RG_016  2017-01-01T00:00:00       0.0  7687 -79.520366  43.608125"
      ]
     },
     "execution_count": 142,
     "metadata": {},
     "output_type": "execute_result"
    }
   ],
   "source": [
    "geoRainfallDFPoorColumns = rainfallDF.merge(geoDataDF, left_on='name', right_on='name', how='outer')\n",
    "geoRainfallDFPoorColumns.head()"
   ]
  },
  {
   "cell_type": "code",
   "execution_count": 143,
   "metadata": {
    "scrolled": true
   },
   "outputs": [
    {
     "data": {
      "text/html": [
       "<div>\n",
       "<style>\n",
       "    .dataframe thead tr:only-child th {\n",
       "        text-align: right;\n",
       "    }\n",
       "\n",
       "    .dataframe thead th {\n",
       "        text-align: left;\n",
       "    }\n",
       "\n",
       "    .dataframe tbody tr th {\n",
       "        vertical-align: top;\n",
       "    }\n",
       "</style>\n",
       "<table border=\"1\" class=\"dataframe\">\n",
       "  <thead>\n",
       "    <tr style=\"text-align: right;\">\n",
       "      <th></th>\n",
       "      <th>name</th>\n",
       "      <th>date</th>\n",
       "      <th>rainfall</th>\n",
       "      <th>id_y</th>\n",
       "      <th>longitude</th>\n",
       "      <th>latitude</th>\n",
       "    </tr>\n",
       "  </thead>\n",
       "  <tbody>\n",
       "    <tr>\n",
       "      <th>0</th>\n",
       "      <td>RG_016</td>\n",
       "      <td>2017-01-01T00:00:00</td>\n",
       "      <td>0.0</td>\n",
       "      <td>7687</td>\n",
       "      <td>-79.520366</td>\n",
       "      <td>43.608125</td>\n",
       "    </tr>\n",
       "    <tr>\n",
       "      <th>1</th>\n",
       "      <td>RG_016</td>\n",
       "      <td>2017-01-01T00:00:00</td>\n",
       "      <td>0.0</td>\n",
       "      <td>7687</td>\n",
       "      <td>-79.520366</td>\n",
       "      <td>43.608125</td>\n",
       "    </tr>\n",
       "    <tr>\n",
       "      <th>2</th>\n",
       "      <td>RG_016</td>\n",
       "      <td>2017-01-01T00:00:00</td>\n",
       "      <td>0.0</td>\n",
       "      <td>7687</td>\n",
       "      <td>-79.520366</td>\n",
       "      <td>43.608125</td>\n",
       "    </tr>\n",
       "    <tr>\n",
       "      <th>3</th>\n",
       "      <td>RG_016</td>\n",
       "      <td>2017-01-01T00:00:00</td>\n",
       "      <td>0.0</td>\n",
       "      <td>7687</td>\n",
       "      <td>-79.520366</td>\n",
       "      <td>43.608125</td>\n",
       "    </tr>\n",
       "    <tr>\n",
       "      <th>4</th>\n",
       "      <td>RG_016</td>\n",
       "      <td>2017-01-01T00:00:00</td>\n",
       "      <td>0.0</td>\n",
       "      <td>7687</td>\n",
       "      <td>-79.520366</td>\n",
       "      <td>43.608125</td>\n",
       "    </tr>\n",
       "  </tbody>\n",
       "</table>\n",
       "</div>"
      ],
      "text/plain": [
       "     name                 date  rainfall  id_y  longitude   latitude\n",
       "0  RG_016  2017-01-01T00:00:00       0.0  7687 -79.520366  43.608125\n",
       "1  RG_016  2017-01-01T00:00:00       0.0  7687 -79.520366  43.608125\n",
       "2  RG_016  2017-01-01T00:00:00       0.0  7687 -79.520366  43.608125\n",
       "3  RG_016  2017-01-01T00:00:00       0.0  7687 -79.520366  43.608125\n",
       "4  RG_016  2017-01-01T00:00:00       0.0  7687 -79.520366  43.608125"
      ]
     },
     "execution_count": 143,
     "metadata": {},
     "output_type": "execute_result"
    }
   ],
   "source": [
    "geoRainfallDFPoorColumns.drop(['id_x'], axis = 1, inplace = True, errors = 'ignore')\n",
    "# errors = 'ignore' means that if the id_x column doesn't exist this won't error.\n",
    "geoRainfallDFPoorColumns.head()"
   ]
  },
  {
   "cell_type": "markdown",
   "metadata": {},
   "source": [
    "Since we're going to use this dataframe for future workshops, lets fix up the columns, specifically id_y. Lets rename it to just id and move this column to the left most index of the dataframe. "
   ]
  },
  {
   "cell_type": "code",
   "execution_count": 144,
   "metadata": {},
   "outputs": [
    {
     "data": {
      "text/html": [
       "<div>\n",
       "<style>\n",
       "    .dataframe thead tr:only-child th {\n",
       "        text-align: right;\n",
       "    }\n",
       "\n",
       "    .dataframe thead th {\n",
       "        text-align: left;\n",
       "    }\n",
       "\n",
       "    .dataframe tbody tr th {\n",
       "        vertical-align: top;\n",
       "    }\n",
       "</style>\n",
       "<table border=\"1\" class=\"dataframe\">\n",
       "  <thead>\n",
       "    <tr style=\"text-align: right;\">\n",
       "      <th></th>\n",
       "      <th>id</th>\n",
       "      <th>name</th>\n",
       "      <th>date</th>\n",
       "      <th>rainfall</th>\n",
       "      <th>longitude</th>\n",
       "      <th>latitude</th>\n",
       "    </tr>\n",
       "  </thead>\n",
       "  <tbody>\n",
       "    <tr>\n",
       "      <th>0</th>\n",
       "      <td>7687</td>\n",
       "      <td>RG_016</td>\n",
       "      <td>2017-01-01T00:00:00</td>\n",
       "      <td>0.0</td>\n",
       "      <td>-79.520366</td>\n",
       "      <td>43.608125</td>\n",
       "    </tr>\n",
       "    <tr>\n",
       "      <th>1</th>\n",
       "      <td>7687</td>\n",
       "      <td>RG_016</td>\n",
       "      <td>2017-01-01T00:00:00</td>\n",
       "      <td>0.0</td>\n",
       "      <td>-79.520366</td>\n",
       "      <td>43.608125</td>\n",
       "    </tr>\n",
       "    <tr>\n",
       "      <th>2</th>\n",
       "      <td>7687</td>\n",
       "      <td>RG_016</td>\n",
       "      <td>2017-01-01T00:00:00</td>\n",
       "      <td>0.0</td>\n",
       "      <td>-79.520366</td>\n",
       "      <td>43.608125</td>\n",
       "    </tr>\n",
       "    <tr>\n",
       "      <th>3</th>\n",
       "      <td>7687</td>\n",
       "      <td>RG_016</td>\n",
       "      <td>2017-01-01T00:00:00</td>\n",
       "      <td>0.0</td>\n",
       "      <td>-79.520366</td>\n",
       "      <td>43.608125</td>\n",
       "    </tr>\n",
       "    <tr>\n",
       "      <th>4</th>\n",
       "      <td>7687</td>\n",
       "      <td>RG_016</td>\n",
       "      <td>2017-01-01T00:00:00</td>\n",
       "      <td>0.0</td>\n",
       "      <td>-79.520366</td>\n",
       "      <td>43.608125</td>\n",
       "    </tr>\n",
       "  </tbody>\n",
       "</table>\n",
       "</div>"
      ],
      "text/plain": [
       "     id    name                 date  rainfall  longitude   latitude\n",
       "0  7687  RG_016  2017-01-01T00:00:00       0.0 -79.520366  43.608125\n",
       "1  7687  RG_016  2017-01-01T00:00:00       0.0 -79.520366  43.608125\n",
       "2  7687  RG_016  2017-01-01T00:00:00       0.0 -79.520366  43.608125\n",
       "3  7687  RG_016  2017-01-01T00:00:00       0.0 -79.520366  43.608125\n",
       "4  7687  RG_016  2017-01-01T00:00:00       0.0 -79.520366  43.608125"
      ]
     },
     "execution_count": 144,
     "metadata": {},
     "output_type": "execute_result"
    }
   ],
   "source": [
    "#This makes it so that if your decide to re-run this cell then the columns will still be \"disorganized\".\n",
    "geoRainfallDF = geoRainfallDFPoorColumns\n",
    "\n",
    "#Lets set the name of the columns.\n",
    "geoRainfallDF.columns = ['name', 'date', 'rainfall', 'id', 'longitude', 'latitude']\n",
    "\n",
    "#Lets re-roder the id column. Doesn't it look familiar?\n",
    "geoRainfallDF = geoRainfallDF[['id', 'name', 'date', 'rainfall', 'longitude', 'latitude']]\n",
    "geoRainfallDF.head()"
   ]
  },
  {
   "cell_type": "markdown",
   "metadata": {},
   "source": [
    "Finally lets save this dataframe for future use."
   ]
  },
  {
   "cell_type": "code",
   "execution_count": 145,
   "metadata": {},
   "outputs": [],
   "source": [
    "geoRainfallDF.to_pickle(\"../saved_dataframes/geoRainfallDF\")"
   ]
  },
  {
   "cell_type": "markdown",
   "metadata": {},
   "source": [
    "So without further adeau, lets start and precipitation data ontop of a map of Toronto!\n",
    "\n",
    "Although Python has many great mapping libraries ranging from Plotly, gmaps, or even Basemap, we'll be using Folium because it merges the best of asthetics, simplicity, and utility.\n",
    "\n",
    "Folium is a project that builds ontop of the fantastic mapping library Leaflet. I personally think it's prettier and easier to setup than google maps.\n",
    "\n",
    "Folium: https://github.com/python-visualization/folium\n",
    "\n",
    "Leaflet: https://github.com/Leaflet/Leaflet\n",
    "\n",
    "So lets download Folium!"
   ]
  },
  {
   "cell_type": "code",
   "execution_count": 146,
   "metadata": {},
   "outputs": [
    {
     "name": "stdout",
     "output_type": "stream",
     "text": [
      "Requirement already satisfied: folium in /home/splacorn/miniconda3/lib/python3.6/site-packages\n",
      "Requirement already satisfied: requests in /home/splacorn/miniconda3/lib/python3.6/site-packages (from folium)\n",
      "Requirement already satisfied: jinja2 in /home/splacorn/miniconda3/lib/python3.6/site-packages (from folium)\n",
      "Requirement already satisfied: branca in /home/splacorn/miniconda3/lib/python3.6/site-packages (from folium)\n",
      "Requirement already satisfied: six in /home/splacorn/miniconda3/lib/python3.6/site-packages (from folium)\n",
      "Requirement already satisfied: MarkupSafe>=0.23 in /home/splacorn/miniconda3/lib/python3.6/site-packages (from jinja2->folium)\n"
     ]
    }
   ],
   "source": [
    "!pip install folium #The exclamation mark makes the current line Bash code\n",
    "import folium"
   ]
  },
  {
   "cell_type": "markdown",
   "metadata": {},
   "source": [
    "Lets see how it looks like"
   ]
  },
  {
   "cell_type": "code",
   "execution_count": 147,
   "metadata": {},
   "outputs": [
    {
     "data": {
      "text/html": [
       "<div style=\"width:100%;\"><div style=\"position:relative;width:100%;height:0;padding-bottom:60%;\"><iframe src=\"data:text/html;charset=utf-8;base64,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\" style=\"position:absolute;width:100%;height:100%;left:0;top:0;border:none !important;\" allowfullscreen webkitallowfullscreen mozallowfullscreen></iframe></div></div>"
      ],
      "text/plain": [
       "<folium.folium.Map at 0x7f45ee807470>"
      ]
     },
     "execution_count": 147,
     "metadata": {},
     "output_type": "execute_result"
    }
   ],
   "source": [
    "m = folium.Map(location=[43.6532, -79.3832], zoom_start=12) #For those of you wondering those are Toronto's lat lons.\n",
    "m"
   ]
  },
  {
   "cell_type": "markdown",
   "metadata": {},
   "source": [
    "That looks pretty nice! You can also place points on a map. Try clicking on them!"
   ]
  },
  {
   "cell_type": "code",
   "execution_count": 148,
   "metadata": {},
   "outputs": [
    {
     "data": {
      "text/html": [
       "<div style=\"width:100%;\"><div style=\"position:relative;width:100%;height:0;padding-bottom:60%;\"><iframe src=\"data:text/html;charset=utf-8;base64,PCFET0NUWVBFIGh0bWw+CjxoZWFkPiAgICAKICAgIDxtZXRhIGh0dHAtZXF1aXY9ImNvbnRlbnQtdHlwZSIgY29udGVudD0idGV4dC9odG1sOyBjaGFyc2V0PVVURi04IiAvPgogICAgPHNjcmlwdD5MX1BSRUZFUl9DQU5WQVMgPSBmYWxzZTsgTF9OT19UT1VDSCA9IGZhbHNlOyBMX0RJU0FCTEVfM0QgPSBmYWxzZTs8L3NjcmlwdD4KICAgIDxzY3JpcHQgc3JjPSJodHRwczovL2Nkbi5qc2RlbGl2ci5uZXQvbnBtL2xlYWZsZXRAMS4yLjAvZGlzdC9sZWFmbGV0LmpzIj48L3NjcmlwdD4KICAgIDxzY3JpcHQgc3JjPSJodHRwczovL2FqYXguZ29vZ2xlYXBpcy5jb20vYWpheC9saWJzL2pxdWVyeS8xLjExLjEvanF1ZXJ5Lm1pbi5qcyI+PC9zY3JpcHQ+CiAgICA8c2NyaXB0IHNyYz0iaHR0cHM6Ly9tYXhjZG4uYm9vdHN0cmFwY2RuLmNvbS9ib290c3RyYXAvMy4yLjAvanMvYm9vdHN0cmFwLm1pbi5qcyI+PC9zY3JpcHQ+CiAgICA8c2NyaXB0IHNyYz0iaHR0cHM6Ly9jZG5qcy5jbG91ZGZsYXJlLmNvbS9hamF4L2xpYnMvTGVhZmxldC5hd2Vzb21lLW1hcmtlcnMvMi4wLjIvbGVhZmxldC5hd2Vzb21lLW1hcmtlcnMuanMiPjwvc2NyaXB0PgogICAgPGxpbmsgcmVsPSJzdHlsZXNoZWV0IiBocmVmPSJodHRwczovL2Nkbi5qc2RlbGl2ci5uZXQvbnBtL2xlYWZsZXRAMS4yLjAvZGlzdC9sZWFmbGV0LmNzcyIgLz4KICAgIDxsaW5rIHJlbD0ic3R5bGVzaGVldCIgaHJlZj0iaHR0cHM6Ly9tYXhjZG4uYm9vdHN0cmFwY2RuLmNvbS9ib290c3RyYXAvMy4yLjAvY3NzL2Jvb3RzdHJhcC5taW4uY3NzIiAvPgogICAgPGxpbmsgcmVsPSJzdHlsZXNoZWV0IiBocmVmPSJodHRwczovL21heGNkbi5ib290c3RyYXBjZG4uY29tL2Jvb3RzdHJhcC8zLjIuMC9jc3MvYm9vdHN0cmFwLXRoZW1lLm1pbi5jc3MiIC8+CiAgICA8bGluayByZWw9InN0eWxlc2hlZXQiIGhyZWY9Imh0dHBzOi8vbWF4Y2RuLmJvb3RzdHJhcGNkbi5jb20vZm9udC1hd2Vzb21lLzQuNi4zL2Nzcy9mb250LWF3ZXNvbWUubWluLmNzcyIgLz4KICAgIDxsaW5rIHJlbD0ic3R5bGVzaGVldCIgaHJlZj0iaHR0cHM6Ly9jZG5qcy5jbG91ZGZsYXJlLmNvbS9hamF4L2xpYnMvTGVhZmxldC5hd2Vzb21lLW1hcmtlcnMvMi4wLjIvbGVhZmxldC5hd2Vzb21lLW1hcmtlcnMuY3NzIiAvPgogICAgPGxpbmsgcmVsPSJzdHlsZXNoZWV0IiBocmVmPSJodHRwczovL3Jhd2dpdC5jb20vcHl0aG9uLXZpc3VhbGl6YXRpb24vZm9saXVtL21hc3Rlci9mb2xpdW0vdGVtcGxhdGVzL2xlYWZsZXQuYXdlc29tZS5yb3RhdGUuY3NzIiAvPgogICAgPHN0eWxlPmh0bWwsIGJvZHkge3dpZHRoOiAxMDAlO2hlaWdodDogMTAwJTttYXJnaW46IDA7cGFkZGluZzogMDt9PC9zdHlsZT4KICAgIDxzdHlsZT4jbWFwIHtwb3NpdGlvbjphYnNvbHV0ZTt0b3A6MDtib3R0b206MDtyaWdodDowO2xlZnQ6MDt9PC9zdHlsZT4KICAgIAogICAgICAgICAgICA8c3R5bGU+ICNtYXBfZTY4M2IzNjIxYjg0NGIwMGFjNGRjM2MzZWZkMzk1MmQgewogICAgICAgICAgICAgICAgcG9zaXRpb24gOiByZWxhdGl2ZTsKICAgICAgICAgICAgICAgIHdpZHRoIDogMTAwLjAlOwogICAgICAgICAgICAgICAgaGVpZ2h0OiAxMDAuMCU7CiAgICAgICAgICAgICAgICBsZWZ0OiAwLjAlOwogICAgICAgICAgICAgICAgdG9wOiAwLjAlOwogICAgICAgICAgICAgICAgfQogICAgICAgICAgICA8L3N0eWxlPgogICAgICAgIAo8L2hlYWQ+Cjxib2R5PiAgICAKICAgIAogICAgICAgICAgICA8ZGl2IGNsYXNzPSJmb2xpdW0tbWFwIiBpZD0ibWFwX2U2ODNiMzYyMWI4NDRiMDBhYzRkYzNjM2VmZDM5NTJkIiA+PC9kaXY+CiAgICAgICAgCjwvYm9keT4KPHNjcmlwdD4gICAgCiAgICAKCiAgICAgICAgICAgIAogICAgICAgICAgICAgICAgdmFyIGJvdW5kcyA9IG51bGw7CiAgICAgICAgICAgIAoKICAgICAgICAgICAgdmFyIG1hcF9lNjgzYjM2MjFiODQ0YjAwYWM0ZGMzYzNlZmQzOTUyZCA9IEwubWFwKAogICAgICAgICAgICAgICAgICAgICAgICAgICAgICAgICAgJ21hcF9lNjgzYjM2MjFiODQ0YjAwYWM0ZGMzYzNlZmQzOTUyZCcsCiAgICAgICAgICAgICAgICAgICAgICAgICAgICAgICAgICB7Y2VudGVyOiBbNDMuNjUzMiwtNzkuMzgzMl0sCiAgICAgICAgICAgICAgICAgICAgICAgICAgICAgICAgICB6b29tOiAxMiwKICAgICAgICAgICAgICAgICAgICAgICAgICAgICAgICAgIG1heEJvdW5kczogYm91bmRzLAogICAgICAgICAgICAgICAgICAgICAgICAgICAgICAgICAgbGF5ZXJzOiBbXSwKICAgICAgICAgICAgICAgICAgICAgICAgICAgICAgICAgIHdvcmxkQ29weUp1bXA6IGZhbHNlLAogICAgICAgICAgICAgICAgICAgICAgICAgICAgICAgICAgY3JzOiBMLkNSUy5FUFNHMzg1NwogICAgICAgICAgICAgICAgICAgICAgICAgICAgICAgICB9KTsKICAgICAgICAgICAgCiAgICAgICAgCiAgICAKICAgICAgICAgICAgdmFyIHRpbGVfbGF5ZXJfMjY5MjdmNWQwZDY0NGEwYzk3NWZkNTQ5ZjZjMjg0OTIgPSBMLnRpbGVMYXllcigKICAgICAgICAgICAgICAgICdodHRwczovL3tzfS50aWxlLm9wZW5zdHJlZXRtYXAub3JnL3t6fS97eH0ve3l9LnBuZycsCiAgICAgICAgICAgICAgICB7CiAgImF0dHJpYnV0aW9uIjogbnVsbCwKICAiZGV0ZWN0UmV0aW5hIjogZmFsc2UsCiAgIm1heFpvb20iOiAxOCwKICAibWluWm9vbSI6IDEsCiAgIm5vV3JhcCI6IGZhbHNlLAogICJzdWJkb21haW5zIjogImFiYyIKfQogICAgICAgICAgICAgICAgKS5hZGRUbyhtYXBfZTY4M2IzNjIxYjg0NGIwMGFjNGRjM2MzZWZkMzk1MmQpOwogICAgICAgIAogICAgCgogICAgICAgICAgICB2YXIgbWFya2VyXzQ0Mjk3YzUyMzM0YzRiMjk5ZDdhMjU1MzhkMzI2NGEzID0gTC5tYXJrZXIoCiAgICAgICAgICAgICAgICBbNDMuNjQyNiwtNzkuMzg3MV0sCiAgICAgICAgICAgICAgICB7CiAgICAgICAgICAgICAgICAgICAgaWNvbjogbmV3IEwuSWNvbi5EZWZhdWx0KCkKICAgICAgICAgICAgICAgICAgICB9CiAgICAgICAgICAgICAgICApCiAgICAgICAgICAgICAgICAuYWRkVG8obWFwX2U2ODNiMzYyMWI4NDRiMDBhYzRkYzNjM2VmZDM5NTJkKTsKICAgICAgICAgICAgCiAgICAKICAgICAgICAgICAgdmFyIHBvcHVwXzFkMzFlYWFmYTM5ZjQ4YTBiMDgxZTBmMDAwOTE0NGM2ID0gTC5wb3B1cCh7bWF4V2lkdGg6ICczMDAnfSk7CgogICAgICAgICAgICAKICAgICAgICAgICAgICAgIHZhciBodG1sXzE1ZGM0ZWIwMWZlMjRlOTA4NDYyMjM1NTI1ZTllOWFmID0gJCgnPGRpdiBpZD0iaHRtbF8xNWRjNGViMDFmZTI0ZTkwODQ2MjIzNTUyNWU5ZTlhZiIgc3R5bGU9IndpZHRoOiAxMDAuMCU7IGhlaWdodDogMTAwLjAlOyI+PGk+Q04gVG93ZXI8L2k+PC9kaXY+JylbMF07CiAgICAgICAgICAgICAgICBwb3B1cF8xZDMxZWFhZmEzOWY0OGEwYjA4MWUwZjAwMDkxNDRjNi5zZXRDb250ZW50KGh0bWxfMTVkYzRlYjAxZmUyNGU5MDg0NjIyMzU1MjVlOWU5YWYpOwogICAgICAgICAgICAKCiAgICAgICAgICAgIG1hcmtlcl80NDI5N2M1MjMzNGM0YjI5OWQ3YTI1NTM4ZDMyNjRhMy5iaW5kUG9wdXAocG9wdXBfMWQzMWVhYWZhMzlmNDhhMGIwODFlMGYwMDA5MTQ0YzYpOwoKICAgICAgICAgICAgCiAgICAgICAgCiAgICAKCiAgICAgICAgICAgIHZhciBtYXJrZXJfZmYxNDgxNzJkMGRkNGJkMmEzYjYwOTIwODIxMmI3MTIgPSBMLm1hcmtlcigKICAgICAgICAgICAgICAgIFs0My42Njc3LC03OS4zOTQ4XSwKICAgICAgICAgICAgICAgIHsKICAgICAgICAgICAgICAgICAgICBpY29uOiBuZXcgTC5JY29uLkRlZmF1bHQoKQogICAgICAgICAgICAgICAgICAgIH0KICAgICAgICAgICAgICAgICkKICAgICAgICAgICAgICAgIC5hZGRUbyhtYXBfZTY4M2IzNjIxYjg0NGIwMGFjNGRjM2MzZWZkMzk1MmQpOwogICAgICAgICAgICAKICAgIAogICAgICAgICAgICB2YXIgcG9wdXBfYjJkMzM0YzlhZWUyNGU1ZWIxNGVkY2Q5ZjA3N2U4M2UgPSBMLnBvcHVwKHttYXhXaWR0aDogJzMwMCd9KTsKCiAgICAgICAgICAgIAogICAgICAgICAgICAgICAgdmFyIGh0bWxfMTZiMjFkYWRhNWY4NGI1ZWI5ZjdiNjA3YWI5YzU4NDQgPSAkKCc8ZGl2IGlkPSJodG1sXzE2YjIxZGFkYTVmODRiNWViOWY3YjYwN2FiOWM1ODQ0IiBzdHlsZT0id2lkdGg6IDEwMC4wJTsgaGVpZ2h0OiAxMDAuMCU7Ij48Yj5Sb3lhbCBPbnRhcmlvIE11c2V1bTwvYj48L2Rpdj4nKVswXTsKICAgICAgICAgICAgICAgIHBvcHVwX2IyZDMzNGM5YWVlMjRlNWViMTRlZGNkOWYwNzdlODNlLnNldENvbnRlbnQoaHRtbF8xNmIyMWRhZGE1Zjg0YjVlYjlmN2I2MDdhYjljNTg0NCk7CiAgICAgICAgICAgIAoKICAgICAgICAgICAgbWFya2VyX2ZmMTQ4MTcyZDBkZDRiZDJhM2I2MDkyMDgyMTJiNzEyLmJpbmRQb3B1cChwb3B1cF9iMmQzMzRjOWFlZTI0ZTVlYjE0ZWRjZDlmMDc3ZTgzZSk7CgogICAgICAgICAgICAKICAgICAgICAKPC9zY3JpcHQ+\" style=\"position:absolute;width:100%;height:100%;left:0;top:0;border:none !important;\" allowfullscreen webkitallowfullscreen mozallowfullscreen></iframe></div></div>"
      ],
      "text/plain": [
       "<folium.folium.Map at 0x7f45ee807470>"
      ]
     },
     "execution_count": 148,
     "metadata": {},
     "output_type": "execute_result"
    }
   ],
   "source": [
    "folium.Marker([43.6426, -79.3871], popup='<i>CN Tower</i>').add_to(m)\n",
    "folium.Marker([43.6677, -79.3948], popup='<b>Royal Ontario Museum</b>').add_to(m)\n",
    "m"
   ]
  },
  {
   "cell_type": "markdown",
   "metadata": {},
   "source": [
    "Obviously we cannot place pins down for every single reading (because all we would see are pins). Lets instead make a heatmap of all the readings."
   ]
  },
  {
   "cell_type": "code",
   "execution_count": 149,
   "metadata": {},
   "outputs": [
    {
     "data": {
      "text/plain": [
       "10842090"
      ]
     },
     "execution_count": 149,
     "metadata": {},
     "output_type": "execute_result"
    }
   ],
   "source": [
    "len(geoRainfallDF)"
   ]
  },
  {
   "cell_type": "markdown",
   "metadata": {},
   "source": [
    "Whoa that's a lot of rows! My computer would most likely explode if I displayed 10 million points on a map. Lets try to sample 1000 rows of this data to make it easier on our computers."
   ]
  },
  {
   "cell_type": "code",
   "execution_count": 176,
   "metadata": {},
   "outputs": [],
   "source": [
    "smallerDF = geoRainfallDF.sample(1000) #sample() selects a RANDOM subset each time it's run."
   ]
  },
  {
   "cell_type": "markdown",
   "metadata": {},
   "source": [
    "#### Side Note:\n",
    "\n",
    "Running machine learning algorithms on an entire dataset can sometimes take a long time. If you're tweaking your model, you should run the algorithm on a _subset_ of dataset to quickly gauge the success of your model. This is because machine learning algorithms will usually see diminishing returns when taking in more and more data. So it's best to find the best algorithm/parameters before running it on your full dataset. Anyway, lets plot this on a heatmap!"
   ]
  },
  {
   "cell_type": "code",
   "execution_count": 151,
   "metadata": {
    "scrolled": true
   },
   "outputs": [
    {
     "data": {
      "text/plain": [
       "<folium.plugins.heat_map.HeatMap at 0x7f45ee8070f0>"
      ]
     },
     "execution_count": 151,
     "metadata": {},
     "output_type": "execute_result"
    }
   ],
   "source": [
    "from folium.plugins import HeatMap\n",
    "\n",
    "m2 = folium.Map(location=[43.6532, -79.3832], zoom_start=12)\n",
    "latlons = smallerDF[[\"latitude\",\"longitude\"]].values\n",
    "latlons = latlons.tolist() #The library requires this to be a python list.\n",
    "HeatMap(latlons).add_to(m2)"
   ]
  },
  {
   "cell_type": "markdown",
   "metadata": {},
   "source": [
    "_Note: it might take a while to display it on a map_"
   ]
  },
  {
   "cell_type": "code",
   "execution_count": 152,
   "metadata": {},
   "outputs": [
    {
     "data": {
      "text/html": [
       "<div style=\"width:100%;\"><div style=\"position:relative;width:100%;height:0;padding-bottom:60%;\"><iframe src=\"data:text/html;charset=utf-8;base64,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\" style=\"position:absolute;width:100%;height:100%;left:0;top:0;border:none !important;\" allowfullscreen webkitallowfullscreen mozallowfullscreen></iframe></div></div>"
      ],
      "text/plain": [
       "<folium.folium.Map at 0x7f45ee807c50>"
      ]
     },
     "execution_count": 152,
     "metadata": {},
     "output_type": "execute_result"
    }
   ],
   "source": [
    "m2"
   ]
  },
  {
   "cell_type": "markdown",
   "metadata": {},
   "source": [
    "Hmm notice how the points are clustering to specific spots on the map? Since we are displaying the readings for 100 or so locations, all the points of each location will lie directly on top of each other... Not very informative.\n",
    "\n",
    "Most heatmap libraries will display  the heat of every location based each location's \"hotness\" in relation to the rest of the image. In essence, the larger the percentage of heat, the \"hotter\" an area appears. With this in mind, try zooming into the map on a cluster of points. You can see how certain blobs turn lighter and maybe some will even turn red. This is because the heatmap will disregard the irrelevant plots (because you zoomed  in). Now each individual reading will weigh more and thus, some might turn brighter. If you zoom in and look at only one point, it'll most certainly turn bright red because all of the points visible on screen is on that point.\n",
    "\n",
    "In your own analyses, if your points are constantly red, then you might want to sample a smaller subset of your dataset to make the heatmap more sensitive to variations (counts of points in an area)."
   ]
  },
  {
   "cell_type": "markdown",
   "metadata": {},
   "source": [
    "Now I'm going to show you how to display points on a map as a circle instead of \"pins\". Lets plot every _lat lon_ of every station as a blue dot"
   ]
  },
  {
   "cell_type": "markdown",
   "metadata": {},
   "source": [
    "lets read the _lat lon_ of each station from the 201706 file\n"
   ]
  },
  {
   "cell_type": "code",
   "execution_count": 153,
   "metadata": {},
   "outputs": [
    {
     "data": {
      "text/html": [
       "<div>\n",
       "<style>\n",
       "    .dataframe thead tr:only-child th {\n",
       "        text-align: right;\n",
       "    }\n",
       "\n",
       "    .dataframe thead th {\n",
       "        text-align: left;\n",
       "    }\n",
       "\n",
       "    .dataframe tbody tr th {\n",
       "        vertical-align: top;\n",
       "    }\n",
       "</style>\n",
       "<table border=\"1\" class=\"dataframe\">\n",
       "  <thead>\n",
       "    <tr style=\"text-align: right;\">\n",
       "      <th></th>\n",
       "      <th>id</th>\n",
       "      <th>name</th>\n",
       "      <th>longitude</th>\n",
       "      <th>latitude</th>\n",
       "    </tr>\n",
       "  </thead>\n",
       "  <tbody>\n",
       "    <tr>\n",
       "      <th>0</th>\n",
       "      <td>7677</td>\n",
       "      <td>RG_001</td>\n",
       "      <td>-79.478112</td>\n",
       "      <td>43.647680</td>\n",
       "    </tr>\n",
       "    <tr>\n",
       "      <th>1</th>\n",
       "      <td>7678</td>\n",
       "      <td>RG_002</td>\n",
       "      <td>-79.443616</td>\n",
       "      <td>43.651196</td>\n",
       "    </tr>\n",
       "    <tr>\n",
       "      <th>2</th>\n",
       "      <td>7679</td>\n",
       "      <td>RG_003</td>\n",
       "      <td>-79.405094</td>\n",
       "      <td>43.656616</td>\n",
       "    </tr>\n",
       "    <tr>\n",
       "      <th>3</th>\n",
       "      <td>7680</td>\n",
       "      <td>RG_004</td>\n",
       "      <td>-79.402833</td>\n",
       "      <td>43.678343</td>\n",
       "    </tr>\n",
       "    <tr>\n",
       "      <th>4</th>\n",
       "      <td>7681</td>\n",
       "      <td>RG_006</td>\n",
       "      <td>-79.375101</td>\n",
       "      <td>43.661265</td>\n",
       "    </tr>\n",
       "  </tbody>\n",
       "</table>\n",
       "</div>"
      ],
      "text/plain": [
       "     id    name  longitude   latitude\n",
       "0  7677  RG_001 -79.478112  43.647680\n",
       "1  7678  RG_002 -79.443616  43.651196\n",
       "2  7679  RG_003 -79.405094  43.656616\n",
       "3  7680  RG_004 -79.402833  43.678343\n",
       "4  7681  RG_006 -79.375101  43.661265"
      ]
     },
     "execution_count": 153,
     "metadata": {},
     "output_type": "execute_result"
    }
   ],
   "source": [
    "stationLocations = pd.read_csv(\"../2017_rainfall_data/sites201706.csv\")\n",
    "stationLocations.head()"
   ]
  },
  {
   "cell_type": "code",
   "execution_count": 181,
   "metadata": {},
   "outputs": [],
   "source": [
    "m3 = folium.Map(location=[43.6532, -79.3832], zoom_start=12)\n",
    "for index,row in stationLocations.iterrows():\n",
    "    folium.CircleMarker((row[\"latitude\"],row[\"longitude\"]),radius=1,color='red',fill=True).add_to(m3)\n",
    "#Note: You can change params of the circle like so:\n",
    "\n",
    "#folium.CircleMarker(latlons,\n",
    "#                    radius=500,\n",
    "#                    popup='Station',\n",
    "#                    color='#3186cc',\n",
    "#                    fill_color='#3186cc',\n",
    "#                   ).add_to(m3)"
   ]
  },
  {
   "cell_type": "code",
   "execution_count": 182,
   "metadata": {},
   "outputs": [
    {
     "data": {
      "text/html": [
       "<div style=\"width:100%;\"><div style=\"position:relative;width:100%;height:0;padding-bottom:60%;\"><iframe src=\"data:text/html;charset=utf-8;base64,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\" style=\"position:absolute;width:100%;height:100%;left:0;top:0;border:none !important;\" allowfullscreen webkitallowfullscreen mozallowfullscreen></iframe></div></div>"
      ],
      "text/plain": [
       "<folium.folium.Map at 0x7f45bd6c3d68>"
      ]
     },
     "execution_count": 182,
     "metadata": {},
     "output_type": "execute_result"
    }
   ],
   "source": [
    "m3"
   ]
  },
  {
   "cell_type": "markdown",
   "metadata": {},
   "source": [
    "lets put the heatmap on the markers to make sure we're not missing any stations"
   ]
  },
  {
   "cell_type": "code",
   "execution_count": 183,
   "metadata": {
    "scrolled": false
   },
   "outputs": [
    {
     "data": {
      "text/html": [
       "<div style=\"width:100%;\"><div style=\"position:relative;width:100%;height:0;padding-bottom:60%;\"><iframe src=\"data:text/html;charset=utf-8;base64,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\" style=\"position:absolute;width:100%;height:100%;left:0;top:0;border:none !important;\" allowfullscreen webkitallowfullscreen mozallowfullscreen></iframe></div></div>"
      ],
      "text/plain": [
       "<folium.folium.Map at 0x7f45bd6c3d68>"
      ]
     },
     "execution_count": 183,
     "metadata": {},
     "output_type": "execute_result"
    }
   ],
   "source": [
    "HeatMap(latlons).add_to(m3)\n",
    "m3"
   ]
  },
  {
   "cell_type": "markdown",
   "metadata": {},
   "source": [
    "Since Follium is an interactive map we cannot right click and hit \"save as\" to save the image. Instead we have to call the `save(\"name_of_file.html\")` function of our m3 object to save our image. Try implementing that below:"
   ]
  },
  {
   "cell_type": "code",
   "execution_count": 180,
   "metadata": {},
   "outputs": [],
   "source": [
    "m3.<FILL IN>"
   ]
  },
  {
   "cell_type": "markdown",
   "metadata": {},
   "source": [
    "Well that's it! Remember to always graph when you aren't sure how to procceed or have doubts. More often than not your graphs will tell you something numbers can't show. So graph away because with just a few lines of code you can generate captivating visuals and make your analysis more appealing. I hope you'll use your newfound graphing skills to encover new findings and we'll see you next week!"
   ]
  }
 ],
 "metadata": {
  "kernelspec": {
   "display_name": "Python 3",
   "language": "python",
   "name": "python3"
  },
  "language_info": {
   "codemirror_mode": {
    "name": "ipython",
    "version": 3
   },
   "file_extension": ".py",
   "mimetype": "text/x-python",
   "name": "python",
   "nbconvert_exporter": "python",
   "pygments_lexer": "ipython3",
   "version": "3.6.1"
  }
 },
 "nbformat": 4,
 "nbformat_minor": 1
}
