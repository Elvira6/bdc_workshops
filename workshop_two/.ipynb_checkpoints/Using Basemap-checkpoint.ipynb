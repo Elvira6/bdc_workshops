{
 "cells": [
  {
   "cell_type": "markdown",
   "metadata": {},
   "source": [
    "Like Folium, Basemap is a library used to plot geopoints on a map. It is built on top of Matplotlib and is more popular that Folium. However, the maps generated from Basemap aren't as detailed and may look bland. It is howver good for showcasing plots spread over a large landmasses (like a province or country). Before pursuing this library, I'll show you some photos of what Basemap looks like to guide your decision. Personally I will never touch Basemap again (after finding Folio) but hey, for those who like more documentation this is the library for you."
   ]
  },
  {
   "cell_type": "markdown",
   "metadata": {},
   "source": [
    "![caption](canadian_forest_fires.png)"
   ]
  },
  {
   "cell_type": "markdown",
   "metadata": {},
   "source": [
    "This one is in Northern Alberta\n",
    "![caption](alberta_wind_farms.png)"
   ]
  },
  {
   "cell_type": "markdown",
   "metadata": {},
   "source": [
    "### Installation\n",
    "For those of you still here, lets start:\n",
    "\n",
    "Matplotlib relies on a library called Basemap to plot geographic data on a map. you can see its documentation here:\n",
    "https://matplotlib.org/basemap/users/intro.html\n",
    "\n",
    "Basemap is quite difficult to install. Fortunately I've scoured the internet and found this command:\n",
    "\n",
    "__mac & linux__\n",
    "\n",
    "`conda install basemap`\n",
    "\n",
    "If the above fails:\n",
    "\n",
    "__mac:__\n",
    "\n",
    "`brew install geos`\n",
    "\n",
    "`sudo -H pip3 install https://github.com/matplotlib/basemap/archive/v1.1.0.tar.gz`\n",
    "\n",
    "__linux:__\n",
    "\n",
    "`sudo -H pip3 install https://github.com/matplotlib/basemap/archive/v1.1.0.tar.gz`\n",
    "\n",
    "\n",
    "__windows:__\n",
    "\n",
    "please consult me if you can't find a good solution online. sorry :p\n",
    "\n",
    "\n",
    "\n",
    "After you've run that in the terminal you can import it in python!"
   ]
  },
  {
   "cell_type": "code",
   "execution_count": null,
   "metadata": {},
   "outputs": [],
   "source": [
    "from mpl_toolkits.basemap import Basemap"
   ]
  },
  {
   "cell_type": "code",
   "execution_count": null,
   "metadata": {},
   "outputs": [],
   "source": [
    "lats = geoRainfallDF[\"latitude\"].values\n",
    "lons = geoRainfallDF[\"longitude\"].values"
   ]
  },
  {
   "cell_type": "markdown",
   "metadata": {},
   "source": [
    "To make a Basemap projection you have to provide a lat lon coordinate specifying where the middle of the projection is. Then you'll speciy a width and height diameter to \"build\" a window to show the projections. It'll make a lot more sense when you look at the code."
   ]
  },
  {
   "cell_type": "code",
   "execution_count": null,
   "metadata": {},
   "outputs": [],
   "source": [
    "\n",
    "m = Basemap(projection='lcc', #this is the Lambert Conformal Conic projection\n",
    "            resolution=\"c\",\n",
    "            width=100000., # we're specifying a width of 100,000 meters\n",
    "            height=100000., # we're specifying a width of 100,000 meters\n",
    "            lat_0=43.761539, # Toronto's lat coord\n",
    "            lon_0=-79.411079) # Toronto's lon coord\n",
    "\n",
    "m.fillcontinents(color='lightgray',zorder=0)\n",
    "x, y = m(lats, lons)\n",
    "\n",
    "m.scatter(x, y,0.05,color='r')\n",
    "m.drawcoastlines()\n",
    "m.drawstates() # not really nessesary but it's good to know that you can use this\n",
    "m.drawcountries() # not really nessesary but it's good to know that you can use this\n",
    "plt.title(\"Rainfall in Toronto\")\n",
    "plt.show()\n",
    "plt.rcParams['savefig.dpi'] = 500"
   ]
  }
 ],
 "metadata": {
  "kernelspec": {
   "display_name": "Python 3",
   "language": "python",
   "name": "python3"
  },
  "language_info": {
   "codemirror_mode": {
    "name": "ipython",
    "version": 3
   },
   "file_extension": ".py",
   "mimetype": "text/x-python",
   "name": "python",
   "nbconvert_exporter": "python",
   "pygments_lexer": "ipython3",
   "version": "3.6.1"
  }
 },
 "nbformat": 4,
 "nbformat_minor": 2
}
