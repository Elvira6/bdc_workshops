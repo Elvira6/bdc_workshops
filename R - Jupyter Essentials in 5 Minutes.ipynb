{
 "cells": [
  {
   "cell_type": "markdown",
   "metadata": {},
   "source": [
    "# Welcome to Jupyter!\n",
    "\n",
    "Here are the bare Jupyter essentials to get you started with data science.\n",
    "\n",
    "## What is Jupyter?\n",
    "Jupyter is a notebook IDE used for data science. It streamlines the data science process because variables are saved in a global space so users don't have to regenerate variables when they write new code (more on this below).\n",
    "\n",
    "## Cell Types\n",
    "\n",
    "1) Markdown cells. These cells function as readme files (that you regularly come across on Github)\n",
    "\n",
    "2) Code cells. These cells function as mini code editors for you to use\n",
    "\n",
    "Before you can run commands in jupyter you have to understand that Jupyter cells have two selection states. Lets try selecting a cell by clicking on the cell below. Notice how that cell is green. When a cell is green it means that you are editing that cell. Whatever you type will modify what's within the cell.\n",
    "\n",
    "If you want to run jupyter commands then you have to press esc (like vim). This will turn the cell into the \"blue\" state. In this state you can run commands.\n",
    "\n",
    "## Commands\n",
    "\n",
    "1) *ctrl + enter*. This command basically runs the cell. Try running the cell below!\n",
    "\n",
    "2) *shift + enter*. This command will run the selected cell and will shift to the next cell. If the next cell doesn't exist, the command will make a new cell. Lets reselect the cell below and re-run the cell with shift + enter!\n",
    "\n",
    "3) *b*. This command will make a new cell right below the currently selected cell."
   ]
  },
  {
   "cell_type": "code",
   "execution_count": null,
   "metadata": {},
   "outputs": [],
   "source": [
    "print(\"hi\")"
   ]
  },
  {
   "cell_type": "markdown",
   "metadata": {},
   "source": [
    "Jupyter's primary advantage is its variable persistance. This means that all variables that are created will persist in a global space. This allows you to access previously defined variables in another cell. This function allow sections of code to be seperated into cells so users don't have to re-run code everytime they want to make a change.\n",
    "\n",
    "Since variables will only persist for the duration of the session you should save your variables into a .pkl file before you leave Jupyter!\n",
    "\n",
    "Lets test this out by using shift + enter for the following two cells."
   ]
  },
  {
   "cell_type": "code",
   "execution_count": null,
   "metadata": {},
   "outputs": [],
   "source": [
    "aVariable = \"hello\""
   ]
  },
  {
   "cell_type": "code",
   "execution_count": null,
   "metadata": {},
   "outputs": [],
   "source": [
    "print(aVariable)"
   ]
  },
  {
   "cell_type": "markdown",
   "metadata": {},
   "source": [
    "You can also run cells that you have already ran previously. Run the cell below to redefine aVariable and rerun the print(aVariable) cell."
   ]
  },
  {
   "cell_type": "code",
   "execution_count": null,
   "metadata": {},
   "outputs": [],
   "source": [
    "aVariable = \"bye!\""
   ]
  },
  {
   "cell_type": "markdown",
   "metadata": {},
   "source": [
    "That's about it! Other than the cell mechanic Jupyter functions as a normal text editor. Good luck coding!"
   ]
  }
 ],
 "metadata": {
  "kernelspec": {
   "display_name": "R",
   "language": "R",
   "name": "ir"
  },
  "language_info": {
   "codemirror_mode": "r",
   "file_extension": ".r",
   "mimetype": "text/x-r-source",
   "name": "R",
   "pygments_lexer": "r",
   "version": "3.4.2"
  }
 },
 "nbformat": 4,
 "nbformat_minor": 2
}
