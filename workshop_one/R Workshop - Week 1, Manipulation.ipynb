{
 "cells": [
  {
   "cell_type": "markdown",
   "metadata": {},
   "source": [
    "## Welcome to Week 1!\n",
    "Last week, you had a crash course in data analysis and learned statistical transformations.\n",
    "This week, you'll be introduced to applying these principles on a large set of data using R.\n",
    "\n",
    "Before we start the fun stuff, let's review some vocabulary.\n",
    "I know, I know - _groan_ - but this stuff really comes in handy when you want to look things up or ask questions.\n",
    "\n",
    "*Data* are values that describes something.\n",
    "\n",
    "*Information* is data that is useful - data is not meaningful. Information is.\n",
    "\n",
    "*Attributes* are the variables of your dataset. If you have a dataset that describes a windows, the attributes of the dataset could be, for example,  the dimensions of the window or the materials it is made from. Think of attributes as the headers of your dataset. In a dataframe, the values that describes the attributes are the data underneath the headers.\n",
    "\n",
    "*Features* are attributes that are useful. Attributes are not meaningful. Features are. The moment that an attribute tells us something about the dataset is the moment that it becomes a feature. Features are the useful bits of information that are fed into machine learning algorithms. Attributes can't be fed into machine learning algorithms because they don't tell the algorithm anything. It's just a jumble of numbers.\n",
    "\n",
    "*Feature Engineering* is the extraction of meaningful information out of attributes in our dataset. Think of it as turning attributes into features. An example of feature engineering is determining the day of the week given a date. We are creating a new feature (the day of the week) given an attribute (the date). Another example is extracting the surname out of a full name. This is considered feature engineering because surnames can identify people who are part of the same family in a dataset.\n",
    "\n",
    "With our vocabulary refreshed, let's dive right in with an investigation of how R works.\n",
    "Write a number!"
   ]
  },
  {
   "cell_type": "code",
   "execution_count": null,
   "metadata": {},
   "outputs": [],
   "source": [
    "42"
   ]
  },
  {
   "cell_type": "markdown",
   "metadata": {},
   "source": [
    "Write a mathematical expression!"
   ]
  },
  {
   "cell_type": "code",
   "execution_count": null,
   "metadata": {},
   "outputs": [],
   "source": [
    "15+27"
   ]
  },
  {
   "cell_type": "markdown",
   "metadata": {},
   "source": [
    "This is the most basic thing you can do in R - write an expression that R will print the value of.\n",
    "So far we know this works with numbers. Numbers are stored as numeric data types in R. \n",
    "Note that you can also use the colon operator to make a consecutive collection of numbers.\n",
    "The colon operator works by placing a 'from' and 'to' number on either sides of a colon.\n",
    "For example, 3:8 will print the values _from_ three _to_ eight."
   ]
  },
  {
   "cell_type": "code",
   "execution_count": null,
   "metadata": {},
   "outputs": [],
   "source": [
    "3:8"
   ]
  },
  {
   "cell_type": "markdown",
   "metadata": {},
   "source": [
    "There are more than just numbers in R, though! Try writing 'Hello World' with single and double quotation marks.\n",
    "This is a character data type. Sometimes it is called a string."
   ]
  },
  {
   "cell_type": "code",
   "execution_count": null,
   "metadata": {},
   "outputs": [],
   "source": [
    "\"Hello, world!\""
   ]
  },
  {
   "cell_type": "code",
   "execution_count": null,
   "metadata": {},
   "outputs": [],
   "source": [
    "'Hello, world!'"
   ]
  },
  {
   "cell_type": "markdown",
   "metadata": {},
   "source": [
    "They simply get printed out on your page. To write things, you may also use the print() function. This is useful for documentation and debugging."
   ]
  },
  {
   "cell_type": "code",
   "execution_count": null,
   "metadata": {},
   "outputs": [],
   "source": [
    "print(\"Aye maties!\")"
   ]
  },
  {
   "cell_type": "markdown",
   "metadata": {},
   "source": [
    "Character values can be modified with a variety of functions, but the ones I want to go over are substr() and paste().\n",
    "substr() stands for substring, and it does what it says on the tin - given a start and end index, it gets a small string from a larger string."
   ]
  },
  {
   "cell_type": "code",
   "execution_count": null,
   "metadata": {},
   "outputs": [],
   "source": [
    "substr(\"Hello world\", 4,8)"
   ]
  },
  {
   "cell_type": "markdown",
   "metadata": {},
   "source": [
    "paste() simply adds more things to the character string. You can think of it as pasting more characters in.\n",
    "Let's paste 'world!' to 'Hello' to make 'Hello world!'"
   ]
  },
  {
   "cell_type": "code",
   "execution_count": null,
   "metadata": {},
   "outputs": [],
   "source": [
    "paste(\"Hello\", \"world!\")"
   ]
  },
  {
   "cell_type": "markdown",
   "metadata": {},
   "source": [
    "What's important to note is that using both single and double quotes is effectively the same.\n",
    "You can tell when something is a character because it is surrounded by quotations.\n",
    "In other words, both single and double quotation marks make character values. You can test this with the class() function. By putting a '==' between the two expressions, you are asking whether or not the two expressions are equal.\n",
    "\n",
    "*NOTE: don't use '='! This is a reserved operator for assignment.*"
   ]
  },
  {
   "cell_type": "code",
   "execution_count": null,
   "metadata": {},
   "outputs": [],
   "source": [
    "class('Hello, world')\n",
    "class(\"Hello World\")\n",
    "class('Hello, world')==class(\"Hello World\")"
   ]
  },
  {
   "cell_type": "markdown",
   "metadata": {},
   "source": [
    "This TRUE or FALSE value is called a logical. They are the results of a condition - in this case, the condition was that both the expressions had the same class.\n",
    "Logicals are very useful for writing conditional code, i.e. code that gets excecuted only when a set of conditions are met.\n",
    "The main operators for logicals are '==', '!=', '>', \"<', \">=', '<='. The first asks if two values are the same, as shown above. The second asks if they are NOT the same, signified by the exclamation point, meaning not.\n",
    "The last four are numerical comparisons, asking if something is greater than or lesser than something else."
   ]
  },
  {
   "cell_type": "code",
   "execution_count": null,
   "metadata": {},
   "outputs": [],
   "source": [
    "\"Poly\"==\"Martha\"\n",
    "\"Poly\"==\"Poly\"\n",
    "\n",
    "5==5\n",
    "5!=5\n",
    "\n",
    "6<4\n",
    "\n",
    "71>5\n",
    "71>71\n",
    "\n",
    "3>=3\n",
    "5<=0"
   ]
  },
  {
   "cell_type": "markdown",
   "metadata": {},
   "source": [
    "If you want two conditions to be met for something to count as true, you must use && to say that 'this AND this must be true for the condition to be true'. If you only need one of two conditions to be true, you must you || to say 'this OR this must be true for the condition to be true'."
   ]
  },
  {
   "cell_type": "code",
   "execution_count": null,
   "metadata": {},
   "outputs": [],
   "source": [
    "5<7 && 8<=9 #Both conditions are true\n",
    "5>7 && 8<=9 #First condition is false\n",
    "5>7 || 8<=9 #First condition is false\n",
    "5>7 || 8<=4 #Both conditions are false\n",
    "\n",
    "(5>7 && 'Polly'==\"Polly\") || 800!=5 #First condition in brackets evaluates to false, \n",
    "                                    #however the second condition is true, so the OR returns a TRUE value."
   ]
  },
  {
   "cell_type": "markdown",
   "metadata": {},
   "source": [
    "It gets tedious to write things out all the time, though.\n",
    "You can store these values for use with variables. In R, the primary (and most stylistic) way to assign values to a variable is to use the '<-' arrow. Once you have this variable, you can use it in place of the value."
   ]
  },
  {
   "cell_type": "code",
   "execution_count": null,
   "metadata": {},
   "outputs": [],
   "source": [
    "x <- 42\n",
    "x"
   ]
  },
  {
   "cell_type": "markdown",
   "metadata": {},
   "source": [
    "Variable names should be short and descriptive. \n",
    "\n",
    "You can of course change your values, even to an entirely different data type!"
   ]
  },
  {
   "cell_type": "code",
   "execution_count": null,
   "metadata": {},
   "outputs": [],
   "source": [
    "x <- 'Forty-two'\n",
    "x"
   ]
  },
  {
   "cell_type": "markdown",
   "metadata": {},
   "source": [
    "Now that you know how to use your variables, let's install a package.\n",
    "Packages contain useful functions to make data manipulation easy.\n",
    "The two we're going to be working with are dyplr, for manipulating dataframes (you'll learn what this is later on) and RCurl, for dealing with online requests. We'll use this to get our data.\n",
    "\n",
    "\n",
    "install.packages() accepts the name of the package you want to install and a repository to get it from. library() load in the packages you want."
   ]
  },
  {
   "cell_type": "code",
   "execution_count": null,
   "metadata": {},
   "outputs": [],
   "source": [
    "install.packages(\"dpylr\", repos = \"https://cran.rstudio.com/\", force=TRUE)\n",
    "library(\"dplyr\")\n",
    "install.packages(\"RCurl\", repos = \"https://cran.rstudio.com/\", force=TRUE)\n",
    "library(\"RCurl\")"
   ]
  },
  {
   "cell_type": "markdown",
   "metadata": {},
   "source": [
    "In R, data can be also stored as a vector. Vectors with numeric, logical, and character datatypes are stored as 'atomic' vectors. \n",
    "\n",
    "\n",
    "*Bonus: Everything in R is technically a vector. Our variable 'x' is being stored as an atomic vector of length 1 containing the numeric value 42.*\n",
    "\n",
    "To make a vector in R, use the c() function, meaning 'collective'."
   ]
  },
  {
   "cell_type": "code",
   "execution_count": null,
   "metadata": {},
   "outputs": [],
   "source": [
    "c(1,2,3)"
   ]
  },
  {
   "cell_type": "markdown",
   "metadata": {},
   "source": [
    "Vectors can be stored just as any other variable."
   ]
  },
  {
   "cell_type": "code",
   "execution_count": null,
   "metadata": {},
   "outputs": [],
   "source": [
    "myVector<-c(4:9)\n",
    "myVector"
   ]
  },
  {
   "cell_type": "markdown",
   "metadata": {},
   "source": [
    "Each number being stored is an element of the vector. You can access each element by putting their index (place in the vector) in square brakets after the variable name."
   ]
  },
  {
   "cell_type": "code",
   "execution_count": null,
   "metadata": {},
   "outputs": [],
   "source": [
    "myVector[1]"
   ]
  },
  {
   "cell_type": "markdown",
   "metadata": {},
   "source": [
    "Accessing multiple consecutive elements is as simple as using the colon function. However, to access a few non-consecutive elements, you should pass in a vector of the indices you want to access."
   ]
  },
  {
   "cell_type": "code",
   "execution_count": null,
   "metadata": {},
   "outputs": [],
   "source": [
    "myVector[2:5]\n",
    "myVector[c(3,5)]"
   ]
  },
  {
   "cell_type": "markdown",
   "metadata": {},
   "source": [
    "Be careful with what you put in the brakets. If you put a number larger than the length of the vector, you'll get a NA value."
   ]
  },
  {
   "cell_type": "code",
   "execution_count": null,
   "metadata": {},
   "outputs": [],
   "source": [
    "myVector[7]"
   ]
  },
  {
   "cell_type": "markdown",
   "metadata": {},
   "source": [
    "To avoid this, you can check the length of your vector (and other datatypes) with the length() function."
   ]
  },
  {
   "cell_type": "code",
   "execution_count": null,
   "metadata": {},
   "outputs": [],
   "source": [
    "length(myVector)"
   ]
  },
  {
   "cell_type": "markdown",
   "metadata": {},
   "source": [
    "Therefore, a safer way to access the last element of your vector is to use the length() function as an index."
   ]
  },
  {
   "cell_type": "code",
   "execution_count": null,
   "metadata": {},
   "outputs": [],
   "source": [
    "myVector[length(myVector)]"
   ]
  },
  {
   "cell_type": "markdown",
   "metadata": {},
   "source": [
    "Negative numbers are a little strange. The negative sign tells R to ignore the element at that list.\n",
    "\n",
    "Note that while this prints the vector with a missing value, this doesn't actually change the vector - in order to actually change the value of your variables, you need to use the assignment operator '<-'."
   ]
  },
  {
   "cell_type": "code",
   "execution_count": null,
   "metadata": {},
   "outputs": [],
   "source": [
    "myVector[-1]"
   ]
  },
  {
   "cell_type": "markdown",
   "metadata": {},
   "source": [
    "You can pass in a condition as an index as well. This will cause it to only return values that fit that condition (As well as NA values)."
   ]
  },
  {
   "cell_type": "code",
   "execution_count": null,
   "metadata": {},
   "outputs": [],
   "source": [
    "myVector[myVector[]<6]"
   ]
  },
  {
   "cell_type": "markdown",
   "metadata": {},
   "source": [
    "By assigning a value to an out-of-bounds index, you can alter the length and contents of your vector."
   ]
  },
  {
   "cell_type": "code",
   "execution_count": null,
   "metadata": {},
   "outputs": [],
   "source": [
    "myVector[7]<-10\n",
    "myVector\n",
    "myVector[10]<-42\n",
    "myVector"
   ]
  },
  {
   "cell_type": "markdown",
   "metadata": {},
   "source": [
    "_Notice that the indexes are assigned NA if you did not give them a value._\n",
    "\n",
    "You can modify multiple elements in your vector."
   ]
  },
  {
   "cell_type": "code",
   "execution_count": null,
   "metadata": {},
   "outputs": [],
   "source": [
    "myVector[8:10]<-c(11,12,13)\n",
    "myVector"
   ]
  },
  {
   "cell_type": "markdown",
   "metadata": {},
   "source": [
    "Splicing in values is easy. By using the c() function, you can simply surround the new values with the values of the old vector using indices. The c() function is very flexible and accepts any values separated by commas."
   ]
  },
  {
   "cell_type": "code",
   "execution_count": null,
   "metadata": {},
   "outputs": [],
   "source": [
    "myVector<-c(myVector[1:5], c(42,42), 42, myVector[6:10])\n",
    "myVector"
   ]
  },
  {
   "cell_type": "markdown",
   "metadata": {},
   "source": [
    "One thing that vectors do not like is mixing data types. Look what happens when you try to store a character in a numeric vector."
   ]
  },
  {
   "cell_type": "code",
   "execution_count": null,
   "metadata": {},
   "outputs": [],
   "source": [
    "myVector[length(myVector)]<-'Kitty'\n",
    "myVector"
   ]
  },
  {
   "cell_type": "markdown",
   "metadata": {},
   "source": [
    "Every one of the values of myVector are now vectors! This is no good - working with Big Data means working with different data types from the same dataset.\n",
    "Luckily, R has a data structure for this - lists!"
   ]
  },
  {
   "cell_type": "code",
   "execution_count": null,
   "metadata": {},
   "outputs": [],
   "source": [
    "myList<-list(c(1,2,3), \"Kitty\")\n",
    "myList"
   ]
  },
  {
   "cell_type": "markdown",
   "metadata": {},
   "source": [
    "Look how the information is laid out. The different data types are stored as lists in different indices.\n",
    "The way lists store information is important because accessing elements with them is different than with vectors.\n",
    "For example, writing a single square bracket references the _list_ at that index. The list contains some vectors. \n",
    "To reference the vector at that list, you have you use double square brackets."
   ]
  },
  {
   "cell_type": "code",
   "execution_count": null,
   "metadata": {},
   "outputs": [],
   "source": [
    "myList[1]\n",
    "class(myList[1])\n",
    "myList[[1]]\n",
    "class(myList[[1]])"
   ]
  },
  {
   "cell_type": "markdown",
   "metadata": {},
   "source": [
    "To access individual elements in the vectors, you have to use get the vector and use two indices."
   ]
  },
  {
   "cell_type": "code",
   "execution_count": null,
   "metadata": {},
   "outputs": [],
   "source": [
    "myList[[1]][2]"
   ]
  },
  {
   "cell_type": "markdown",
   "metadata": {},
   "source": [
    "The reasoning behind this is much more obvious as the lists get more and more complex."
   ]
  },
  {
   "cell_type": "code",
   "execution_count": null,
   "metadata": {},
   "outputs": [],
   "source": [
    "myComplexList<-list(myList, 5:11, c(\"Lazy\", \"Sleepy\", \"Fluffy\"), c(TRUE, FALSE, NA), function(x) is.na(x))\n",
    "    #yes, you CAN store functions!\n",
    "myComplexList"
   ]
  },
  {
   "cell_type": "markdown",
   "metadata": {},
   "source": [
    "How could I reference 'Kitty' from here?\n",
    "\n",
    "We can use a single square bracket to get back myList, which is stored in the first index."
   ]
  },
  {
   "cell_type": "code",
   "execution_count": null,
   "metadata": {},
   "outputs": [],
   "source": [
    "myComplexList[1]\n",
    "length(myComplexList[1])"
   ]
  },
  {
   "cell_type": "markdown",
   "metadata": {},
   "source": [
    "This is a list of length one, containing our list from before.\n",
    "To actually get our list, we need to use two brackets."
   ]
  },
  {
   "cell_type": "code",
   "execution_count": null,
   "metadata": {},
   "outputs": [],
   "source": [
    "myComplexList[[1]]"
   ]
  },
  {
   "cell_type": "markdown",
   "metadata": {},
   "source": [
    "This is myList!\n",
    "From there, we can reference the second index of that list with an additional square bracket."
   ]
  },
  {
   "cell_type": "code",
   "execution_count": null,
   "metadata": {},
   "outputs": [],
   "source": [
    "myComplexList[[1]][2]"
   ]
  },
  {
   "cell_type": "markdown",
   "metadata": {},
   "source": [
    "This returns a list. If we want the character value 'Kitty', we need to use double brackets."
   ]
  },
  {
   "cell_type": "code",
   "execution_count": null,
   "metadata": {},
   "outputs": [],
   "source": [
    "myComplexList[[1]][[2]]"
   ]
  },
  {
   "cell_type": "markdown",
   "metadata": {},
   "source": [
    "Compare this to what we did with just myList."
   ]
  },
  {
   "cell_type": "code",
   "execution_count": null,
   "metadata": {},
   "outputs": [],
   "source": [
    "myList[[2]]"
   ]
  },
  {
   "cell_type": "markdown",
   "metadata": {},
   "source": [
    "And that's that! A lot of information is stored in the form of lists, so make sure you know how to use them.\n",
    "For the next section, let's make myList a little more complex."
   ]
  },
  {
   "cell_type": "code",
   "execution_count": null,
   "metadata": {},
   "outputs": [],
   "source": [
    "myList[[3]]<-c(\"Cute\", \"Hungry\", \"Small\")\n",
    "myList[[4]]<-seq(6, 18, 3)\n",
    "myList"
   ]
  },
  {
   "cell_type": "markdown",
   "metadata": {},
   "source": [
    "A very useful function for lists is apply(). This comes in a variety of different flavours, each with their own special uses. However, the premise is the same - pass in a list and a function that you want to apply to that list.\n",
    "\n",
    "To learn more about the apply functions, type ?apply in your console to read the documentation.\n",
    "For now, let's go ahead and try out a simple lapply function."
   ]
  },
  {
   "cell_type": "code",
   "execution_count": null,
   "metadata": {},
   "outputs": [],
   "source": [
    "lapply(myList,function(x)\n",
    "                    is.numeric(x))"
   ]
  },
  {
   "cell_type": "markdown",
   "metadata": {},
   "source": [
    "The above code looks at all the vectors of that list and applies the is.numeric() function on them. x in our case is the element that is being passed in - you can see that the function accepts the element and applies is.numeric() on x.\n",
    "\n",
    "You can also use applys to extract things. Remember the double bracket, [[? Passing it in as a function along with an index will return the element at that index."
   ]
  },
  {
   "cell_type": "code",
   "execution_count": null,
   "metadata": {},
   "outputs": [],
   "source": [
    "lapply(myList, '[[',1)"
   ]
  },
  {
   "cell_type": "markdown",
   "metadata": {},
   "source": [
    "If you don't want your apply to return a list, you can either use sapply to return a vector or use the unlist() function.\n",
    "Remember, however, that vectors cannot hold different variable types. This means your numerics will be coerced into characters.\n",
    "Try putting this in a variable."
   ]
  },
  {
   "cell_type": "code",
   "execution_count": null,
   "metadata": {},
   "outputs": [],
   "source": [
    "sapply(myList, '[[',1)\n",
    "unlist(lapply(myList, '[[',1))\n",
    "vectorFromList<-unlist(lapply(myList, '[[',1))"
   ]
  },
  {
   "cell_type": "markdown",
   "metadata": {},
   "source": [
    "However, you can coerce the variables too! as.DATATYPE() will coerce a value into whatever data type you want, provided it can make the transition. For example, you can coerce character numbers into numerics, but you can't coerce words into numerics."
   ]
  },
  {
   "cell_type": "code",
   "execution_count": null,
   "metadata": {},
   "outputs": [],
   "source": [
    "as.numeric(vectorFromList[4])\n",
    "as.numeric(vectorFromList[3])"
   ]
  },
  {
   "cell_type": "markdown",
   "metadata": {},
   "source": [
    "Before we move on to two-dimensional data, let's try out a more complicated function with our lapply."
   ]
  },
  {
   "cell_type": "code",
   "execution_count": null,
   "metadata": {},
   "outputs": [],
   "source": [
    "print(\"Before apply:\")\n",
    "myList\n",
    "print(\"After apply:\")\n",
    "lapply(myList, \n",
    "            function(x) {\n",
    "                            if(is.numeric(x)) # this is an if statement. \n",
    "                                              #The code within its {brackets} only gets evaluated if the condition is true.\n",
    "                               {\n",
    "                                   return(x^2 + 1) # if x is a numeric, square it and add one.\n",
    "                               }\n",
    "                            else # this else statement tells R what to do if the condition is false.\n",
    "                                {\n",
    "                                    return(paste(x,\"Kat\")) # if x is not a numeric, add the word 'Kat' to it.\n",
    "                                }\n",
    "                        }\n",
    "        )    "
   ]
  },
  {
   "cell_type": "markdown",
   "metadata": {},
   "source": [
    "## Two-dimensional data\n",
    "That concludes the one-dimensional data structures!\n",
    "But where are the tables? The charts? Doesn't data usually come in those?\n",
    "\n",
    "It does indeed: now we're going to go through two-dimensional data.\n",
    "To start off, let's talk about matrices. You can make a matrix with the matrix() function - simply give it the number of rows and coloumns to start out with! Use ?matrix if you get stuck."
   ]
  },
  {
   "cell_type": "code",
   "execution_count": null,
   "metadata": {},
   "outputs": [],
   "source": [
    "myMatrix<-matrix(nrow=3,ncol=3)\n",
    "myMatrix"
   ]
  },
  {
   "cell_type": "markdown",
   "metadata": {},
   "source": [
    "Thus a matrix is born. Right now it's empty, filled with NA values. Let's see what we can do with it.\n",
    "If we ever need to know the dimensions of our matrix, we can use the dim() function."
   ]
  },
  {
   "cell_type": "code",
   "execution_count": null,
   "metadata": {},
   "outputs": [],
   "source": [
    "dim(myMatrix)"
   ]
  },
  {
   "cell_type": "markdown",
   "metadata": {},
   "source": [
    "To access a spot in the matrix, we have to use square brackets in the same way we did for vectors.\n",
    "However, matrices need you to specify both row and column.\n",
    "You can do this by seperating the row index and the column index by a comma. \n",
    "\n",
    "Remember that the row goes first!\n",
    "If you do not provide a value for the row, R interprets that as a reference to the ENTIRE row.\n",
    "Likewise for columns."
   ]
  },
  {
   "cell_type": "code",
   "execution_count": null,
   "metadata": {},
   "outputs": [],
   "source": [
    "myMatrix[1,2]<-1\n",
    "myMatrix[2,]<-2\n",
    "myMatrix[3,]<-c(3,4,5)\n",
    "myMatrix"
   ]
  },
  {
   "cell_type": "markdown",
   "metadata": {},
   "source": [
    "Notice that the entire second row is filled with twos and the third row accepted all three numbers. This is because we did not specify a column.\n",
    "Getting an index is otherwise very similar to vectors. Assigning, too. The only thing to keep in mind is that you _must_ specify the column and row, even if you want to refer to the entire row or column. There _must_ be a comma in your index."
   ]
  },
  {
   "cell_type": "code",
   "execution_count": null,
   "metadata": {},
   "outputs": [],
   "source": [
    "myMatrix<-myMatrix[1:2,]\n",
    "myMatrix"
   ]
  },
  {
   "cell_type": "markdown",
   "metadata": {},
   "source": [
    "Now, myMatrix only has its first and second rows (but all its original coloumns). We can do operations to this entire matrix in a similar fashion to what we did with vectors."
   ]
  },
  {
   "cell_type": "code",
   "execution_count": null,
   "metadata": {},
   "outputs": [],
   "source": [
    "myMatrix<-myMatrix+1\n",
    "myMatrix"
   ]
  },
  {
   "cell_type": "markdown",
   "metadata": {},
   "source": [
    "Let's use the colSums() function to find out the sum of the coloumns."
   ]
  },
  {
   "cell_type": "code",
   "execution_count": null,
   "metadata": {},
   "outputs": [],
   "source": [
    "colSums(myMatrix)"
   ]
  },
  {
   "cell_type": "markdown",
   "metadata": {},
   "source": [
    "Uh oh! We don't want NA values in our sum.\n",
    "To fix this problem, we should replace the NAs with zeros.\n",
    "Remember that we can pass in conditions into the indices, so that only elements fulfilling those conditions will be returned.\n",
    "By asking for the NA indices, we can replace any pesky NAs with zeros!"
   ]
  },
  {
   "cell_type": "code",
   "execution_count": null,
   "metadata": {},
   "outputs": [],
   "source": [
    "myMatrix[is.na(myMatrix)]<-0\n",
    "myMatrix\n",
    "colSums(myMatrix)"
   ]
  },
  {
   "cell_type": "markdown",
   "metadata": {},
   "source": [
    "Hooray; it works! But wouldn't it be nice to have the sums as part of our matrix?\n",
    "\n",
    "We can bind the values row-wise using rbind()."
   ]
  },
  {
   "cell_type": "code",
   "execution_count": null,
   "metadata": {},
   "outputs": [],
   "source": [
    "myMatrix<-rbind(myMatrix,colSums(myMatrix))\n",
    "myMatrix"
   ]
  },
  {
   "cell_type": "markdown",
   "metadata": {},
   "source": [
    "Similarly, if we wanted to add a coloumn, we can use cbind().\n",
    "Remember to keep your dimensions in mind when adding rows and coloumns!"
   ]
  },
  {
   "cell_type": "code",
   "execution_count": null,
   "metadata": {},
   "outputs": [],
   "source": [
    "myMatrix<-cbind(myMatrix, c(1,1,1))\n",
    "myMatrix"
   ]
  },
  {
   "cell_type": "markdown",
   "metadata": {},
   "source": [
    "We can also do some transformations to our matrix, such as transposing it.\n",
    "Transposing a matrix can be done with the t() function.\n",
    "Save this matrix in a separate variable."
   ]
  },
  {
   "cell_type": "code",
   "execution_count": null,
   "metadata": {},
   "outputs": [],
   "source": [
    "myTransposedMatrix<-t(myMatrix)\n",
    "myTransposedMatrix"
   ]
  },
  {
   "cell_type": "markdown",
   "metadata": {},
   "source": [
    "Let's suppose we wanted to multiply our original matrix with our transposed matrix!\n",
    "The %*% operator does just that."
   ]
  },
  {
   "cell_type": "code",
   "execution_count": null,
   "metadata": {},
   "outputs": [],
   "source": [
    "myTransposedMatrix%*%myMatrix"
   ]
  },
  {
   "cell_type": "markdown",
   "metadata": {},
   "source": [
    "This is fun and all, but there is a problem.\n",
    "Matrices, like their one-dimensional vector cousins, cannot support multiple data types."
   ]
  },
  {
   "cell_type": "code",
   "execution_count": null,
   "metadata": {},
   "outputs": [],
   "source": [
    "myMatrix[1,1]<-'Foo'\n",
    "myMatrix\n",
    "class(myMatrix[1,2])"
   ]
  },
  {
   "cell_type": "markdown",
   "metadata": {},
   "source": [
    "Like a vector, it coerces our numerics to characters.\n",
    "What we need is a two-dimensional list... a dataframe!\n",
    "### Data Frames\n",
    "Data frames are the most useful data structures avaiable to you. Since they can store different types of data in a way that is more easily accesible than a list, they are very commonly found in datasets.\n",
    "You can coerce your matrix into a data frame by using the as.data.frame() function."
   ]
  },
  {
   "cell_type": "code",
   "execution_count": null,
   "metadata": {},
   "outputs": [],
   "source": [
    "myFrame<-as.data.frame(myMatrix)\n",
    "myFrame"
   ]
  },
  {
   "cell_type": "markdown",
   "metadata": {},
   "source": [
    "Let's pretend we're making a menu.\n",
    "The names V1, V2, V3, and V4 aren't very useful. They don't tell us anything!\n",
    "Luckily we have a solution to this. Data frames have a names feature, which you can access and modify using the names() function. names() returns a vector of the names of the data frame. Read more about names() using the ? function for the documentation."
   ]
  },
  {
   "cell_type": "code",
   "execution_count": null,
   "metadata": {},
   "outputs": [],
   "source": [
    "names(myFrame)\n",
    "names(myFrame)<-c(\"Meal Name\",\"Fish\", \"Chips\", \"Crisps\")\n",
    "myFrame"
   ]
  },
  {
   "cell_type": "markdown",
   "metadata": {},
   "source": [
    "Not only do good names make your dataset easier to navigate, but they give you a new way to index your data!\n",
    "The dollar sign operator '$' accepts a name as an index!\n",
    "Let's give our meals some names."
   ]
  },
  {
   "cell_type": "code",
   "execution_count": null,
   "metadata": {},
   "outputs": [],
   "source": [
    "myFrame$\"Meal Name\"<-c(\"Foo\", \"Baa\", \"Combo\")\n",
    "myFrame"
   ]
  },
  {
   "cell_type": "markdown",
   "metadata": {},
   "source": [
    "Great! Not the only thing missing from our menu is a price.\n",
    "Adding coloumns is similar with matrices. Remember that you need to state both the row and the coloumn you are modifying."
   ]
  },
  {
   "cell_type": "code",
   "execution_count": null,
   "metadata": {},
   "outputs": [],
   "source": [
    "myFrame[,5]<-c(4.55, 7.22, 10.33)\n",
    "names(myFrame)[5]<-\"Price\"\n",
    "myFrame"
   ]
  },
  {
   "cell_type": "markdown",
   "metadata": {},
   "source": [
    "Excellent!\n",
    "Before moving on, let's use the summary() function to get some insight on our menu."
   ]
  },
  {
   "cell_type": "code",
   "execution_count": null,
   "metadata": {},
   "outputs": [],
   "source": [
    "summary(myFrame)"
   ]
  },
  {
   "cell_type": "markdown",
   "metadata": {},
   "source": [
    "## Rain Data\n",
    "Up until now, you've been learning to use the different data structures in R.\n",
    "Let's use your knowledge to do an investigation of a real life dataset!\n",
    "\n",
    "We know our dataset is about rainfall in the city of Toronto. Let's investigate April showers and see if we can find any interesting trends.\n",
    "\n",
    "First, get the datasets with RCurl. Pass the url of the raw github pages for the datasets ending with 04 (April) into the url() function, and pass all that into the read.csv() function. Remember to assign these to a variable!"
   ]
  },
  {
   "cell_type": "code",
   "execution_count": 1,
   "metadata": {
    "collapsed": true
   },
   "outputs": [],
   "source": [
    "rainData <- read.csv(url(\"https://raw.githubusercontent.com/bigdatachallenge/bdc_workshops/master/2017_rainfall_data/rainfall201704.csv\"))\n",
    "sitesData <- read.csv(url(\"https://raw.githubusercontent.com/bigdatachallenge/bdc_workshops/master/2017_rainfall_data/sites201704.csv\"))"
   ]
  },
  {
   "cell_type": "markdown",
   "metadata": {},
   "source": [
    "## The Data Science Process\n",
    "Whenever we're working with a dataset we usually go through five stages:\n",
    "\n",
    "1. Data Inspection\n",
    "2. Normalization and cleaning\n",
    "3. Gathering insights (Feature Engineering)\n",
    "4. Generate the models\n",
    "5. Storytelling\n",
    "\n",
    "#### Data Inspection\n",
    "Every good data science project begins with data inspection. When we inspect the data we want to look at the beast and see what's coming. The point of inspecting the data is to gather context on what we're looking at so we can begin to ask ourselves questions to answer!\n",
    "Some things we can glimpse into are the means of the columns, the unique values of categorical variables, counts, max, mins, and modes. This should spark some questions if you see an abnormally high number in a coloumn.\n",
    "\n",
    "To take a 'glimpse' of the data, we can use the function head(). This will give us the first six rows of the dataset.\n"
   ]
  },
  {
   "cell_type": "code",
   "execution_count": 2,
   "metadata": {},
   "outputs": [
    {
     "data": {
      "text/html": [
       "<table>\n",
       "<thead><tr><th scope=col>id</th><th scope=col>name</th><th scope=col>date</th><th scope=col>rainfall</th></tr></thead>\n",
       "<tbody>\n",
       "\t<tr><td>7677               </td><td>RG_001             </td><td>2017-04-01T00:00:00</td><td>0                  </td></tr>\n",
       "\t<tr><td>7677               </td><td>RG_001             </td><td>2017-04-01T00:05:00</td><td>0                  </td></tr>\n",
       "\t<tr><td>7677               </td><td>RG_001             </td><td>2017-04-01T00:10:00</td><td>0                  </td></tr>\n",
       "\t<tr><td>7677               </td><td>RG_001             </td><td>2017-04-01T00:15:00</td><td>0                  </td></tr>\n",
       "\t<tr><td>7677               </td><td>RG_001             </td><td>2017-04-01T00:20:00</td><td>0                  </td></tr>\n",
       "\t<tr><td>7677               </td><td>RG_001             </td><td>2017-04-01T00:25:00</td><td>0                  </td></tr>\n",
       "</tbody>\n",
       "</table>\n"
      ],
      "text/latex": [
       "\\begin{tabular}{r|llll}\n",
       " id & name & date & rainfall\\\\\n",
       "\\hline\n",
       "\t 7677                & RG\\_001            & 2017-04-01T00:00:00 & 0                  \\\\\n",
       "\t 7677                & RG\\_001            & 2017-04-01T00:05:00 & 0                  \\\\\n",
       "\t 7677                & RG\\_001            & 2017-04-01T00:10:00 & 0                  \\\\\n",
       "\t 7677                & RG\\_001            & 2017-04-01T00:15:00 & 0                  \\\\\n",
       "\t 7677                & RG\\_001            & 2017-04-01T00:20:00 & 0                  \\\\\n",
       "\t 7677                & RG\\_001            & 2017-04-01T00:25:00 & 0                  \\\\\n",
       "\\end{tabular}\n"
      ],
      "text/markdown": [
       "\n",
       "id | name | date | rainfall | \n",
       "|---|---|---|---|---|---|\n",
       "| 7677                | RG_001              | 2017-04-01T00:00:00 | 0                   | \n",
       "| 7677                | RG_001              | 2017-04-01T00:05:00 | 0                   | \n",
       "| 7677                | RG_001              | 2017-04-01T00:10:00 | 0                   | \n",
       "| 7677                | RG_001              | 2017-04-01T00:15:00 | 0                   | \n",
       "| 7677                | RG_001              | 2017-04-01T00:20:00 | 0                   | \n",
       "| 7677                | RG_001              | 2017-04-01T00:25:00 | 0                   | \n",
       "\n",
       "\n"
      ],
      "text/plain": [
       "  id   name   date                rainfall\n",
       "1 7677 RG_001 2017-04-01T00:00:00 0       \n",
       "2 7677 RG_001 2017-04-01T00:05:00 0       \n",
       "3 7677 RG_001 2017-04-01T00:10:00 0       \n",
       "4 7677 RG_001 2017-04-01T00:15:00 0       \n",
       "5 7677 RG_001 2017-04-01T00:20:00 0       \n",
       "6 7677 RG_001 2017-04-01T00:25:00 0       "
      ]
     },
     "metadata": {},
     "output_type": "display_data"
    },
    {
     "data": {
      "text/html": [
       "<table>\n",
       "<thead><tr><th scope=col>id</th><th scope=col>name</th><th scope=col>longitude</th><th scope=col>latitude</th></tr></thead>\n",
       "<tbody>\n",
       "\t<tr><td>7677     </td><td>RG_001   </td><td>-79.47811</td><td>43.64768 </td></tr>\n",
       "\t<tr><td>7678     </td><td>RG_002   </td><td>-79.44362</td><td>43.65120 </td></tr>\n",
       "\t<tr><td>7679     </td><td>RG_003   </td><td>-79.40509</td><td>43.65662 </td></tr>\n",
       "\t<tr><td>7680     </td><td>RG_004   </td><td>-79.40283</td><td>43.67834 </td></tr>\n",
       "\t<tr><td>7681     </td><td>RG_006   </td><td>-79.37510</td><td>43.66127 </td></tr>\n",
       "\t<tr><td>7682     </td><td>RG_007   </td><td>-79.33114</td><td>43.67672 </td></tr>\n",
       "</tbody>\n",
       "</table>\n"
      ],
      "text/latex": [
       "\\begin{tabular}{r|llll}\n",
       " id & name & longitude & latitude\\\\\n",
       "\\hline\n",
       "\t 7677      & RG\\_001  & -79.47811 & 43.64768 \\\\\n",
       "\t 7678      & RG\\_002  & -79.44362 & 43.65120 \\\\\n",
       "\t 7679      & RG\\_003  & -79.40509 & 43.65662 \\\\\n",
       "\t 7680      & RG\\_004  & -79.40283 & 43.67834 \\\\\n",
       "\t 7681      & RG\\_006  & -79.37510 & 43.66127 \\\\\n",
       "\t 7682      & RG\\_007  & -79.33114 & 43.67672 \\\\\n",
       "\\end{tabular}\n"
      ],
      "text/markdown": [
       "\n",
       "id | name | longitude | latitude | \n",
       "|---|---|---|---|---|---|\n",
       "| 7677      | RG_001    | -79.47811 | 43.64768  | \n",
       "| 7678      | RG_002    | -79.44362 | 43.65120  | \n",
       "| 7679      | RG_003    | -79.40509 | 43.65662  | \n",
       "| 7680      | RG_004    | -79.40283 | 43.67834  | \n",
       "| 7681      | RG_006    | -79.37510 | 43.66127  | \n",
       "| 7682      | RG_007    | -79.33114 | 43.67672  | \n",
       "\n",
       "\n"
      ],
      "text/plain": [
       "  id   name   longitude latitude\n",
       "1 7677 RG_001 -79.47811 43.64768\n",
       "2 7678 RG_002 -79.44362 43.65120\n",
       "3 7679 RG_003 -79.40509 43.65662\n",
       "4 7680 RG_004 -79.40283 43.67834\n",
       "5 7681 RG_006 -79.37510 43.66127\n",
       "6 7682 RG_007 -79.33114 43.67672"
      ]
     },
     "metadata": {},
     "output_type": "display_data"
    }
   ],
   "source": [
    "head(rainData)\n",
    "head(sitesData)"
   ]
  },
  {
   "cell_type": "markdown",
   "metadata": {},
   "source": [
    "'Date' and 'rainfall' are pretty self explatory, as are 'longitude' and 'latitude'. But what do 'name' and 'id' mean?"
   ]
  },
  {
   "cell_type": "markdown",
   "metadata": {},
   "source": [
    "Hmm... it would be nice to have some more information about the properties of the columns.\n",
    "Thankfully, we can use summary()."
   ]
  },
  {
   "cell_type": "code",
   "execution_count": 3,
   "metadata": {},
   "outputs": [
    {
     "data": {
      "text/plain": [
       "       id            name                         date           rainfall      \n",
       " Min.   :7674   RG_001 :  8353   2017-04-01T00:00:00:    45   Min.   :0.00000  \n",
       " 1st Qu.:7685   RG_002 :  8353   2017-04-01T00:05:00:    45   1st Qu.:0.00000  \n",
       " Median :7697   RG_003 :  8353   2017-04-01T00:10:00:    45   Median :0.00000  \n",
       " Mean   :7717   RG_004 :  8353   2017-04-01T00:15:00:    45   Mean   :0.01158  \n",
       " 3rd Qu.:7708   RG_006 :  8353   2017-04-01T00:20:00:    45   3rd Qu.:0.00000  \n",
       " Max.   :8049   RG_012 :  8353   2017-04-01T00:25:00:    45   Max.   :5.84200  \n",
       "                (Other):325765   (Other)            :375613                    "
      ]
     },
     "metadata": {},
     "output_type": "display_data"
    },
    {
     "data": {
      "text/plain": [
       "       id            name      longitude         latitude    \n",
       " Min.   :7674   RG_001 : 1   Min.   :-79.59   Min.   :43.61  \n",
       " 1st Qu.:7685   RG_002 : 1   1st Qu.:-79.51   1st Qu.:43.68  \n",
       " Median :7696   RG_003 : 1   Median :-79.43   Median :43.72  \n",
       " Mean   :7717   RG_004 : 1   Mean   :-79.42   Mean   :43.72  \n",
       " 3rd Qu.:7708   RG_006 : 1   3rd Qu.:-79.33   3rd Qu.:43.76  \n",
       " Max.   :8049   RG_007 : 1   Max.   :-79.15   Max.   :43.82  \n",
       "                (Other):40                                   "
      ]
     },
     "metadata": {},
     "output_type": "display_data"
    }
   ],
   "source": [
    "summary(rainData)\n",
    "summary(sitesData)"
   ]
  },
  {
   "cell_type": "markdown",
   "metadata": {},
   "source": [
    "We can see that the IDs range from 7674 to 8049. Could these possibly be related to longitude and latitude?\n",
    "To find out, we can use another function - unique(). unique() will give us a vector filled with all the unique values of that column.\n",
    "By comparing the lengths of the unique values of two columns, we can guess that they correspond with each other."
   ]
  },
  {
   "cell_type": "code",
   "execution_count": 4,
   "metadata": {},
   "outputs": [
    {
     "data": {
      "text/html": [
       "TRUE"
      ],
      "text/latex": [
       "TRUE"
      ],
      "text/markdown": [
       "TRUE"
      ],
      "text/plain": [
       "[1] TRUE"
      ]
     },
     "metadata": {},
     "output_type": "display_data"
    },
    {
     "data": {
      "text/html": [
       "TRUE"
      ],
      "text/latex": [
       "TRUE"
      ],
      "text/markdown": [
       "TRUE"
      ],
      "text/plain": [
       "[1] TRUE"
      ]
     },
     "metadata": {},
     "output_type": "display_data"
    }
   ],
   "source": [
    "length(unique(sitesData$name))==length(unique(sitesData$id))\n",
    "length(unique(sitesData$name))==length(unique(sitesData$latitude))                                              "
   ]
  },
  {
   "cell_type": "markdown",
   "metadata": {},
   "source": [
    "With this, we can guess that 'name' corresponds with ID, which in turn corresponds with location data."
   ]
  },
  {
   "cell_type": "markdown",
   "metadata": {},
   "source": [
    "#### Normalization and Cleaning\n",
    "Once we understand our data, we'll have to start cleaning our data for modeling. This involves clearing rows with null values (changing the null values to something else), removing useless columns (or columns that are too similiar to others), placing all values into a linear scale, or converting all numbers to a universal unit for your dataset.\n",
    "Take a look at the datasets above.\n",
    "\n",
    "Hmm... it looks like 'name' isn't really useful to us, since we could just use 'id'. Let's get rid of that column to make our datasets sleeker."
   ]
  },
  {
   "cell_type": "code",
   "execution_count": 5,
   "metadata": {},
   "outputs": [
    {
     "data": {
      "text/html": [
       "<table>\n",
       "<thead><tr><th scope=col>id</th><th scope=col>date</th><th scope=col>rainfall</th></tr></thead>\n",
       "<tbody>\n",
       "\t<tr><td>7677               </td><td>2017-04-01T00:00:00</td><td>0                  </td></tr>\n",
       "\t<tr><td>7677               </td><td>2017-04-01T00:05:00</td><td>0                  </td></tr>\n",
       "\t<tr><td>7677               </td><td>2017-04-01T00:10:00</td><td>0                  </td></tr>\n",
       "\t<tr><td>7677               </td><td>2017-04-01T00:15:00</td><td>0                  </td></tr>\n",
       "\t<tr><td>7677               </td><td>2017-04-01T00:20:00</td><td>0                  </td></tr>\n",
       "\t<tr><td>7677               </td><td>2017-04-01T00:25:00</td><td>0                  </td></tr>\n",
       "</tbody>\n",
       "</table>\n"
      ],
      "text/latex": [
       "\\begin{tabular}{r|lll}\n",
       " id & date & rainfall\\\\\n",
       "\\hline\n",
       "\t 7677                & 2017-04-01T00:00:00 & 0                  \\\\\n",
       "\t 7677                & 2017-04-01T00:05:00 & 0                  \\\\\n",
       "\t 7677                & 2017-04-01T00:10:00 & 0                  \\\\\n",
       "\t 7677                & 2017-04-01T00:15:00 & 0                  \\\\\n",
       "\t 7677                & 2017-04-01T00:20:00 & 0                  \\\\\n",
       "\t 7677                & 2017-04-01T00:25:00 & 0                  \\\\\n",
       "\\end{tabular}\n"
      ],
      "text/markdown": [
       "\n",
       "id | date | rainfall | \n",
       "|---|---|---|---|---|---|\n",
       "| 7677                | 2017-04-01T00:00:00 | 0                   | \n",
       "| 7677                | 2017-04-01T00:05:00 | 0                   | \n",
       "| 7677                | 2017-04-01T00:10:00 | 0                   | \n",
       "| 7677                | 2017-04-01T00:15:00 | 0                   | \n",
       "| 7677                | 2017-04-01T00:20:00 | 0                   | \n",
       "| 7677                | 2017-04-01T00:25:00 | 0                   | \n",
       "\n",
       "\n"
      ],
      "text/plain": [
       "  id   date                rainfall\n",
       "1 7677 2017-04-01T00:00:00 0       \n",
       "2 7677 2017-04-01T00:05:00 0       \n",
       "3 7677 2017-04-01T00:10:00 0       \n",
       "4 7677 2017-04-01T00:15:00 0       \n",
       "5 7677 2017-04-01T00:20:00 0       \n",
       "6 7677 2017-04-01T00:25:00 0       "
      ]
     },
     "metadata": {},
     "output_type": "display_data"
    },
    {
     "data": {
      "text/html": [
       "<table>\n",
       "<thead><tr><th scope=col>id</th><th scope=col>longitude</th><th scope=col>latitude</th></tr></thead>\n",
       "<tbody>\n",
       "\t<tr><td>7677     </td><td>-79.47811</td><td>43.64768 </td></tr>\n",
       "\t<tr><td>7678     </td><td>-79.44362</td><td>43.65120 </td></tr>\n",
       "\t<tr><td>7679     </td><td>-79.40509</td><td>43.65662 </td></tr>\n",
       "\t<tr><td>7680     </td><td>-79.40283</td><td>43.67834 </td></tr>\n",
       "\t<tr><td>7681     </td><td>-79.37510</td><td>43.66127 </td></tr>\n",
       "\t<tr><td>7682     </td><td>-79.33114</td><td>43.67672 </td></tr>\n",
       "</tbody>\n",
       "</table>\n"
      ],
      "text/latex": [
       "\\begin{tabular}{r|lll}\n",
       " id & longitude & latitude\\\\\n",
       "\\hline\n",
       "\t 7677      & -79.47811 & 43.64768 \\\\\n",
       "\t 7678      & -79.44362 & 43.65120 \\\\\n",
       "\t 7679      & -79.40509 & 43.65662 \\\\\n",
       "\t 7680      & -79.40283 & 43.67834 \\\\\n",
       "\t 7681      & -79.37510 & 43.66127 \\\\\n",
       "\t 7682      & -79.33114 & 43.67672 \\\\\n",
       "\\end{tabular}\n"
      ],
      "text/markdown": [
       "\n",
       "id | longitude | latitude | \n",
       "|---|---|---|---|---|---|\n",
       "| 7677      | -79.47811 | 43.64768  | \n",
       "| 7678      | -79.44362 | 43.65120  | \n",
       "| 7679      | -79.40509 | 43.65662  | \n",
       "| 7680      | -79.40283 | 43.67834  | \n",
       "| 7681      | -79.37510 | 43.66127  | \n",
       "| 7682      | -79.33114 | 43.67672  | \n",
       "\n",
       "\n"
      ],
      "text/plain": [
       "  id   longitude latitude\n",
       "1 7677 -79.47811 43.64768\n",
       "2 7678 -79.44362 43.65120\n",
       "3 7679 -79.40509 43.65662\n",
       "4 7680 -79.40283 43.67834\n",
       "5 7681 -79.37510 43.66127\n",
       "6 7682 -79.33114 43.67672"
      ]
     },
     "metadata": {},
     "output_type": "display_data"
    }
   ],
   "source": [
    "rainData<-rainData[,-2]\n",
    "sitesData<-sitesData[,-2]\n",
    "head(rainData)\n",
    "head(sitesData)"
   ]
  },
  {
   "cell_type": "markdown",
   "metadata": {},
   "source": [
    "Great! Now that we have two sleek datasets, we can merge them together.\n",
    "What is a common variable across both sets? ID! We can use ID to merge them.\n",
    "To use merge(), pass in the two datasets you want to merge and the parameter they should be merged by."
   ]
  },
  {
   "cell_type": "code",
   "execution_count": 6,
   "metadata": {
    "collapsed": true
   },
   "outputs": [],
   "source": [
    "total <- merge(rainData, sitesData, by=\"id\")"
   ]
  },
  {
   "cell_type": "code",
   "execution_count": 7,
   "metadata": {},
   "outputs": [
    {
     "data": {
      "text/html": [
       "<table>\n",
       "<thead><tr><th scope=col>id</th><th scope=col>date</th><th scope=col>rainfall</th><th scope=col>longitude</th><th scope=col>latitude</th></tr></thead>\n",
       "<tbody>\n",
       "\t<tr><td>7674               </td><td>2017-04-01T00:00:00</td><td>0                  </td><td>-79.46603          </td><td>43.69735           </td></tr>\n",
       "\t<tr><td>7674               </td><td>2017-04-01T00:05:00</td><td>0                  </td><td>-79.46603          </td><td>43.69735           </td></tr>\n",
       "\t<tr><td>7674               </td><td>2017-04-01T00:10:00</td><td>0                  </td><td>-79.46603          </td><td>43.69735           </td></tr>\n",
       "\t<tr><td>7674               </td><td>2017-04-01T00:15:00</td><td>0                  </td><td>-79.46603          </td><td>43.69735           </td></tr>\n",
       "\t<tr><td>7674               </td><td>2017-04-01T00:20:00</td><td>0                  </td><td>-79.46603          </td><td>43.69735           </td></tr>\n",
       "\t<tr><td>7674               </td><td>2017-04-01T00:25:00</td><td>0                  </td><td>-79.46603          </td><td>43.69735           </td></tr>\n",
       "</tbody>\n",
       "</table>\n"
      ],
      "text/latex": [
       "\\begin{tabular}{r|lllll}\n",
       " id & date & rainfall & longitude & latitude\\\\\n",
       "\\hline\n",
       "\t 7674                & 2017-04-01T00:00:00 & 0                   & -79.46603           & 43.69735           \\\\\n",
       "\t 7674                & 2017-04-01T00:05:00 & 0                   & -79.46603           & 43.69735           \\\\\n",
       "\t 7674                & 2017-04-01T00:10:00 & 0                   & -79.46603           & 43.69735           \\\\\n",
       "\t 7674                & 2017-04-01T00:15:00 & 0                   & -79.46603           & 43.69735           \\\\\n",
       "\t 7674                & 2017-04-01T00:20:00 & 0                   & -79.46603           & 43.69735           \\\\\n",
       "\t 7674                & 2017-04-01T00:25:00 & 0                   & -79.46603           & 43.69735           \\\\\n",
       "\\end{tabular}\n"
      ],
      "text/markdown": [
       "\n",
       "id | date | rainfall | longitude | latitude | \n",
       "|---|---|---|---|---|---|\n",
       "| 7674                | 2017-04-01T00:00:00 | 0                   | -79.46603           | 43.69735            | \n",
       "| 7674                | 2017-04-01T00:05:00 | 0                   | -79.46603           | 43.69735            | \n",
       "| 7674                | 2017-04-01T00:10:00 | 0                   | -79.46603           | 43.69735            | \n",
       "| 7674                | 2017-04-01T00:15:00 | 0                   | -79.46603           | 43.69735            | \n",
       "| 7674                | 2017-04-01T00:20:00 | 0                   | -79.46603           | 43.69735            | \n",
       "| 7674                | 2017-04-01T00:25:00 | 0                   | -79.46603           | 43.69735            | \n",
       "\n",
       "\n"
      ],
      "text/plain": [
       "  id   date                rainfall longitude latitude\n",
       "1 7674 2017-04-01T00:00:00 0        -79.46603 43.69735\n",
       "2 7674 2017-04-01T00:05:00 0        -79.46603 43.69735\n",
       "3 7674 2017-04-01T00:10:00 0        -79.46603 43.69735\n",
       "4 7674 2017-04-01T00:15:00 0        -79.46603 43.69735\n",
       "5 7674 2017-04-01T00:20:00 0        -79.46603 43.69735\n",
       "6 7674 2017-04-01T00:25:00 0        -79.46603 43.69735"
      ]
     },
     "metadata": {},
     "output_type": "display_data"
    }
   ],
   "source": [
    "head(total)"
   ]
  },
  {
   "cell_type": "markdown",
   "metadata": {},
   "source": [
    "Excellent!\n",
    "Let's take a look at that date column. Since part of data cleaning is making our variables easier to work with we probably want to be able to pick apart the dates by year, day, month, and hour."
   ]
  },
  {
   "cell_type": "code",
   "execution_count": 8,
   "metadata": {},
   "outputs": [
    {
     "data": {
      "text/html": [
       "'factor'"
      ],
      "text/latex": [
       "'factor'"
      ],
      "text/markdown": [
       "'factor'"
      ],
      "text/plain": [
       "[1] \"factor\""
      ]
     },
     "metadata": {},
     "output_type": "display_data"
    }
   ],
   "source": [
    "class(total$date)"
   ]
  },
  {
   "cell_type": "markdown",
   "metadata": {},
   "source": [
    "A factor?!\n",
    "This is a strange data type. It stores values as a vector, but has an additional attribute: levels. These levels contain all of the unique values in the vector.\n",
    "Unfortunately, this isn't very useful to us, because there are going to be a lot of levels in this dataframe, since each measurement is taken a short time apart for an entire month!\n",
    "What we want to do is format our dates so that we can access them easily.\n",
    "For this, we're going to use a function in R called strptime(). Let's go over its documentation."
   ]
  },
  {
   "cell_type": "code",
   "execution_count": 9,
   "metadata": {
    "collapsed": true
   },
   "outputs": [],
   "source": [
    "?strptime()"
   ]
  },
  {
   "cell_type": "markdown",
   "metadata": {},
   "source": [
    "_Functions to convert between character representations and objects of classes \"POSIXlt\" and \"POSIXct\" representing calendar dates and times._\n",
    "\n",
    "Excellent! This is just what we need.\n",
    "To use this function, we need to pass in the things we need to format - in our case, the date coloumn - and the format that the date is in.\n",
    "How do we write the format? Looking at the documentation, what we want is\n",
    "%Y-%m-%dT%H:%M:%S\n",
    "Because that is how the data in our dataframe looks like, with a T in the middle.\n",
    "Let's go ahead and pass that in!"
   ]
  },
  {
   "cell_type": "code",
   "execution_count": 10,
   "metadata": {},
   "outputs": [
    {
     "data": {
      "text/plain": [
       "[1] \"2017-04-01 00:00:00 EDT\" \"2017-04-01 00:05:00 EDT\"\n",
       "[3] \"2017-04-01 00:10:00 EDT\" \"2017-04-01 00:15:00 EDT\"\n",
       "[5] \"2017-04-01 00:20:00 EDT\" \"2017-04-01 00:25:00 EDT\""
      ]
     },
     "metadata": {},
     "output_type": "display_data"
    },
    {
     "data": {
      "text/html": [
       "<ol class=list-inline>\n",
       "\t<li>'POSIXlt'</li>\n",
       "\t<li>'POSIXt'</li>\n",
       "</ol>\n"
      ],
      "text/latex": [
       "\\begin{enumerate*}\n",
       "\\item 'POSIXlt'\n",
       "\\item 'POSIXt'\n",
       "\\end{enumerate*}\n"
      ],
      "text/markdown": [
       "1. 'POSIXlt'\n",
       "2. 'POSIXt'\n",
       "\n",
       "\n"
      ],
      "text/plain": [
       "[1] \"POSIXlt\" \"POSIXt\" "
      ]
     },
     "metadata": {},
     "output_type": "display_data"
    }
   ],
   "source": [
    "formattedTime<-strptime(total$date, format='%Y-%m-%dT%H:%M:%S')\n",
    "head(formattedTime)\n",
    "class(formattedTime[1])"
   ]
  },
  {
   "cell_type": "markdown",
   "metadata": {},
   "source": [
    "Hooray! Now our dates are easily accessible. Give it a shot - use your '$' operator and ask for the month of the second row!\n",
    "In order to know what to ask for, use unlist() on an element in the coloumn."
   ]
  },
  {
   "cell_type": "code",
   "execution_count": 11,
   "metadata": {},
   "outputs": [
    {
     "data": {
      "text/html": [
       "<dl class=dl-horizontal>\n",
       "\t<dt>sec</dt>\n",
       "\t\t<dd>'0'</dd>\n",
       "\t<dt>min</dt>\n",
       "\t\t<dd>'0'</dd>\n",
       "\t<dt>hour</dt>\n",
       "\t\t<dd>'0'</dd>\n",
       "\t<dt>mday</dt>\n",
       "\t\t<dd>'1'</dd>\n",
       "\t<dt>mon</dt>\n",
       "\t\t<dd>'3'</dd>\n",
       "\t<dt>year</dt>\n",
       "\t\t<dd>'117'</dd>\n",
       "\t<dt>wday</dt>\n",
       "\t\t<dd>'6'</dd>\n",
       "\t<dt>yday</dt>\n",
       "\t\t<dd>'90'</dd>\n",
       "\t<dt>isdst</dt>\n",
       "\t\t<dd>'1'</dd>\n",
       "\t<dt>zone</dt>\n",
       "\t\t<dd>'EDT'</dd>\n",
       "\t<dt>gmtoff</dt>\n",
       "\t\t<dd>'NA'</dd>\n",
       "</dl>\n"
      ],
      "text/latex": [
       "\\begin{description*}\n",
       "\\item[sec] '0'\n",
       "\\item[min] '0'\n",
       "\\item[hour] '0'\n",
       "\\item[mday] '1'\n",
       "\\item[mon] '3'\n",
       "\\item[year] '117'\n",
       "\\item[wday] '6'\n",
       "\\item[yday] '90'\n",
       "\\item[isdst] '1'\n",
       "\\item[zone] 'EDT'\n",
       "\\item[gmtoff] 'NA'\n",
       "\\end{description*}\n"
      ],
      "text/markdown": [
       "sec\n",
       ":   '0'min\n",
       ":   '0'hour\n",
       ":   '0'mday\n",
       ":   '1'mon\n",
       ":   '3'year\n",
       ":   '117'wday\n",
       ":   '6'yday\n",
       ":   '90'isdst\n",
       ":   '1'zone\n",
       ":   'EDT'gmtoff\n",
       ":   'NA'\n",
       "\n"
      ],
      "text/plain": [
       "   sec    min   hour   mday    mon   year   wday   yday  isdst   zone gmtoff \n",
       "   \"0\"    \"0\"    \"0\"    \"1\"    \"3\"  \"117\"    \"6\"   \"90\"    \"1\"  \"EDT\"     NA "
      ]
     },
     "metadata": {},
     "output_type": "display_data"
    }
   ],
   "source": [
    "unlist(formattedTime[1])"
   ]
  },
  {
   "cell_type": "code",
   "execution_count": 12,
   "metadata": {},
   "outputs": [
    {
     "data": {
      "text/html": [
       "3"
      ],
      "text/latex": [
       "3"
      ],
      "text/markdown": [
       "3"
      ],
      "text/plain": [
       "[1] 3"
      ]
     },
     "metadata": {},
     "output_type": "display_data"
    }
   ],
   "source": [
    "formattedTime[1]$mon"
   ]
  },
  {
   "cell_type": "markdown",
   "metadata": {},
   "source": [
    "3? But isn't this dataset April, the _fourth_ month?\n",
    "This is a feature to note about POSIX data types - they start counting at 0, not one. This is because POSIX are very old formats as far as computers are concerned.\n",
    "So now that we have formatted our dates to be easily accessible, we can go ahead and replace all those factors with their POSIX counterparts."
   ]
  },
  {
   "cell_type": "code",
   "execution_count": 13,
   "metadata": {},
   "outputs": [
    {
     "data": {
      "text/html": [
       "<table>\n",
       "<thead><tr><th scope=col>id</th><th scope=col>date</th><th scope=col>rainfall</th><th scope=col>longitude</th><th scope=col>latitude</th></tr></thead>\n",
       "<tbody>\n",
       "\t<tr><td>7674               </td><td>2017-04-01 00:00:00</td><td>0                  </td><td>-79.46603          </td><td>43.69735           </td></tr>\n",
       "\t<tr><td>7674               </td><td>2017-04-01 00:05:00</td><td>0                  </td><td>-79.46603          </td><td>43.69735           </td></tr>\n",
       "\t<tr><td>7674               </td><td>2017-04-01 00:10:00</td><td>0                  </td><td>-79.46603          </td><td>43.69735           </td></tr>\n",
       "\t<tr><td>7674               </td><td>2017-04-01 00:15:00</td><td>0                  </td><td>-79.46603          </td><td>43.69735           </td></tr>\n",
       "\t<tr><td>7674               </td><td>2017-04-01 00:20:00</td><td>0                  </td><td>-79.46603          </td><td>43.69735           </td></tr>\n",
       "\t<tr><td>7674               </td><td>2017-04-01 00:25:00</td><td>0                  </td><td>-79.46603          </td><td>43.69735           </td></tr>\n",
       "</tbody>\n",
       "</table>\n"
      ],
      "text/latex": [
       "\\begin{tabular}{r|lllll}\n",
       " id & date & rainfall & longitude & latitude\\\\\n",
       "\\hline\n",
       "\t 7674                & 2017-04-01 00:00:00 & 0                   & -79.46603           & 43.69735           \\\\\n",
       "\t 7674                & 2017-04-01 00:05:00 & 0                   & -79.46603           & 43.69735           \\\\\n",
       "\t 7674                & 2017-04-01 00:10:00 & 0                   & -79.46603           & 43.69735           \\\\\n",
       "\t 7674                & 2017-04-01 00:15:00 & 0                   & -79.46603           & 43.69735           \\\\\n",
       "\t 7674                & 2017-04-01 00:20:00 & 0                   & -79.46603           & 43.69735           \\\\\n",
       "\t 7674                & 2017-04-01 00:25:00 & 0                   & -79.46603           & 43.69735           \\\\\n",
       "\\end{tabular}\n"
      ],
      "text/markdown": [
       "\n",
       "id | date | rainfall | longitude | latitude | \n",
       "|---|---|---|---|---|---|\n",
       "| 7674                | 2017-04-01 00:00:00 | 0                   | -79.46603           | 43.69735            | \n",
       "| 7674                | 2017-04-01 00:05:00 | 0                   | -79.46603           | 43.69735            | \n",
       "| 7674                | 2017-04-01 00:10:00 | 0                   | -79.46603           | 43.69735            | \n",
       "| 7674                | 2017-04-01 00:15:00 | 0                   | -79.46603           | 43.69735            | \n",
       "| 7674                | 2017-04-01 00:20:00 | 0                   | -79.46603           | 43.69735            | \n",
       "| 7674                | 2017-04-01 00:25:00 | 0                   | -79.46603           | 43.69735            | \n",
       "\n",
       "\n"
      ],
      "text/plain": [
       "  id   date                rainfall longitude latitude\n",
       "1 7674 2017-04-01 00:00:00 0        -79.46603 43.69735\n",
       "2 7674 2017-04-01 00:05:00 0        -79.46603 43.69735\n",
       "3 7674 2017-04-01 00:10:00 0        -79.46603 43.69735\n",
       "4 7674 2017-04-01 00:15:00 0        -79.46603 43.69735\n",
       "5 7674 2017-04-01 00:20:00 0        -79.46603 43.69735\n",
       "6 7674 2017-04-01 00:25:00 0        -79.46603 43.69735"
      ]
     },
     "metadata": {},
     "output_type": "display_data"
    }
   ],
   "source": [
    "total$date<-formattedTime\n",
    "head(total)"
   ]
  },
  {
   "cell_type": "markdown",
   "metadata": {},
   "source": [
    "#### Gathering Insights\n",
    "\n",
    "With our data cleaned and normalized we feature engineer to discover more patterns and insights within our dataset. The goal of feature engineering is to provide more variables for our algorithms to play with. By manually identifying these patterns, the computer doesn't have to expend additional effort to discover these patterns algorithmically.\n",
    "This is the hardest part of data science so don't worry if you need more explanation or aren't good at it. Feel free to message @wooden-plancks on Slack if you want further explanation!\n",
    "From experience, steps 1-3 should take up 90% of your time. It also just so happens that the first three steps occur organically with the inception of your questions. Once you start looking at the data, you'll want to answer some questions... which will lead you to clean the data to gather insights from it. Then you may have more questions so you'll repeat the cycle."
   ]
  },
  {
   "cell_type": "markdown",
   "metadata": {},
   "source": [
    "We can ask our first question of our data: does it rain more closer to Lake Ontario? If our hypothesis is correct, we know that as latitude decreases, precipitation should increase.\n",
    "To see if there is a correlation between the two, we can use the cor() function."
   ]
  },
  {
   "cell_type": "code",
   "execution_count": 16,
   "metadata": {},
   "outputs": [
    {
     "data": {
      "text/html": [
       "0.00363932826575498"
      ],
      "text/latex": [
       "0.00363932826575498"
      ],
      "text/markdown": [
       "0.00363932826575498"
      ],
      "text/plain": [
       "[1] 0.003639328"
      ]
     },
     "metadata": {},
     "output_type": "display_data"
    }
   ],
   "source": [
    "cor(total$latitude, total$rainfall)"
   ]
  },
  {
   "cell_type": "markdown",
   "metadata": {},
   "source": [
    "There's basically no correlation! There could be multiple reasons for this, including if the relationship between latitude and precipitation being non-linear or if the range in latitude is just too small.\n",
    "We can keep on investigating to make sure that there is no significant correlation, but for now let's keep asking questions.\n",
    "For example, let's ask this question:\n",
    "\n",
    "In April, did it rain more in the morning?\n",
    "To figure this out, we should look at the total rainfall for the entire month and group them by hours. We can do this using aggregate(). aggregate() takes in three things - the function you want to apply to your data, the data you want to apply the function to, and the list of values you want to aggregate your data by."
   ]
  },
  {
   "cell_type": "code",
   "execution_count": 17,
   "metadata": {},
   "outputs": [
    {
     "data": {
      "text/html": [
       "<table>\n",
       "<thead><tr><th scope=col>Group.1</th><th scope=col>x</th></tr></thead>\n",
       "<tbody>\n",
       "\t<tr><td> 0         </td><td>0.008679317</td></tr>\n",
       "\t<tr><td> 1         </td><td>0.004247254</td></tr>\n",
       "\t<tr><td> 2         </td><td>0.001572286</td></tr>\n",
       "\t<tr><td> 3         </td><td>0.001086207</td></tr>\n",
       "\t<tr><td> 4         </td><td>0.001200000</td></tr>\n",
       "\t<tr><td> 5         </td><td>0.001410983</td></tr>\n",
       "\t<tr><td> 6         </td><td>0.003339464</td></tr>\n",
       "\t<tr><td> 7         </td><td>0.014837165</td></tr>\n",
       "\t<tr><td> 8         </td><td>0.013294636</td></tr>\n",
       "\t<tr><td> 9         </td><td>0.015660920</td></tr>\n",
       "\t<tr><td>10         </td><td>0.029153129</td></tr>\n",
       "\t<tr><td>11         </td><td>0.018431034</td></tr>\n",
       "\t<tr><td>12         </td><td>0.012124393</td></tr>\n",
       "\t<tr><td>13         </td><td>0.012921259</td></tr>\n",
       "\t<tr><td>14         </td><td>0.014349425</td></tr>\n",
       "\t<tr><td>15         </td><td>0.012840102</td></tr>\n",
       "\t<tr><td>16         </td><td>0.016264623</td></tr>\n",
       "\t<tr><td>17         </td><td>0.019460026</td></tr>\n",
       "\t<tr><td>18         </td><td>0.028749042</td></tr>\n",
       "\t<tr><td>19         </td><td>0.014397446</td></tr>\n",
       "\t<tr><td>20         </td><td>0.004960409</td></tr>\n",
       "\t<tr><td>21         </td><td>0.008862452</td></tr>\n",
       "\t<tr><td>22         </td><td>0.009189911</td></tr>\n",
       "\t<tr><td>23         </td><td>0.010778799</td></tr>\n",
       "</tbody>\n",
       "</table>\n"
      ],
      "text/latex": [
       "\\begin{tabular}{r|ll}\n",
       " Group.1 & x\\\\\n",
       "\\hline\n",
       "\t  0          & 0.008679317\\\\\n",
       "\t  1          & 0.004247254\\\\\n",
       "\t  2          & 0.001572286\\\\\n",
       "\t  3          & 0.001086207\\\\\n",
       "\t  4          & 0.001200000\\\\\n",
       "\t  5          & 0.001410983\\\\\n",
       "\t  6          & 0.003339464\\\\\n",
       "\t  7          & 0.014837165\\\\\n",
       "\t  8          & 0.013294636\\\\\n",
       "\t  9          & 0.015660920\\\\\n",
       "\t 10          & 0.029153129\\\\\n",
       "\t 11          & 0.018431034\\\\\n",
       "\t 12          & 0.012124393\\\\\n",
       "\t 13          & 0.012921259\\\\\n",
       "\t 14          & 0.014349425\\\\\n",
       "\t 15          & 0.012840102\\\\\n",
       "\t 16          & 0.016264623\\\\\n",
       "\t 17          & 0.019460026\\\\\n",
       "\t 18          & 0.028749042\\\\\n",
       "\t 19          & 0.014397446\\\\\n",
       "\t 20          & 0.004960409\\\\\n",
       "\t 21          & 0.008862452\\\\\n",
       "\t 22          & 0.009189911\\\\\n",
       "\t 23          & 0.010778799\\\\\n",
       "\\end{tabular}\n"
      ],
      "text/markdown": [
       "\n",
       "Group.1 | x | \n",
       "|---|---|---|---|---|---|---|---|---|---|---|---|---|---|---|---|---|---|---|---|---|---|---|---|\n",
       "|  0          | 0.008679317 | \n",
       "|  1          | 0.004247254 | \n",
       "|  2          | 0.001572286 | \n",
       "|  3          | 0.001086207 | \n",
       "|  4          | 0.001200000 | \n",
       "|  5          | 0.001410983 | \n",
       "|  6          | 0.003339464 | \n",
       "|  7          | 0.014837165 | \n",
       "|  8          | 0.013294636 | \n",
       "|  9          | 0.015660920 | \n",
       "| 10          | 0.029153129 | \n",
       "| 11          | 0.018431034 | \n",
       "| 12          | 0.012124393 | \n",
       "| 13          | 0.012921259 | \n",
       "| 14          | 0.014349425 | \n",
       "| 15          | 0.012840102 | \n",
       "| 16          | 0.016264623 | \n",
       "| 17          | 0.019460026 | \n",
       "| 18          | 0.028749042 | \n",
       "| 19          | 0.014397446 | \n",
       "| 20          | 0.004960409 | \n",
       "| 21          | 0.008862452 | \n",
       "| 22          | 0.009189911 | \n",
       "| 23          | 0.010778799 | \n",
       "\n",
       "\n"
      ],
      "text/plain": [
       "   Group.1 x          \n",
       "1   0      0.008679317\n",
       "2   1      0.004247254\n",
       "3   2      0.001572286\n",
       "4   3      0.001086207\n",
       "5   4      0.001200000\n",
       "6   5      0.001410983\n",
       "7   6      0.003339464\n",
       "8   7      0.014837165\n",
       "9   8      0.013294636\n",
       "10  9      0.015660920\n",
       "11 10      0.029153129\n",
       "12 11      0.018431034\n",
       "13 12      0.012124393\n",
       "14 13      0.012921259\n",
       "15 14      0.014349425\n",
       "16 15      0.012840102\n",
       "17 16      0.016264623\n",
       "18 17      0.019460026\n",
       "19 18      0.028749042\n",
       "20 19      0.014397446\n",
       "21 20      0.004960409\n",
       "22 21      0.008862452\n",
       "23 22      0.009189911\n",
       "24 23      0.010778799"
      ]
     },
     "metadata": {},
     "output_type": "display_data"
    },
    {
     "data": {
      "text/html": [
       "<table>\n",
       "<thead><tr><th></th><th scope=col>x</th></tr></thead>\n",
       "<tbody>\n",
       "\t<tr><th scope=row>Group.1</th><td>0.408948</td></tr>\n",
       "</tbody>\n",
       "</table>\n"
      ],
      "text/latex": [
       "\\begin{tabular}{r|l}\n",
       "  & x\\\\\n",
       "\\hline\n",
       "\tGroup.1 & 0.408948\\\\\n",
       "\\end{tabular}\n"
      ],
      "text/markdown": [
       "\n",
       "| <!--/--> | x | \n",
       "|---|\n",
       "| Group.1 | 0.408948 | \n",
       "\n",
       "\n"
      ],
      "text/plain": [
       "        x       \n",
       "Group.1 0.408948"
      ]
     },
     "metadata": {},
     "output_type": "display_data"
    }
   ],
   "source": [
    "myData<-aggregate(total$rainfall, by=list(total$date$hour),FUN=mean)\n",
    "myData\n",
    "cor(myData[1], myData[2])"
   ]
  },
  {
   "cell_type": "markdown",
   "metadata": {},
   "source": [
    "Hey, this is interesting - there's a positive correlation! And not that much of a small one, either.\n",
    "Can we say, tentitively, that it rains more later on in the day?\n",
    "Obviously the correlation isn't a very effective way to describe the relationship. There are better, more complicated answers to our question we can get by generating models."
   ]
  },
  {
   "cell_type": "markdown",
   "metadata": {},
   "source": [
    "#### Generating the models\n",
    "Once our dataset has been prepared (and you've answered most of your simple questions), we can finally have some fun and do some machine learning to make predictions! Depending on the type of dataset, you may want to implement a regression algorithm to predict a numeric value (like predicting the speed of a car given these variables) or sort variables into different categories (like passing or failing a test). We'll dive deeper into machine learning in workshop #3."
   ]
  },
  {
   "cell_type": "markdown",
   "metadata": {},
   "source": [
    "All of this will build up and give you trends or surprise you with the absence thereof. In any way, you'll be telling a story."
   ]
  },
  {
   "cell_type": "markdown",
   "metadata": {},
   "source": [
    "#### Storytelling\n",
    "The purpose of data science is to tell a story. We crunch numbers to discover new things and to propose new policies. Our world will crumble if decisions were not backed by data. So whatever you do when you're analyzing your dataset(s) always keep this purpose in the back of your mind."
   ]
  },
  {
   "cell_type": "markdown",
   "metadata": {},
   "source": [
    "These workshops will help you on your way to telling a story with your data. You have a long way to go, but for now, congratulations on completing Week One! You can now manipulate and clean, and, using what you have learned, no dataset will be too big!"
   ]
  }
 ],
 "metadata": {
  "kernelspec": {
   "display_name": "R",
   "language": "R",
   "name": "ir"
  },
  "language_info": {
   "codemirror_mode": "r",
   "file_extension": ".r",
   "mimetype": "text/x-r-source",
   "name": "R",
   "pygments_lexer": "r",
   "version": "3.4.1"
  }
 },
 "nbformat": 4,
 "nbformat_minor": 2
}
